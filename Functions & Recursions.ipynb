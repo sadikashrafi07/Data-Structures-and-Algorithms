{
 "cells": [
  {
   "cell_type": "markdown",
   "id": "93284c07",
   "metadata": {},
   "source": [
    "### Time Complexities"
   ]
  },
  {
   "cell_type": "markdown",
   "id": "0f814e9e",
   "metadata": {},
   "source": [
    "<table style=\"width:100%; border-collapse: collapse;\">\n",
    "  <thead>\n",
    "    <tr>\n",
    "      <th style=\"border: 1px solid #ddd; padding: 8px; background-color: #f2f2f2; text-align: left;\">Complexity</th>\n",
    "      <th style=\"border: 1px solid #ddd; padding: 8px; background-color: #f2f2f2; text-align: left;\">When it happens</th>\n",
    "      <th style=\"border: 1px solid #ddd; padding: 8px; background-color: #f2f2f2; text-align: left;\">Example</th>\n",
    "    </tr>\n",
    "  </thead>\n",
    "  <tbody>\n",
    "    <tr>\n",
    "      <td style=\"border: 1px solid #ddd; padding: 8px; text-align: left;\">O(1) Constant</td>\n",
    "      <td style=\"border: 1px solid #ddd; padding: 8px; text-align: left;\">No matter <code>n</code>, work is fixed</td>\n",
    "      <td style=\"border: 1px solid #ddd; padding: 8px; text-align: left;\"><code>return x + y</code></td>\n",
    "    </tr>\n",
    "    <tr>\n",
    "      <td style=\"border: 1px solid #ddd; padding: 8px; text-align: left;\">O(log n) Logarithmic</td>\n",
    "      <td style=\"border: 1px solid #ddd; padding: 8px; text-align: left;\">Divide problem in half each time</td>\n",
    "      <td style=\"border: 1px solid #ddd; padding: 8px; text-align: left;\">Binary Search</td>\n",
    "    </tr>\n",
    "    <tr>\n",
    "      <td style=\"border: 1px solid #ddd; padding: 8px; text-align: left;\">O(n) Linear</td>\n",
    "      <td style=\"border: 1px solid #ddd; padding: 8px; text-align: left;\">One loop over all elements</td>\n",
    "      <td style=\"border: 1px solid #ddd; padding: 8px; text-align: left;\">Printing array</td>\n",
    "    </tr>\n",
    "    <tr>\n",
    "      <td style=\"border: 1px solid #ddd; padding: 8px; text-align: left;\">O(n log n) Linearithmic</td>\n",
    "      <td style=\"border: 1px solid #ddd; padding: 8px; text-align: left;\">Loop with divide & conquer</td>\n",
    "      <td style=\"border: 1px solid #ddd; padding: 8px; text-align: left;\">Merge Sort</td>\n",
    "    </tr>\n",
    "    <tr>\n",
    "      <td style=\"border: 1px solid #ddd; padding: 8px; text-align: left;\">O(n²) Quadratic</td>\n",
    "      <td style=\"border: 1px solid #ddd; padding: 8px; text-align: left;\">Two nested loops</td>\n",
    "      <td style=\"border: 1px solid #ddd; padding: 8px; text-align: left;\">Comparing every pair</td>\n",
    "    </tr>\n",
    "    <tr>\n",
    "      <td style=\"border: 1px solid #ddd; padding: 8px; text-align: left;\">O(2ⁿ) Exponential</td>\n",
    "      <td style=\"border: 1px solid #ddd; padding: 8px; text-align: left;\">Try all possibilities</td>\n",
    "      <td style=\"border: 1px solid #ddd; padding: 8px; text-align: left;\">Subset generation</td>\n",
    "    </tr>\n",
    "    <tr>\n",
    "      <td style=\"border: 1px solid #ddd; padding: 8px; text-align: left;\">O(n!) Factorial</td>\n",
    "      <td style=\"border: 1px solid #ddd; padding: 8px; text-align: left;\">Try all permutations</td>\n",
    "      <td style=\"border: 1px solid #ddd; padding: 8px; text-align: left;\">Travelling salesman brute force</td>\n",
    "    </tr>\n",
    "  </tbody>\n",
    "</table>\n"
   ]
  },
  {
   "cell_type": "markdown",
   "id": "cd364528",
   "metadata": {},
   "source": [
    "#### Recursion"
   ]
  },
  {
   "cell_type": "markdown",
   "id": "a28355d1",
   "metadata": {},
   "source": [
    "<table style=\"width:100%; border-collapse: collapse;\">\n",
    "  <thead>\n",
    "    <tr>\n",
    "      <th style=\"border: 1px solid #ddd; padding: 8px; background-color: #f2f2f2; text-align: left;\">Complexity</th>\n",
    "      <th style=\"border: 1px solid #ddd; padding: 8px; background-color: #f2f2f2; text-align: left;\">When it happens (Recursion)</th>\n",
    "      <th style=\"border: 1px solid #ddd; padding: 8px; background-color: #f2f2f2; text-align: left;\">Example</th>\n",
    "    </tr>\n",
    "  </thead>\n",
    "  <tbody>\n",
    "    <tr>\n",
    "      <td style=\"border: 1px solid #ddd; padding: 8px; text-align: left;\">O(1) Constant</td>\n",
    "      <td style=\"border: 1px solid #ddd; padding: 8px; text-align: left;\">Single recursive call without looping</td>\n",
    "      <td style=\"border: 1px solid #ddd; padding: 8px; text-align: left;\"><code>if n == 0: return 1</code></td>\n",
    "    </tr>\n",
    "    <tr>\n",
    "      <td style=\"border: 1px solid #ddd; padding: 8px; text-align: left;\">O(log n) Logarithmic</td>\n",
    "      <td style=\"border: 1px solid #ddd; padding: 8px; text-align: left;\">Each call halves the problem</td>\n",
    "      <td style=\"border: 1px solid #ddd; padding: 8px; text-align: left;\"><code>Binary Search recursion</code></td>\n",
    "    </tr>\n",
    "    <tr>\n",
    "      <td style=\"border: 1px solid #ddd; padding: 8px; text-align: left;\">O(n) Linear</td>\n",
    "      <td style=\"border: 1px solid #ddd; padding: 8px; text-align: left;\">One call per element</td>\n",
    "      <td style=\"border: 1px solid #ddd; padding: 8px; text-align: left;\"><code>Sum of array recursively</code></td>\n",
    "    </tr>\n",
    "    <tr>\n",
    "      <td style=\"border: 1px solid #ddd; padding: 8px; text-align: left;\">O(n log n) Linearithmic</td>\n",
    "      <td style=\"border: 1px solid #ddd; padding: 8px; text-align: left;\">Divide & conquer with merge step</td>\n",
    "      <td style=\"border: 1px solid #ddd; padding: 8px; text-align: left;\"><code>Merge Sort recursion</code></td>\n",
    "    </tr>\n",
    "    <tr>\n",
    "      <td style=\"border: 1px solid #ddd; padding: 8px; text-align: left;\">O(n²) Quadratic</td>\n",
    "      <td style=\"border: 1px solid #ddd; padding: 8px; text-align: left;\">Recursive call inside a loop over n items</td>\n",
    "      <td style=\"border: 1px solid #ddd; padding: 8px; text-align: left;\"><code>Check subsequence with recursion in loop</code></td>\n",
    "    </tr>\n",
    "    <tr>\n",
    "      <td style=\"border: 1px solid #ddd; padding: 8px; text-align: left;\">O(2ⁿ) Exponential</td>\n",
    "      <td style=\"border: 1px solid #ddd; padding: 8px; text-align: left;\">Two recursive calls for each case</td>\n",
    "      <td style=\"border: 1px solid #ddd; padding: 8px; text-align: left;\"><code>Fibonacci recursion</code></td>\n",
    "    </tr>\n",
    "    <tr>\n",
    "      <td style=\"border: 1px solid #ddd; padding: 8px; text-align: left;\">O(n!) Factorial</td>\n",
    "      <td style=\"border: 1px solid #ddd; padding: 8px; text-align: left;\">Generate all permutations recursively</td>\n",
    "      <td style=\"border: 1px solid #ddd; padding: 8px; text-align: left;\"><code>Backtracking permutations</code></td>\n",
    "    </tr>\n",
    "  </tbody>\n",
    "</table>\n"
   ]
  },
  {
   "cell_type": "markdown",
   "id": "601483c2",
   "metadata": {},
   "source": [
    "### Functions "
   ]
  },
  {
   "cell_type": "markdown",
   "id": "b4bb91a0",
   "metadata": {},
   "source": [
    "Functions are block of statements that performs a specific task"
   ]
  },
  {
   "cell_type": "code",
   "execution_count": 5,
   "id": "da63adf8",
   "metadata": {},
   "outputs": [
    {
     "data": {
      "text/plain": [
       "5"
      ]
     },
     "execution_count": 5,
     "metadata": {},
     "output_type": "execute_result"
    }
   ],
   "source": [
    "def sum(a,b):\n",
    "    sum = a+b\n",
    "    return sum\n",
    "\n",
    "sum(2,3)"
   ]
  },
  {
   "cell_type": "code",
   "execution_count": 6,
   "id": "f208d03b",
   "metadata": {},
   "outputs": [
    {
     "name": "stdout",
     "output_type": "stream",
     "text": [
      "Hello World\n"
     ]
    }
   ],
   "source": [
    "def hello():\n",
    "    print(\"Hello World\")\n",
    "    \n",
    "hello()"
   ]
  },
  {
   "cell_type": "markdown",
   "id": "06444aa4",
   "metadata": {},
   "source": [
    "The return statement in a function allows you to send back (return) a result from the function to the caller. This makes functions versatile and reusable because they can produce output that can be used elsewhere in the program.\n",
    "\n",
    "If we perform an operation inside a function but do not return the result, the result is not accessible outside the function"
   ]
  },
  {
   "cell_type": "code",
   "execution_count": 10,
   "id": "09dba0ef",
   "metadata": {},
   "outputs": [
    {
     "data": {
      "text/plain": [
       "96.66666666666667"
      ]
     },
     "execution_count": 10,
     "metadata": {},
     "output_type": "execute_result"
    }
   ],
   "source": [
    "## WAP to calculate average of 3 numbers\n",
    "\n",
    "def average(a,b,c):\n",
    "    sum = a+b+c\n",
    "    avg = sum/3\n",
    "    return avg\n",
    "\n",
    "average(98,97,95)"
   ]
  },
  {
   "cell_type": "markdown",
   "id": "ceb3bf0c",
   "metadata": {},
   "source": [
    "### Default parameters"
   ]
  },
  {
   "cell_type": "code",
   "execution_count": 1,
   "id": "0b90b284",
   "metadata": {},
   "outputs": [],
   "source": [
    "def cal_prod(a,b):\n",
    "    return(a*b)\n",
    "cal_prod(4,6)"
   ]
  },
  {
   "cell_type": "code",
   "execution_count": 15,
   "id": "8f382125",
   "metadata": {},
   "outputs": [
    {
     "data": {
      "text/plain": [
       "5"
      ]
     },
     "execution_count": 15,
     "metadata": {},
     "output_type": "execute_result"
    }
   ],
   "source": [
    "def cal_prod(a,b=5):\n",
    "    return(a*b)\n",
    "cal_prod(1)"
   ]
  },
  {
   "cell_type": "code",
   "execution_count": 16,
   "id": "daf34181",
   "metadata": {},
   "outputs": [
    {
     "ename": "SyntaxError",
     "evalue": "non-default argument follows default argument (1144174367.py, line 1)",
     "output_type": "error",
     "traceback": [
      "\u001b[0;36m  Cell \u001b[0;32mIn[16], line 1\u001b[0;36m\u001b[0m\n\u001b[0;31m    def cal_prod(a=5,b):\u001b[0m\n\u001b[0m                     ^\u001b[0m\n\u001b[0;31mSyntaxError\u001b[0m\u001b[0;31m:\u001b[0m non-default argument follows default argument\n"
     ]
    }
   ],
   "source": [
    "def cal_prod(a=5,b):\n",
    "    return(a*b)\n",
    "cal_prod(1)"
   ]
  },
  {
   "cell_type": "markdown",
   "id": "32867589",
   "metadata": {},
   "source": [
    "we give default values from last"
   ]
  },
  {
   "cell_type": "markdown",
   "id": "717f456f",
   "metadata": {},
   "source": [
    "### Practice questions"
   ]
  },
  {
   "cell_type": "code",
   "execution_count": 17,
   "id": "8d6c3a8f",
   "metadata": {},
   "outputs": [
    {
     "name": "stdout",
     "output_type": "stream",
     "text": [
      "6\n"
     ]
    }
   ],
   "source": [
    "### WAF to print the length of a list.(list is the parameter)\n",
    "\n",
    "cities = [\"noida\",\"delhi\",\"hyderabad\",\"chennai\",\"mumbai\",\"pune\"]\n",
    "\n",
    "def print_len(list):\n",
    "    print(len(list))\n",
    "    \n",
    "print_len(cities)\n",
    "    "
   ]
  },
  {
   "cell_type": "code",
   "execution_count": 20,
   "id": "f720ef2b",
   "metadata": {},
   "outputs": [
    {
     "name": "stdout",
     "output_type": "stream",
     "text": [
      "noida delhi hyderabad chennai mumbai pune "
     ]
    }
   ],
   "source": [
    "### WAF to print the elements of a list in a single line. (list is the parameter)\n",
    "\n",
    "cities = [\"noida\",\"delhi\",\"hyderabad\",\"chennai\",\"mumbai\",\"pune\"]\n",
    "\n",
    "def print_list(list):\n",
    "    for i in cities:\n",
    "        print(i, end = \" \")\n",
    "print_list(cities)"
   ]
  },
  {
   "cell_type": "code",
   "execution_count": 31,
   "id": "617bb392",
   "metadata": {},
   "outputs": [
    {
     "name": "stdout",
     "output_type": "stream",
     "text": [
      "1307674368000\n"
     ]
    }
   ],
   "source": [
    "### WAF to find the factorial of n. (n is the parameter)\n",
    "\n",
    "def fact(n):\n",
    "    fact = 1\n",
    "    for i in range(1,n+1):\n",
    "        fact *= i\n",
    "    print(fact)\n",
    "fact(15)"
   ]
  },
  {
   "cell_type": "code",
   "execution_count": 32,
   "id": "f0324b82",
   "metadata": {},
   "outputs": [
    {
     "name": "stdout",
     "output_type": "stream",
     "text": [
      "5 USD = 415 INR\n"
     ]
    }
   ],
   "source": [
    "### WAF to convert USD to INR\n",
    "\n",
    "def converter(usd_val):\n",
    "    inr_val = usd_val * 83\n",
    "    print(usd_val,\"USD =\",inr_val,\"INR\")\n",
    "    \n",
    "converter(5)\n"
   ]
  },
  {
   "cell_type": "code",
   "execution_count": 35,
   "id": "0265ebe9",
   "metadata": {},
   "outputs": [
    {
     "name": "stdout",
     "output_type": "stream",
     "text": [
      "Enter the number :3\n",
      "Given number is odd 3\n"
     ]
    }
   ],
   "source": [
    "### WAF to take input from user and tell the number is either even or odd\n",
    "\n",
    "n = int(input(\"Enter the number :\"))\n",
    "\n",
    "def ov_teller():\n",
    "    if n%2 == 0:\n",
    "        print(\"Given number is even\",n)\n",
    "    else :\n",
    "        print(\"Given number is odd\",n)\n",
    "        \n",
    "ov_teller()"
   ]
  },
  {
   "cell_type": "markdown",
   "id": "f5bb132f",
   "metadata": {},
   "source": [
    "### Recursion"
   ]
  },
  {
   "cell_type": "markdown",
   "id": "4a3944d1",
   "metadata": {},
   "source": [
    "When a function call itself repeatedly"
   ]
  },
  {
   "cell_type": "code",
   "execution_count": 40,
   "id": "2b680bff",
   "metadata": {},
   "outputs": [
    {
     "name": "stdout",
     "output_type": "stream",
     "text": [
      "5\n",
      "4\n",
      "3\n",
      "2\n",
      "1\n",
      "END\n",
      "END\n",
      "END\n",
      "END\n",
      "END\n"
     ]
    }
   ],
   "source": [
    "### recursive function\n",
    "\n",
    "def show(n):\n",
    "    if(n==0):\n",
    "        return\n",
    "    print(n)\n",
    "    show(n-1)\n",
    "    print(\"END\")\n",
    "show(5)"
   ]
  },
  {
   "cell_type": "code",
   "execution_count": 3,
   "id": "d9f67db3",
   "metadata": {},
   "outputs": [
    {
     "name": "stdout",
     "output_type": "stream",
     "text": [
      "120\n"
     ]
    }
   ],
   "source": [
    "## Recursive Function\n",
    "\n",
    "def fact(n):\n",
    "    if (n==1 or n==0):\n",
    "        return 1\n",
    "    return fact(n-1)*n\n",
    "print(fact(5))"
   ]
  },
  {
   "cell_type": "code",
   "execution_count": 7,
   "id": "e4fba9a9",
   "metadata": {},
   "outputs": [
    {
     "data": {
      "text/plain": [
       "5050"
      ]
     },
     "execution_count": 7,
     "metadata": {},
     "output_type": "execute_result"
    }
   ],
   "source": [
    "## Write a recursive function to calculate the sum of natural numbers\n",
    "\n",
    "def natural(n):\n",
    "    if n==0:\n",
    "        return 0\n",
    "    return natural(n-1)+n\n",
    "    \n",
    "natural(100)\n",
    "    \n"
   ]
  },
  {
   "cell_type": "code",
   "execution_count": 3,
   "id": "18c9b80d",
   "metadata": {},
   "outputs": [
    {
     "name": "stdout",
     "output_type": "stream",
     "text": [
      "Andhra Hyderabad Bangalore Delhi Mumbai Pune Chennai "
     ]
    }
   ],
   "source": [
    "## Write va recursive function to print all elements in a list Hint: use list & index as parameters\n",
    "\n",
    "def print_list(list,idx=0):\n",
    "    if idx == len(list):\n",
    "        return\n",
    "    print(list[idx], end = \" \")\n",
    "    print_list(list,idx+1)\n",
    "    \n",
    "cities = [\"Andhra\",\"Hyderabad\",\"Bangalore\",\"Delhi\",\"Mumbai\",\"Pune\",\"Chennai\"]\n",
    "\n",
    "print_list(cities)"
   ]
  },
  {
   "cell_type": "code",
   "execution_count": null,
   "id": "a6fa7261",
   "metadata": {},
   "outputs": [],
   "source": []
  }
 ],
 "metadata": {
  "kernelspec": {
   "display_name": "Python 3 (ipykernel)",
   "language": "python",
   "name": "python3"
  },
  "language_info": {
   "codemirror_mode": {
    "name": "ipython",
    "version": 3
   },
   "file_extension": ".py",
   "mimetype": "text/x-python",
   "name": "python",
   "nbconvert_exporter": "python",
   "pygments_lexer": "ipython3",
   "version": "3.12.2"
  }
 },
 "nbformat": 4,
 "nbformat_minor": 5
}
