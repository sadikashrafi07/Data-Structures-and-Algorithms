{
 "cells": [
  {
   "cell_type": "code",
   "execution_count": 2,
   "id": "984241b0",
   "metadata": {},
   "outputs": [
    {
     "name": "stdout",
     "output_type": "stream",
     "text": [
      "I am learning python \n",
      "I love python\n",
      "<class 'str'>\n"
     ]
    }
   ],
   "source": [
    "f = open(\"demo.txt\",\"r\")\n",
    "data = f.read()\n",
    "print(data)\n",
    "print(type(data))\n",
    "f.close()"
   ]
  },
  {
   "cell_type": "markdown",
   "id": "c3d2c36e",
   "metadata": {},
   "source": [
    "reads entire file.."
   ]
  },
  {
   "cell_type": "code",
   "execution_count": 3,
   "id": "f3f95db8",
   "metadata": {},
   "outputs": [
    {
     "name": "stdout",
     "output_type": "stream",
     "text": [
      "I am \n",
      "<class 'str'>\n"
     ]
    }
   ],
   "source": [
    "f = open(\"demo.txt\",\"r\")\n",
    "data = f.read(5)\n",
    "print(data)\n",
    "print(type(data))\n",
    "f.close()"
   ]
  },
  {
   "cell_type": "markdown",
   "id": "f567ee91",
   "metadata": {},
   "source": [
    "reads characters as mentioned in parameters"
   ]
  },
  {
   "cell_type": "code",
   "execution_count": 5,
   "id": "38495503",
   "metadata": {},
   "outputs": [
    {
     "name": "stdout",
     "output_type": "stream",
     "text": [
      "I am learning python \n",
      "\n"
     ]
    }
   ],
   "source": [
    "f = open(\"demo.txt\",\"r\")\n",
    "line1 = f.readline()\n",
    "print(line1)\n"
   ]
  },
  {
   "cell_type": "markdown",
   "id": "c3cec2db",
   "metadata": {},
   "source": [
    "I t giving space in next line why because in default \\n is used at the end of line "
   ]
  },
  {
   "cell_type": "code",
   "execution_count": 6,
   "id": "549eb609",
   "metadata": {},
   "outputs": [
    {
     "name": "stdout",
     "output_type": "stream",
     "text": [
      "I love python\n"
     ]
    }
   ],
   "source": [
    "line2 = f.readline()\n",
    "print(line2)"
   ]
  },
  {
   "cell_type": "code",
   "execution_count": 7,
   "id": "62cb8688",
   "metadata": {},
   "outputs": [
    {
     "name": "stdout",
     "output_type": "stream",
     "text": [
      "I am learning python \n",
      "I love python\n",
      "\n",
      "\n",
      "<class 'str'>\n"
     ]
    }
   ],
   "source": [
    "f = open(\"demo.txt\",\"r\")\n",
    "data = f.read()\n",
    "print(data)\n",
    "\n",
    "line1 = f.readline()\n",
    "print(line1)\n",
    "\n",
    "line2 = f.readline()\n",
    "print(line2)\n",
    "\n",
    "print(type(data))\n",
    "f.close()"
   ]
  },
  {
   "cell_type": "code",
   "execution_count": 10,
   "id": "ac4ff999",
   "metadata": {},
   "outputs": [
    {
     "name": "stdout",
     "output_type": "stream",
     "text": [
      "sadik is procoderhon \n",
      "I love pythonsadik is procoder\n"
     ]
    }
   ],
   "source": [
    "with open(\"demo.txt\",\"r+\") as f:\n",
    "    data = f.read()\n",
    "    print(data)\n",
    "    "
   ]
  },
  {
   "cell_type": "code",
   "execution_count": 11,
   "id": "de0bac43",
   "metadata": {},
   "outputs": [
    {
     "name": "stdout",
     "output_type": "stream",
     "text": [
      "17\n"
     ]
    }
   ],
   "source": [
    "with open(\"demo.txt\",\"r+\") as f:\n",
    "    data = f.write(\"sadik is procoder\")\n",
    "    print(data)"
   ]
  },
  {
   "cell_type": "code",
   "execution_count": 12,
   "id": "3748a9fa",
   "metadata": {},
   "outputs": [],
   "source": [
    "import os\n",
    "\n",
    "os.remove(\"demo.txt\")"
   ]
  },
  {
   "cell_type": "raw",
   "id": "dc594a88",
   "metadata": {},
   "source": [
    "Create a new file “practice.txt” using python. Add the following data in it:\n",
    "\n",
    "Hi everyone\n",
    "we are learning File I/O\n",
    "using Java.\n",
    "I like programming in Java."
   ]
  },
  {
   "cell_type": "code",
   "execution_count": 12,
   "id": "6124eac9",
   "metadata": {},
   "outputs": [],
   "source": [
    "with open(\"python.txt\",\"w\") as f:\n",
    "    f.write(\"Hi everyone\\nwe are learning File I/O\\nusing Java.\\nI like programming in Java.\")"
   ]
  },
  {
   "cell_type": "code",
   "execution_count": 13,
   "id": "f5c6575d",
   "metadata": {},
   "outputs": [
    {
     "name": "stdout",
     "output_type": "stream",
     "text": [
      "Hi everyone\n",
      "we are learning File I/O\n",
      "using Python.\n",
      "I like programming in Python.\n"
     ]
    }
   ],
   "source": [
    "### that replace all occurrences of “java” with “python” in above file.\n",
    "\n",
    "with open(\"python.txt\",\"r\") as f:\n",
    "    data = f.read()\n",
    "new_data = data.replace(\"Java\",\"Python\")\n",
    "print(new_data)"
   ]
  },
  {
   "cell_type": "code",
   "execution_count": 14,
   "id": "f39d93d5",
   "metadata": {},
   "outputs": [],
   "source": [
    "with open(\"python.txt\",\"w\") as f:\n",
    "    f.write(new_data)"
   ]
  },
  {
   "cell_type": "code",
   "execution_count": 16,
   "id": "cb9856ec",
   "metadata": {},
   "outputs": [
    {
     "name": "stdout",
     "output_type": "stream",
     "text": [
      "Word Found\n"
     ]
    }
   ],
   "source": [
    "### Search if the word “learning” exists in the file or not.\n",
    "\n",
    "word = \"learning\"\n",
    "\n",
    "with open(\"python.txt\",\"r\") as f:\n",
    "    data = f.read()\n",
    "    if(data.find(word) != -1):\n",
    "        print(\"Word Found\")\n",
    "    else :\n",
    "        print(\"not found\")\n"
   ]
  },
  {
   "cell_type": "markdown",
   "id": "b84b1f35",
   "metadata": {},
   "source": [
    "- -1 typically indicates the absence of a match or a failure to find the specified element.\n",
    "- indices in strings (or lists) are non-negative integers starting from 0. Instead, -1 is a special value that signifies \"not found.\""
   ]
  },
  {
   "cell_type": "code",
   "execution_count": 18,
   "id": "bd77951f",
   "metadata": {},
   "outputs": [
    {
     "data": {
      "text/plain": [
       "-1"
      ]
     },
     "execution_count": 18,
     "metadata": {},
     "output_type": "execute_result"
    }
   ],
   "source": [
    "### WAF to find in which line of the file does the word “learning”occur first.Print -1 if word not found.\n",
    "\n",
    "\n",
    "def check_for_line():\n",
    "    word = \"pyq\"\n",
    "    data = True\n",
    "    line_no = 1\n",
    "    with open(\"python.txt\",\"r\") as f:\n",
    "        data = f.read()\n",
    "        if(word in data):\n",
    "            print(line_no)\n",
    "            return\n",
    "        line_no +=1\n",
    "    return -1\n",
    "check_for_line()"
   ]
  },
  {
   "cell_type": "code",
   "execution_count": 2,
   "id": "31e0dc05",
   "metadata": {},
   "outputs": [
    {
     "name": "stdout",
     "output_type": "stream",
     "text": [
      "1,2,76,84,90,101\n",
      "1\n",
      "2\n",
      "76\n",
      "84\n",
      "90\n"
     ]
    }
   ],
   "source": [
    "### From a file containing numbers separated by comma, print the count of even numbers.\n",
    "\n",
    "with open(\"practice.txt\",\"r\") as f:\n",
    "    data = f.read()\n",
    "    print(data)\n",
    "    \n",
    "    num = \"\"\n",
    "    for i in range(len(data)):\n",
    "        if(data[i] == \",\"):\n",
    "            print(int(num))\n",
    "            num = \"\"\n",
    "        else:\n",
    "            num += data[i]\n"
   ]
  },
  {
   "cell_type": "code",
   "execution_count": 27,
   "id": "5afe5433",
   "metadata": {},
   "outputs": [
    {
     "ename": "ValueError",
     "evalue": "invalid literal for int() with base 10: ''",
     "output_type": "error",
     "traceback": [
      "\u001b[0;31m---------------------------------------------------------------------------\u001b[0m",
      "\u001b[0;31mValueError\u001b[0m                                Traceback (most recent call last)",
      "Cell \u001b[0;32mIn[27], line 9\u001b[0m\n\u001b[1;32m      7\u001b[0m     nums \u001b[38;5;241m=\u001b[39m data\u001b[38;5;241m.\u001b[39msplit(\u001b[38;5;124m\"\u001b[39m\u001b[38;5;124m,\u001b[39m\u001b[38;5;124m\"\u001b[39m)\n\u001b[1;32m      8\u001b[0m     \u001b[38;5;28;01mfor\u001b[39;00m val \u001b[38;5;129;01min\u001b[39;00m nums:\n\u001b[0;32m----> 9\u001b[0m         \u001b[38;5;28;01mif\u001b[39;00m(\u001b[38;5;28mint\u001b[39m(val)\u001b[38;5;241m%\u001b[39m\u001b[38;5;241m2\u001b[39m \u001b[38;5;241m==\u001b[39m \u001b[38;5;241m0\u001b[39m):\n\u001b[1;32m     10\u001b[0m             count \u001b[38;5;241m+\u001b[39m\u001b[38;5;241m=\u001b[39m \u001b[38;5;241m1\u001b[39m\n\u001b[1;32m     11\u001b[0m \u001b[38;5;28mprint\u001b[39m(count)\n",
      "\u001b[0;31mValueError\u001b[0m: invalid literal for int() with base 10: ''"
     ]
    }
   ],
   "source": [
    "\n",
    "count = 0\n",
    "\n",
    "with open(\"practice.txt\",\"r\") as f:\n",
    "    data = f.read()\n",
    "    \n",
    "    \n",
    "    nums = data.split(\",\")\n",
    "    for val in nums:\n",
    "        if(int(val)%2 == 0):\n",
    "            count += 1\n",
    "print(count)\n",
    "    \n"
   ]
  },
  {
   "cell_type": "code",
   "execution_count": 1,
   "id": "3a64d174",
   "metadata": {},
   "outputs": [
    {
     "name": "stdout",
     "output_type": "stream",
     "text": [
      "\n"
     ]
    }
   ],
   "source": [
    "with open(\"practice.txt\",\"r\") as f:\n",
    "    data = f.read()\n",
    "    print(data)"
   ]
  },
  {
   "cell_type": "code",
   "execution_count": null,
   "id": "f079b0e3",
   "metadata": {},
   "outputs": [],
   "source": []
  }
 ],
 "metadata": {
  "kernelspec": {
   "display_name": "Python 3 (ipykernel)",
   "language": "python",
   "name": "python3"
  },
  "language_info": {
   "codemirror_mode": {
    "name": "ipython",
    "version": 3
   },
   "file_extension": ".py",
   "mimetype": "text/x-python",
   "name": "python",
   "nbconvert_exporter": "python",
   "pygments_lexer": "ipython3",
   "version": "3.11.7"
  }
 },
 "nbformat": 4,
 "nbformat_minor": 5
}
