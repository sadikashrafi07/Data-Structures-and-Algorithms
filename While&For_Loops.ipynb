{
 "cells": [
  {
   "cell_type": "code",
   "execution_count": 4,
   "id": "4545557a",
   "metadata": {},
   "outputs": [
    {
     "name": "stdout",
     "output_type": "stream",
     "text": [
      "Hello\n",
      "Hello\n",
      "Hello\n",
      "Hello\n",
      "Hello\n",
      "6\n"
     ]
    }
   ],
   "source": [
    "count = 1          ## Iterators (from which variable is used to process the loop is known to be Iterator)\n",
    "\n",
    "while count <= 5 :\n",
    "    print(\"Hello\")   ## Iteration (the process inside the loop)\n",
    "    count += 1\n",
    "    \n",
    "print (count)"
   ]
  },
  {
   "cell_type": "code",
   "execution_count": null,
   "id": "47b56a44",
   "metadata": {},
   "outputs": [],
   "source": [
    "## To stop the loop it's very essential to false the condition..."
   ]
  },
  {
   "cell_type": "code",
   "execution_count": 3,
   "id": "c87bfa32",
   "metadata": {},
   "outputs": [
    {
     "name": "stdout",
     "output_type": "stream",
     "text": [
      "1\n",
      "2\n",
      "3\n",
      "4\n",
      "5\n"
     ]
    }
   ],
   "source": [
    "## WAP to print numbers from 1 to 5\n",
    "\n",
    "i = 1\n",
    "\n",
    "while i<=5:\n",
    "    print(i)\n",
    "    i += 1\n",
    "print(\"Loop Ended\")"
   ]
  },
  {
   "cell_type": "code",
   "execution_count": 4,
   "id": "6fad359f",
   "metadata": {},
   "outputs": [
    {
     "name": "stdout",
     "output_type": "stream",
     "text": [
      "5\n",
      "4\n",
      "3\n",
      "2\n",
      "1\n",
      "Loop Ended\n"
     ]
    }
   ],
   "source": [
    "## WAP to print numbers from 5 to 1\n",
    "\n",
    "i = 5\n",
    "\n",
    "while i>=1:\n",
    "    print(i)\n",
    "    i -= 1\n",
    "print(\"Loop Ended\")  ## if condition not be false this statement would not be executed\n"
   ]
  },
  {
   "cell_type": "raw",
   "id": "174d842d",
   "metadata": {},
   "source": [
    "if use infinite loop it be more dangeraous the program be halt next statement be not executed...\n",
    "until the condition not met false(infinite loop)"
   ]
  },
  {
   "cell_type": "code",
   "execution_count": 5,
   "id": "f00e51ed",
   "metadata": {},
   "outputs": [
    {
     "name": "stdout",
     "output_type": "stream",
     "text": [
      "1\n",
      "2\n",
      "3\n",
      "4\n",
      "5\n",
      "6\n",
      "7\n",
      "8\n",
      "9\n",
      "10\n",
      "11\n",
      "12\n",
      "13\n",
      "14\n",
      "15\n",
      "16\n",
      "17\n",
      "18\n",
      "19\n",
      "20\n",
      "21\n",
      "22\n",
      "23\n",
      "24\n",
      "25\n",
      "26\n",
      "27\n",
      "28\n",
      "29\n",
      "30\n",
      "31\n",
      "32\n",
      "33\n",
      "34\n",
      "35\n",
      "36\n",
      "37\n",
      "38\n",
      "39\n",
      "40\n",
      "41\n",
      "42\n",
      "43\n",
      "44\n",
      "45\n",
      "46\n",
      "47\n",
      "48\n",
      "49\n",
      "50\n",
      "51\n",
      "52\n",
      "53\n",
      "54\n",
      "55\n",
      "56\n",
      "57\n",
      "58\n",
      "59\n",
      "60\n",
      "61\n",
      "62\n",
      "63\n",
      "64\n",
      "65\n",
      "66\n",
      "67\n",
      "68\n",
      "69\n",
      "70\n",
      "71\n",
      "72\n",
      "73\n",
      "74\n",
      "75\n",
      "76\n",
      "77\n",
      "78\n",
      "79\n",
      "80\n",
      "81\n",
      "82\n",
      "83\n",
      "84\n",
      "85\n",
      "86\n",
      "87\n",
      "88\n",
      "89\n",
      "90\n",
      "91\n",
      "92\n",
      "93\n",
      "94\n",
      "95\n",
      "96\n",
      "97\n",
      "98\n",
      "99\n",
      "100\n",
      "loop ended\n"
     ]
    }
   ],
   "source": [
    "## print numbers 1 to 100\n",
    "\n",
    "i = 1\n",
    "\n",
    "while i <= 100 :\n",
    "    print(i)\n",
    "    i += 1\n",
    "    \n",
    "print(\"loop ended\")"
   ]
  },
  {
   "cell_type": "code",
   "execution_count": 6,
   "id": "2644dc95",
   "metadata": {},
   "outputs": [
    {
     "name": "stdout",
     "output_type": "stream",
     "text": [
      "100\n",
      "99\n",
      "98\n",
      "97\n",
      "96\n",
      "95\n",
      "94\n",
      "93\n",
      "92\n",
      "91\n",
      "90\n",
      "89\n",
      "88\n",
      "87\n",
      "86\n",
      "85\n",
      "84\n",
      "83\n",
      "82\n",
      "81\n",
      "80\n",
      "79\n",
      "78\n",
      "77\n",
      "76\n",
      "75\n",
      "74\n",
      "73\n",
      "72\n",
      "71\n",
      "70\n",
      "69\n",
      "68\n",
      "67\n",
      "66\n",
      "65\n",
      "64\n",
      "63\n",
      "62\n",
      "61\n",
      "60\n",
      "59\n",
      "58\n",
      "57\n",
      "56\n",
      "55\n",
      "54\n",
      "53\n",
      "52\n",
      "51\n",
      "50\n",
      "49\n",
      "48\n",
      "47\n",
      "46\n",
      "45\n",
      "44\n",
      "43\n",
      "42\n",
      "41\n",
      "40\n",
      "39\n",
      "38\n",
      "37\n",
      "36\n",
      "35\n",
      "34\n",
      "33\n",
      "32\n",
      "31\n",
      "30\n",
      "29\n",
      "28\n",
      "27\n",
      "26\n",
      "25\n",
      "24\n",
      "23\n",
      "22\n",
      "21\n",
      "20\n",
      "19\n",
      "18\n",
      "17\n",
      "16\n",
      "15\n",
      "14\n",
      "13\n",
      "12\n",
      "11\n",
      "10\n",
      "9\n",
      "8\n",
      "7\n",
      "6\n",
      "5\n",
      "4\n",
      "3\n",
      "2\n",
      "1\n",
      "loop ended\n"
     ]
    }
   ],
   "source": [
    "## print numbers from 100 to 1\n",
    "\n",
    "i = 100\n",
    "\n",
    "while i >= 1: ## Stopping condition\n",
    "    print(i)\n",
    "    i -= 1\n",
    "    \n",
    "print(\"loop ended\")"
   ]
  },
  {
   "cell_type": "code",
   "execution_count": 12,
   "id": "1d8b2c95",
   "metadata": {},
   "outputs": [
    {
     "name": "stdout",
     "output_type": "stream",
     "text": [
      "Enter the number5\n",
      "5 * 1 = 5 \n",
      "5 * 2 = 10 \n",
      "5 * 3 = 15 \n",
      "5 * 4 = 20 \n",
      "5 * 5 = 25 \n",
      "5 * 6 = 30 \n",
      "5 * 7 = 35 \n",
      "5 * 8 = 40 \n",
      "5 * 9 = 45 \n",
      "5 * 10 = 50 \n",
      "Table Completed\n"
     ]
    }
   ],
   "source": [
    "## Print the multiplication table of n(consider n=3)\n",
    "n = int(input(\"Enter the number\"))\n",
    "i = 1\n",
    "\n",
    "while i <= 10:\n",
    "    print(f\"{n} * {i} = {n *  i} \")\n",
    "    i += 1\n",
    "print(\"Table Completed\")"
   ]
  },
  {
   "cell_type": "markdown",
   "id": "4ced057d",
   "metadata": {},
   "source": [
    "- Prefix with f: The string is prefixed with f to denote it as an f-string.\n",
    "- Curly braces {}: Expressions inside curly braces {} are evaluated at runtime and then formatted using the format specified.\n",
    "- Expression inside {}: In the example, {n}, {i}, and {n * i} are evaluated and their values are inserted into the string."
   ]
  },
  {
   "cell_type": "code",
   "execution_count": 15,
   "id": "a07f8af9",
   "metadata": {},
   "outputs": [
    {
     "name": "stdout",
     "output_type": "stream",
     "text": [
      "1\n",
      "4\n",
      "9\n",
      "16\n",
      "25\n",
      "36\n",
      "49\n",
      "64\n",
      "81\n",
      "100\n"
     ]
    }
   ],
   "source": [
    "## Print the elements of the fallowing list using a loop:\n",
    "\n",
    "nums = [1,4,9,16,25,36,49,64,81,100]\n",
    "\n",
    "idx = 0\n",
    "\n",
    "while idx < len(nums):\n",
    "    print(nums[idx])\n",
    "    idx += 1\n"
   ]
  },
  {
   "cell_type": "markdown",
   "id": "a08a9ff0",
   "metadata": {},
   "source": [
    "while going each element in the list,tuple or dict are known as traversing"
   ]
  },
  {
   "cell_type": "code",
   "execution_count": 17,
   "id": "2c8b92b8",
   "metadata": {},
   "outputs": [
    {
     "name": "stdout",
     "output_type": "stream",
     "text": [
      "finding.....\n",
      "finding.....\n",
      "finding.....\n",
      "finding.....\n",
      "finding.....\n",
      "finding.....\n",
      "Element found at : 6\n",
      "finding.....\n",
      "finding.....\n",
      "finding.....\n"
     ]
    }
   ],
   "source": [
    "## Search for a number x in this tuple using loop\n",
    "\n",
    "nums = (1,4,9,16,25,36,49,64,81,100)\n",
    "\n",
    "x = 49\n",
    "idx = 0\n",
    "\n",
    "while idx < len(nums):\n",
    "    if (nums[idx] == x):\n",
    "        print(\"Element found at :\", idx)\n",
    "    else :\n",
    "        print(\"finding.....\")\n",
    "    \n",
    "    \n",
    "    idx += 1\n"
   ]
  },
  {
   "cell_type": "markdown",
   "id": "1f8825a4",
   "metadata": {},
   "source": [
    "loop it run whole tuple ... at last element if we found in middle also it will check for later elements until last element till end of the tuple...(in all same processes list,dist..)"
   ]
  },
  {
   "cell_type": "code",
   "execution_count": 1,
   "id": "8c04a1e8",
   "metadata": {},
   "outputs": [
    {
     "name": "stdout",
     "output_type": "stream",
     "text": [
      "Enter the number from provided Tuple: 99\n",
      "Finding.....\n",
      "Finding.....\n",
      "Finding.....\n",
      "Finding.....\n",
      "Finding.....\n",
      "Finding.....\n",
      "Finding.....\n",
      "Finding.....\n",
      "Finding.....\n",
      "Finding.....\n",
      "Number not found\n"
     ]
    }
   ],
   "source": [
    "nums = (1, 4, 9, 16, 25, 36, 49, 64, 81, 100)\n",
    "\n",
    "idx = 0\n",
    "x = int(input(\"Enter the number from provided Tuple: \"))\n",
    "\n",
    "found = False  # Flag to track whether the number was found\n",
    "\n",
    "while idx < len(nums):\n",
    "    if nums[idx] == x:\n",
    "        print(\"Number found at index\", idx)\n",
    "        found = True\n",
    "        break\n",
    "    else:\n",
    "        print(\"Finding.....\")\n",
    "    \n",
    "    idx += 1\n",
    "\n",
    "if not found:\n",
    "    print(\"Number not found\")\n"
   ]
  },
  {
   "cell_type": "markdown",
   "id": "52b533eb",
   "metadata": {},
   "source": [
    "- If number ***is found***, `found = True`, so `if not found`: becomes False and ***won't execute***.\n",
    "\n",
    "- If number ***is not found***, `found` stays `False`, so if not found: becomes True and ***will execute***."
   ]
  },
  {
   "cell_type": "code",
   "execution_count": 19,
   "id": "86c23333",
   "metadata": {},
   "outputs": [
    {
     "name": "stdout",
     "output_type": "stream",
     "text": [
      "finding.....\n",
      "finding.....\n",
      "finding.....\n",
      "finding.....\n",
      "finding.....\n",
      "finding.....\n",
      "Element found at : 6\n",
      "end of loop\n"
     ]
    }
   ],
   "source": [
    "## Break usecase  (used to terminate the loop when encountered)\n",
    "\n",
    "nums = (1,4,9,16,25,36,49,64,81,100)\n",
    "\n",
    "x = 49\n",
    "idx = 0\n",
    "\n",
    "while idx < len(nums):\n",
    "    if (nums[idx] == x):\n",
    "        print(\"Element found at :\", idx)\n",
    "        break\n",
    "    else :\n",
    "        print(\"finding.....\")\n",
    "    \n",
    "    \n",
    "    idx += 1\n",
    "    \n",
    "print(\"end of loop\")"
   ]
  },
  {
   "cell_type": "markdown",
   "id": "89bc282b",
   "metadata": {},
   "source": [
    "we can see here that after the element was found the loopn was terminated. it was not traversing to the entire loop..."
   ]
  },
  {
   "cell_type": "code",
   "execution_count": 8,
   "id": "74344366",
   "metadata": {},
   "outputs": [
    {
     "name": "stdout",
     "output_type": "stream",
     "text": [
      "1\n",
      "2\n",
      "4\n",
      "5\n",
      "end of loop\n"
     ]
    }
   ],
   "source": [
    "## Continue usecase (it terminates execution in the current iteration and continues execution of the loop with the next iteration)\n",
    "\n",
    "i = 1\n",
    "\n",
    "while i <= 5:\n",
    "    if i==3 :\n",
    "        i += 1 \n",
    "        continue ##skip\n",
    "    print(i)\n",
    "    i += 1\n",
    "    \n",
    "print(\"end of loop\")"
   ]
  },
  {
   "cell_type": "raw",
   "id": "f7d43d9e",
   "metadata": {},
   "source": [
    "i = 1:\n",
    "\n",
    "if i == 3 is false.\n",
    "print(i) prints 1.\n",
    "i += 1 increments i to 2.\n",
    "i = 2:\n",
    "\n",
    "if i == 3 is false.\n",
    "print(i) prints 2.\n",
    "i += 1 increments i to 3.\n",
    "i = 3:\n",
    "\n",
    "if i == 3 is true.\n",
    "continue is executed, skipping print(i) and i += 1.\n",
    "The loop immediately goes back to the while i <= 5 condition with i still equal to 3.\n",
    "\n",
    "Since i remains 3, the loop gets stuck because i is never incremented past 3. This causes an infinite loop where i is always 3."
   ]
  },
  {
   "cell_type": "markdown",
   "id": "6fe0f134",
   "metadata": {},
   "source": [
    "Yes, the continue statement affects the whole loop, not just the if block it's inside. When continue is encountered, the current iteration of the loop ends immediately, and control jumps to the beginning of the loop for the next iteration. This means any code after continue in the loop body is skipped for that iteration."
   ]
  },
  {
   "cell_type": "code",
   "execution_count": 26,
   "id": "dcb2c17a",
   "metadata": {},
   "outputs": [
    {
     "name": "stdout",
     "output_type": "stream",
     "text": [
      "1\n",
      "3\n",
      "5\n",
      "7\n",
      "9\n",
      "end of loop\n"
     ]
    }
   ],
   "source": [
    "## Continue usecase 2\n",
    "\n",
    "i=1 ## intialization\n",
    "\n",
    "while i <= 10:\n",
    "    if i%2 == 0 :\n",
    "        i += 1\n",
    "        continue ##skip\n",
    "    print(i)\n",
    "    i += 1\n",
    "    \n",
    "print(\"end of loop\")"
   ]
  },
  {
   "cell_type": "markdown",
   "id": "69cfcd3d",
   "metadata": {},
   "source": [
    "### For loop"
   ]
  },
  {
   "cell_type": "markdown",
   "id": "b7b0e065",
   "metadata": {},
   "source": [
    "\n",
    "The for loop in Python is used to iterate over a sequence (like a string, list, or tuple). The else block after a for loop, known as for-else, executes when the loop completes normally, meaning it did not encounter a break statement. This construct is useful for scenarios where you want to check if the loop completed all iterations or if it was interrupted by a break."
   ]
  },
  {
   "cell_type": "code",
   "execution_count": 29,
   "id": "252bfaab",
   "metadata": {},
   "outputs": [
    {
     "name": "stdout",
     "output_type": "stream",
     "text": [
      "A\n",
      "n\n",
      "g\n",
      "a\n",
      "d\n",
      "i\n",
      " \n",
      "M\n",
      "o\n",
      "h\n",
      "a\n",
      "m\n",
      "m\n",
      "a\n",
      "d\n",
      " \n",
      "S\n",
      "a\n",
      "d\n",
      "i\n",
      "q\n",
      "end loop\n"
     ]
    }
   ],
   "source": [
    "str = \"Angadi Mohammad Sadiq\"\n",
    "\n",
    "for val in str:\n",
    "    print(val)\n",
    "else :  \n",
    "    print(\"end loop\")\n"
   ]
  },
  {
   "cell_type": "code",
   "execution_count": 1,
   "id": "239114ed",
   "metadata": {},
   "outputs": [
    {
     "name": "stdout",
     "output_type": "stream",
     "text": [
      "A\n",
      "n\n",
      "g\n",
      "a\n",
      "d\n",
      "i\n",
      " \n",
      "M\n",
      "o\n",
      "h\n",
      "a\n",
      "m\n",
      "m\n",
      "a\n",
      "d\n",
      " \n",
      "S\n",
      "a\n",
      "d\n",
      "i\n",
      "q\n",
      "end loop\n"
     ]
    }
   ],
   "source": [
    "str = \"Angadi Mohammad Sadiq\"\n",
    "\n",
    "for val in str:\n",
    "    if (val == 'z'):\n",
    "        print(\"z found\")\n",
    "        break\n",
    "    print(val)\n",
    "else :  \n",
    "    print(\"end loop\")"
   ]
  },
  {
   "cell_type": "code",
   "execution_count": 31,
   "id": "9dc9353d",
   "metadata": {},
   "outputs": [
    {
     "name": "stdout",
     "output_type": "stream",
     "text": [
      "Number 3 found\n"
     ]
    }
   ],
   "source": [
    "numbers = [1, 2, 3, 4, 5]\n",
    "\n",
    "for num in numbers:\n",
    "    if num == 3:\n",
    "        print(\"Number 3 found\")\n",
    "        break\n",
    "else:\n",
    "    print(\"Number 3 not found\")\n"
   ]
  },
  {
   "cell_type": "markdown",
   "id": "38916209",
   "metadata": {},
   "source": [
    "The for-else construct is particularly useful in situations like searching for an item in a list or checking if a condition is met during iteration. If the item is found and a break is executed, the else block is skipped. If the loop completes all iterations without finding the item, the else block is executed, allowing you to handle the case where the item wasn't found."
   ]
  },
  {
   "cell_type": "code",
   "execution_count": 33,
   "id": "0ffa0939",
   "metadata": {},
   "outputs": [
    {
     "name": "stdout",
     "output_type": "stream",
     "text": [
      "1\n",
      "4\n",
      "9\n",
      "16\n",
      "25\n",
      "36\n",
      "49\n",
      "64\n",
      "81\n",
      "100\n",
      "End Loop\n"
     ]
    }
   ],
   "source": [
    "## print the elements of the fallowing list using a loop\n",
    "\n",
    "nums = [1,4,9,16,25,36,49,64,81,100]\n",
    "\n",
    "idx = 0\n",
    "\n",
    "while idx < len(nums):\n",
    "    print(nums[idx])\n",
    "    idx += 1\n",
    "print(\"End Loop\")"
   ]
  },
  {
   "cell_type": "code",
   "execution_count": 34,
   "id": "416fa9d9",
   "metadata": {},
   "outputs": [
    {
     "name": "stdout",
     "output_type": "stream",
     "text": [
      "finding....\n",
      "finding....\n",
      "finding....\n",
      "finding....\n",
      "finding....\n",
      "finding....\n",
      "finding....\n",
      "finding....\n",
      "Element Found at : 8\n",
      "finding....\n",
      "End loop\n"
     ]
    }
   ],
   "source": [
    "## Search for a number x in the tuple using loop\n",
    "\n",
    "nums = (1,4,9,16,25,36,49,64,81,100)\n",
    "\n",
    "x = 81\n",
    "idx = 0\n",
    "\n",
    "while idx < len(nums):\n",
    "    if (nums[idx] == x):\n",
    "        print(\"Element Found at :\", idx)\n",
    "    else :\n",
    "        print(\"finding....\")\n",
    "    idx +=1\n",
    "print(\"End loop\")\n",
    "    "
   ]
  },
  {
   "cell_type": "markdown",
   "id": "3fb00a4b",
   "metadata": {},
   "source": [
    "- for Loop: Use when iterating over a collection or when the number of iterations is known or can be determined.\n",
    "- while Loop: Use when the number of iterations is unknown and you need to continue until a specific condition is met."
   ]
  },
  {
   "cell_type": "markdown",
   "id": "7c538267",
   "metadata": {},
   "source": [
    "### range ()"
   ]
  },
  {
   "cell_type": "code",
   "execution_count": 3,
   "id": "d73f450e",
   "metadata": {},
   "outputs": [
    {
     "name": "stdout",
     "output_type": "stream",
     "text": [
      "0\n",
      "1\n",
      "2\n",
      "3\n",
      "4\n"
     ]
    }
   ],
   "source": [
    "seq = range(5)\n",
    "\n",
    "for i in seq:\n",
    "    print(i)"
   ]
  },
  {
   "cell_type": "code",
   "execution_count": 4,
   "id": "b3bb53a8",
   "metadata": {},
   "outputs": [
    {
     "name": "stdout",
     "output_type": "stream",
     "text": [
      "0\n",
      "1\n",
      "2\n",
      "3\n",
      "4\n",
      "5\n",
      "6\n",
      "7\n",
      "8\n",
      "9\n"
     ]
    }
   ],
   "source": [
    "for i in range(10): ##stop\n",
    "    print(i)"
   ]
  },
  {
   "cell_type": "code",
   "execution_count": 5,
   "id": "92b923d4",
   "metadata": {},
   "outputs": [
    {
     "name": "stdout",
     "output_type": "stream",
     "text": [
      "2\n",
      "3\n",
      "4\n",
      "5\n",
      "6\n",
      "7\n",
      "8\n",
      "9\n"
     ]
    }
   ],
   "source": [
    "for i in range(2,10): ##(start,stop) \n",
    "    print(i)           ## 10 be not included"
   ]
  },
  {
   "cell_type": "code",
   "execution_count": 8,
   "id": "c05c4c03",
   "metadata": {},
   "outputs": [
    {
     "name": "stdout",
     "output_type": "stream",
     "text": [
      "2\n",
      "4\n",
      "6\n",
      "8\n",
      "10\n",
      "12\n",
      "14\n",
      "16\n",
      "18\n",
      "20\n",
      "22\n",
      "24\n",
      "26\n",
      "28\n",
      "30\n",
      "32\n",
      "34\n",
      "36\n",
      "38\n",
      "40\n",
      "42\n",
      "44\n",
      "46\n",
      "48\n",
      "50\n",
      "52\n",
      "54\n",
      "56\n",
      "58\n",
      "60\n",
      "62\n",
      "64\n",
      "66\n",
      "68\n",
      "70\n",
      "72\n",
      "74\n",
      "76\n",
      "78\n",
      "80\n",
      "82\n",
      "84\n",
      "86\n",
      "88\n",
      "90\n",
      "92\n",
      "94\n",
      "96\n",
      "98\n"
     ]
    }
   ],
   "source": [
    "## Logic for even numbers\n",
    "\n",
    "for i in range (2,100,2):    ## (start,stop,step)\n",
    "    print(i)"
   ]
  },
  {
   "cell_type": "markdown",
   "id": "2b98be53",
   "metadata": {},
   "source": [
    "### For loop practice"
   ]
  },
  {
   "cell_type": "code",
   "execution_count": 9,
   "id": "09b5bc64",
   "metadata": {},
   "outputs": [
    {
     "name": "stdout",
     "output_type": "stream",
     "text": [
      "1\n",
      "4\n",
      "9\n",
      "16\n",
      "25\n",
      "36\n",
      "49\n",
      "64\n",
      "81\n",
      "100\n"
     ]
    }
   ],
   "source": [
    "## print the elements of the fallowing list using a loop\n",
    "\n",
    "nums = [1,4,9,16,25,36,49,64,81,100]\n",
    "\n",
    "for i in nums:\n",
    "    print(i)"
   ]
  },
  {
   "cell_type": "code",
   "execution_count": 11,
   "id": "8dae0154",
   "metadata": {},
   "outputs": [
    {
     "name": "stdout",
     "output_type": "stream",
     "text": [
      "finding\n",
      "finding\n",
      "finding\n",
      "finding\n",
      "finding\n",
      "finding\n",
      "finding\n",
      "finding\n",
      "Element found at : 8\n",
      "finding\n"
     ]
    }
   ],
   "source": [
    "## search for a number x in this tuple using loop\n",
    "\n",
    "nums = (1,4,9,16,25,36,49,64,81,100)\n",
    "\n",
    "x=81\n",
    "idx = 0\n",
    "\n",
    "for i in nums:\n",
    "    if (nums[idx] == x):\n",
    "        print(\"Element found at :\", idx)\n",
    "    else:\n",
    "        print(\"finding\")\n",
    "    idx += 1"
   ]
  },
  {
   "cell_type": "code",
   "execution_count": 15,
   "id": "aac9c339",
   "metadata": {},
   "outputs": [
    {
     "name": "stdout",
     "output_type": "stream",
     "text": [
      "100\n",
      "99\n",
      "98\n",
      "97\n",
      "96\n",
      "95\n",
      "94\n",
      "93\n",
      "92\n",
      "91\n",
      "90\n",
      "89\n",
      "88\n",
      "87\n",
      "86\n",
      "85\n",
      "84\n",
      "83\n",
      "82\n",
      "81\n",
      "80\n",
      "79\n",
      "78\n",
      "77\n",
      "76\n",
      "75\n",
      "74\n",
      "73\n",
      "72\n",
      "71\n",
      "70\n",
      "69\n",
      "68\n",
      "67\n",
      "66\n",
      "65\n",
      "64\n",
      "63\n",
      "62\n",
      "61\n",
      "60\n",
      "59\n",
      "58\n",
      "57\n",
      "56\n",
      "55\n",
      "54\n",
      "53\n",
      "52\n",
      "51\n",
      "50\n",
      "49\n",
      "48\n",
      "47\n",
      "46\n",
      "45\n",
      "44\n",
      "43\n",
      "42\n",
      "41\n",
      "40\n",
      "39\n",
      "38\n",
      "37\n",
      "36\n",
      "35\n",
      "34\n",
      "33\n",
      "32\n",
      "31\n",
      "30\n",
      "29\n",
      "28\n",
      "27\n",
      "26\n",
      "25\n",
      "24\n",
      "23\n",
      "22\n",
      "21\n",
      "20\n",
      "19\n",
      "18\n",
      "17\n",
      "16\n",
      "15\n",
      "14\n",
      "13\n",
      "12\n",
      "11\n",
      "10\n",
      "9\n",
      "8\n",
      "7\n",
      "6\n",
      "5\n",
      "4\n",
      "3\n",
      "2\n",
      "1\n"
     ]
    }
   ],
   "source": [
    "## print numbers from 1 to 100\n",
    "\n",
    "for i in range(100,0,-1):   ## if we want to decrease size step size can be negative also\n",
    "    print(i)"
   ]
  },
  {
   "cell_type": "code",
   "execution_count": 18,
   "id": "9f59aff2",
   "metadata": {},
   "outputs": [
    {
     "name": "stdout",
     "output_type": "stream",
     "text": [
      "Enter the number :8\n",
      "8 * 1 = 8\n",
      "8 * 2 = 16\n",
      "8 * 3 = 24\n",
      "8 * 4 = 32\n",
      "8 * 5 = 40\n",
      "8 * 6 = 48\n",
      "8 * 7 = 56\n",
      "8 * 8 = 64\n",
      "8 * 9 = 72\n",
      "8 * 10 = 80\n"
     ]
    }
   ],
   "source": [
    "## print the multiplication of numnber n\n",
    "\n",
    "n = int(input(\"Enter the number :\"))\n",
    "\n",
    "for i in range(1,11):\n",
    "    print(f\"{n} * {i} = {n*i}\")"
   ]
  },
  {
   "cell_type": "markdown",
   "id": "817564a8",
   "metadata": {},
   "source": [
    "### pass statement"
   ]
  },
  {
   "cell_type": "raw",
   "id": "fe91af9b",
   "metadata": {},
   "source": [
    "pass is a null statement that do nothing. It is used as a placeholder for future code."
   ]
  },
  {
   "cell_type": "code",
   "execution_count": 19,
   "id": "a6efd5ed",
   "metadata": {},
   "outputs": [
    {
     "ename": "IndentationError",
     "evalue": "expected an indented block after 'for' statement on line 1 (458376593.py, line 3)",
     "output_type": "error",
     "traceback": [
      "\u001b[0;36m  Cell \u001b[0;32mIn[19], line 3\u001b[0;36m\u001b[0m\n\u001b[0;31m    print(\"some useful work\")\u001b[0m\n\u001b[0m    ^\u001b[0m\n\u001b[0;31mIndentationError\u001b[0m\u001b[0;31m:\u001b[0m expected an indented block after 'for' statement on line 1\n"
     ]
    }
   ],
   "source": [
    "for i in range(5):\n",
    "    #empty\n",
    "print(\"some useful work\")"
   ]
  },
  {
   "cell_type": "markdown",
   "id": "9c3f0859",
   "metadata": {},
   "source": [
    "### practice questions"
   ]
  },
  {
   "cell_type": "code",
   "execution_count": 20,
   "id": "8624ddcd",
   "metadata": {},
   "outputs": [
    {
     "name": "stdout",
     "output_type": "stream",
     "text": [
      "some useful work\n"
     ]
    }
   ],
   "source": [
    "for i in range(5):\n",
    "    pass\n",
    "print(\"some useful work\")"
   ]
  },
  {
   "cell_type": "code",
   "execution_count": 24,
   "id": "ac3a6684",
   "metadata": {},
   "outputs": [
    {
     "name": "stdout",
     "output_type": "stream",
     "text": [
      "Total sum of n natural numbers are: 465\n"
     ]
    }
   ],
   "source": [
    "## WAP to find the sum of first n natural numbers.(using while)\n",
    "\n",
    "n = 30\n",
    "sum = 0\n",
    "\n",
    "for i in range(1,n+1):\n",
    "    sum += i\n",
    "    \n",
    "print(\"Total sum of n natural numbers are:\", sum)"
   ]
  },
  {
   "cell_type": "code",
   "execution_count": 29,
   "id": "4c696672",
   "metadata": {},
   "outputs": [
    {
     "name": "stdout",
     "output_type": "stream",
     "text": [
      "Factorial of n natural numbers are : 120\n"
     ]
    }
   ],
   "source": [
    "## WAP to find the factorial of first n numbers (using for)\n",
    "\n",
    "n = 5\n",
    "fact = 1\n",
    "\n",
    "for i in range(1,n+1):\n",
    "    fact *= i    \n",
    "print(\"Factorial of n natural numbers are :\", fact)"
   ]
  },
  {
   "cell_type": "code",
   "execution_count": 2,
   "id": "793d7fab",
   "metadata": {},
   "outputs": [],
   "source": [
    "# when to use while and for\n",
    "\n",
    "# suppose we want to 10 prime numbers we track using while but with for we can traverse and we can't check that we reach the count stop finding the prime numbers..."
   ]
  },
  {
   "cell_type": "code",
   "execution_count": null,
   "id": "dd2e893d",
   "metadata": {},
   "outputs": [],
   "source": []
  },
  {
   "cell_type": "code",
   "execution_count": null,
   "id": "86e945ca",
   "metadata": {},
   "outputs": [],
   "source": []
  }
 ],
 "metadata": {
  "kernelspec": {
   "display_name": "Python 3 (ipykernel)",
   "language": "python",
   "name": "python3"
  },
  "language_info": {
   "codemirror_mode": {
    "name": "ipython",
    "version": 3
   },
   "file_extension": ".py",
   "mimetype": "text/x-python",
   "name": "python",
   "nbconvert_exporter": "python",
   "pygments_lexer": "ipython3",
   "version": "3.12.2"
  }
 },
 "nbformat": 4,
 "nbformat_minor": 5
}
