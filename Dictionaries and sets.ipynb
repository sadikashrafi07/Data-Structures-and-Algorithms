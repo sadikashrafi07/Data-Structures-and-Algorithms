{
 "cells": [
  {
   "cell_type": "code",
   "execution_count": 1,
   "id": "1a1f33e2",
   "metadata": {},
   "outputs": [
    {
     "name": "stdout",
     "output_type": "stream",
     "text": [
      "{'name': 'sadik', 'subjects': ['AI', 'ML', 'NLP'], 'topics': ('dict', 'sets'), 'age': 35, 'is_adult': True, 12: 'sadik'}\n"
     ]
    }
   ],
   "source": [
    "info = {\n",
    "    \"name\" : \"sadik\",\n",
    "    \"subjects\" : [\"AI\",\"ML\",\"NLP\"],\n",
    "    \"topics\" : (\"dict\",\"sets\"),\n",
    "    \"age\" : 35,\n",
    "    \"is_adult\" : True,\n",
    "    12 : \"sadik\"\n",
    "                  \n",
    "}\n",
    "\n",
    "print(info)"
   ]
  },
  {
   "cell_type": "raw",
   "id": "85b9ea8b",
   "metadata": {},
   "source": [
    "we can make our key as floating ,int,Boolean, string, and can be any tuple value(list and dictionaries are mutable so we are not taking as keys.. it can be changed) tuple is immutable so we take tuple as key and other ptimitive types..."
   ]
  },
  {
   "cell_type": "code",
   "execution_count": 2,
   "id": "a5936382",
   "metadata": {},
   "outputs": [
    {
     "name": "stdout",
     "output_type": "stream",
     "text": [
      "Value1\n",
      "Value2\n",
      "Value3\n",
      "Value4\n",
      "Value5\n",
      "Value6\n",
      "NestedValue\n"
     ]
    }
   ],
   "source": [
    "# Creating a dictionary with tuples as keys\n",
    "tuple_dict = {\n",
    "    (1, 2): \"Value1\",\n",
    "    (3, 4): \"Value2\",\n",
    "    (5, 6): \"Value3\",\n",
    "    (\"a\", \"b\"): \"Value4\",\n",
    "    ((7, 8), (9, 10)): \"Value5\"\n",
    "}\n",
    "\n",
    "# Accessing values using tuple keys\n",
    "print(tuple_dict[(1, 2)])        # Output: Value1\n",
    "print(tuple_dict[(3, 4)])        # Output: Value2\n",
    "print(tuple_dict[(5, 6)])        # Output: Value3\n",
    "print(tuple_dict[(\"a\", \"b\")])    # Output: Value4\n",
    "print(tuple_dict[((7, 8), (9, 10))]) # Output: Value5\n",
    "\n",
    "# Adding a new entry with a tuple key\n",
    "tuple_dict[(11, 12)] = \"Value6\"\n",
    "print(tuple_dict[(11, 12)])      # Output: Value6\n",
    "\n",
    "# Example of nested tuple keys\n",
    "nested_tuple_key = ((1, 2), (3, 4))\n",
    "tuple_dict[nested_tuple_key] = \"NestedValue\"\n",
    "print(tuple_dict[nested_tuple_key])  # Output: NestedValue"
   ]
  },
  {
   "cell_type": "raw",
   "id": "f5777c94",
   "metadata": {},
   "source": [
    "Store fallowing word meanings in a python dictionary"
   ]
  },
  {
   "cell_type": "code",
   "execution_count": 2,
   "id": "aa6689bf",
   "metadata": {},
   "outputs": [
    {
     "name": "stdout",
     "output_type": "stream",
     "text": [
      "{'cat': 'A small Animal', 'table': ['A piece of furniture', 'list of facts&figures']}\n"
     ]
    }
   ],
   "source": [
    "dict = {\n",
    "    \"cat\" : \"A small Animal\",\n",
    "    \"table\" : [\"A piece of furniture\", \"list of facts&figures\"]\n",
    "}\n",
    "\n",
    "print(dict)"
   ]
  },
  {
   "cell_type": "raw",
   "id": "db4e0872",
   "metadata": {},
   "source": [
    "You are given a list of subjects for students.Assume one classroom is required for 1 subject.How many classrooms are needed by all students"
   ]
  },
  {
   "cell_type": "code",
   "execution_count": 5,
   "id": "def7a6d6",
   "metadata": {},
   "outputs": [
    {
     "name": "stdout",
     "output_type": "stream",
     "text": [
      "5\n"
     ]
    }
   ],
   "source": [
    "subjects = {\"python\",\"java\",\"C++\",\"python\",\"javascript\",\"java\",\"python\",\"java\",\"C++\",\"C\"}\n",
    "\n",
    "print(len(subjects))"
   ]
  },
  {
   "cell_type": "raw",
   "id": "f798e572",
   "metadata": {},
   "source": [
    "WAP to enter marks of 3 subjects from the user and store them in a dictionary. Start with an empty dictionary and add one by one .Use subject name as key and marks as value "
   ]
  },
  {
   "cell_type": "code",
   "execution_count": 11,
   "id": "1dee8a8e",
   "metadata": {},
   "outputs": [
    {
     "name": "stdout",
     "output_type": "stream",
     "text": [
      "Enter Your Faviurite Subject Name :A\n",
      "Enter Your Faviurite Subject Name :B\n",
      "Enter Your Faviurite Subject Name :c\n",
      "{'Machine Learning ': 'A', 'Deep Learning': 'B', 'Computer Vision': 'c'}\n"
     ]
    }
   ],
   "source": [
    "subjects = {}\n",
    "\n",
    "sub1 = input(\"Enter Your Faviurite Subject Name :\" )\n",
    "subjects.update({\"Machine Learning \" :sub1})\n",
    "sub1 = input(\"Enter Your Faviurite Subject Name :\" )\n",
    "subjects.update({\"Deep Learning\":sub1})\n",
    "sub1 = input(\"Enter Your Faviurite Subject Name :\" )\n",
    "subjects.update({\"Computer Vision\":sub1})\n",
    "\n",
    "print(subjects)"
   ]
  },
  {
   "cell_type": "raw",
   "id": "4ec9038d",
   "metadata": {},
   "source": [
    "Figure out way to store 9 & 9.0 as seperate values in the set (you can take help built in data types)"
   ]
  },
  {
   "cell_type": "code",
   "execution_count": 13,
   "id": "258ba999",
   "metadata": {},
   "outputs": [
    {
     "name": "stdout",
     "output_type": "stream",
     "text": [
      "{9}\n",
      "{9, '9.0'}\n"
     ]
    }
   ],
   "source": [
    "values ={\n",
    "    9,9.0\n",
    "}\n",
    "print(values)\n",
    "\n",
    "values ={\n",
    "    9,'9.0'\n",
    "}\n",
    "print(values)\n"
   ]
  },
  {
   "cell_type": "code",
   "execution_count": 14,
   "id": "cbed3b25",
   "metadata": {},
   "outputs": [
    {
     "name": "stdout",
     "output_type": "stream",
     "text": [
      "{('int', 9), ('Float', 9.0)}\n"
     ]
    }
   ],
   "source": [
    "values= {\n",
    "    (\"Float\", 9.0),\n",
    "    (\"int\",9)\n",
    "}\n",
    "print(values)"
   ]
  },
  {
   "cell_type": "code",
   "execution_count": null,
   "id": "2c64c3e2",
   "metadata": {},
   "outputs": [],
   "source": []
  }
 ],
 "metadata": {
  "kernelspec": {
   "display_name": "Python 3 (ipykernel)",
   "language": "python",
   "name": "python3"
  },
  "language_info": {
   "codemirror_mode": {
    "name": "ipython",
    "version": 3
   },
   "file_extension": ".py",
   "mimetype": "text/x-python",
   "name": "python",
   "nbconvert_exporter": "python",
   "pygments_lexer": "ipython3",
   "version": "3.12.2"
  }
 },
 "nbformat": 4,
 "nbformat_minor": 5
}
