{
 "cells": [
  {
   "cell_type": "markdown",
   "id": "a8adefe2",
   "metadata": {},
   "source": [
    "### Basic Patterns"
   ]
  },
  {
   "cell_type": "markdown",
   "id": "b0ac6b95",
   "metadata": {},
   "source": [
    "understanding how outer and inner loops control rows & columns."
   ]
  },
  {
   "cell_type": "raw",
   "id": "2b62db67",
   "metadata": {},
   "source": [
    "Print a 5×5 square of stars\n",
    "\n",
    "*****\n",
    "*****\n",
    "*****\n",
    "*****\n",
    "*****"
   ]
  },
  {
   "cell_type": "code",
   "execution_count": 13,
   "id": "f83840e3",
   "metadata": {},
   "outputs": [
    {
     "name": "stdout",
     "output_type": "stream",
     "text": [
      "*****\n",
      "*****\n",
      "*****\n",
      "*****\n",
      "*****\n"
     ]
    }
   ],
   "source": [
    "for i in range(5):\n",
    "    for j in range(5) :\n",
    "        print(\"*\",end = \"\")\n",
    "    print()"
   ]
  },
  {
   "cell_type": "raw",
   "id": "6804c3c6",
   "metadata": {},
   "source": [
    "Print a right triangle of stars\n",
    "\n",
    "*\n",
    "**\n",
    "***\n",
    "****\n",
    "*****"
   ]
  },
  {
   "cell_type": "code",
   "execution_count": 14,
   "id": "0fd0ea24",
   "metadata": {},
   "outputs": [
    {
     "name": "stdout",
     "output_type": "stream",
     "text": [
      "*\n",
      "**\n",
      "***\n",
      "****\n",
      "*****\n"
     ]
    }
   ],
   "source": [
    "for i in range(1,6) :\n",
    "    for j in range(i) :\n",
    "        print(\"*\",end = \"\")\n",
    "    print()"
   ]
  },
  {
   "cell_type": "raw",
   "id": "6b1ec6d9",
   "metadata": {},
   "source": [
    "Print numbers in a grid\n",
    "\n",
    "1 2 3 \n",
    "1 2 3 \n",
    "1 2 3 "
   ]
  },
  {
   "cell_type": "code",
   "execution_count": 23,
   "id": "e21e9283",
   "metadata": {},
   "outputs": [
    {
     "name": "stdout",
     "output_type": "stream",
     "text": [
      "1 2 3 \n",
      "1 2 3 \n",
      "1 2 3 \n"
     ]
    }
   ],
   "source": [
    "for i in range(3):\n",
    "    for j in range(1,4) :\n",
    "        print(j, end = \" \")\n",
    "    print()"
   ]
  },
  {
   "cell_type": "raw",
   "id": "1c0aeb22",
   "metadata": {},
   "source": [
    "Print row and column numbers\n",
    "\n",
    "Row1 : 1 2 3 \n",
    "Row2 : 1 2 3 \n",
    "Row3 : 1 2 3 "
   ]
  },
  {
   "cell_type": "code",
   "execution_count": 60,
   "id": "4035807a",
   "metadata": {},
   "outputs": [
    {
     "name": "stdout",
     "output_type": "stream",
     "text": [
      "Row1 : 1 2 3 \n",
      "Row2 : 1 2 3 \n",
      "Row3 : 1 2 3 \n"
     ]
    }
   ],
   "source": [
    "for i in range(1,4) :\n",
    "    print(f\"Row{i} :\", end = \" \")\n",
    "    for j in range(1,4) :\n",
    "        print(j, end = \" \")\n",
    "    print()"
   ]
  },
  {
   "cell_type": "markdown",
   "id": "d69a54ac",
   "metadata": {},
   "source": [
    "### Number Patterns\n",
    "#### Let's Increase complexity"
   ]
  },
  {
   "cell_type": "markdown",
   "id": "328e8459",
   "metadata": {},
   "source": [
    " - using variables inside both loops."
   ]
  },
  {
   "cell_type": "raw",
   "id": "f8e97a8c",
   "metadata": {},
   "source": [
    "Print increasing numbers in rows\n",
    "\n",
    "1\n",
    "12\n",
    "123\n",
    "1234\n",
    "12345"
   ]
  },
  {
   "cell_type": "code",
   "execution_count": 30,
   "id": "ac0685b3",
   "metadata": {},
   "outputs": [
    {
     "name": "stdout",
     "output_type": "stream",
     "text": [
      "\n",
      "1 \n",
      "1 2 \n",
      "1 2 3 \n",
      "1 2 3 4 \n",
      "1 2 3 4 5 \n"
     ]
    }
   ],
   "source": [
    "for i in range(1,6) :\n",
    "    for j in range(1,i+1):\n",
    "        print(j, end = \" \")\n",
    "    print()"
   ]
  },
  {
   "cell_type": "raw",
   "id": "f73ea914",
   "metadata": {},
   "source": [
    "Print a number rectangle (Continuous Numbers)\n",
    "\n",
    "1 2 3 \n",
    "4 5 6 \n",
    "7 8 9 "
   ]
  },
  {
   "cell_type": "code",
   "execution_count": 33,
   "id": "758311e9",
   "metadata": {},
   "outputs": [
    {
     "name": "stdout",
     "output_type": "stream",
     "text": [
      "1 2 3 \n",
      "4 5 6 \n",
      "7 8 9 \n"
     ]
    }
   ],
   "source": [
    "number = 1\n",
    "for i in range(3) :\n",
    "    for j in range(3) :\n",
    "        print(number, end = \" \")\n",
    "        number += 1\n",
    "    print()\n",
    "    "
   ]
  },
  {
   "cell_type": "raw",
   "id": "de1cd9d1",
   "metadata": {},
   "source": [
    "Reverse pattern\n",
    "\n",
    "5 4 3 2 1 \n",
    "4 3 2 1 \n",
    "3 2 1 \n",
    "2 1 \n",
    "1 "
   ]
  },
  {
   "cell_type": "code",
   "execution_count": 45,
   "id": "a4840b15",
   "metadata": {},
   "outputs": [
    {
     "name": "stdout",
     "output_type": "stream",
     "text": [
      "5 4 3 2 1 \n",
      "4 3 2 1 \n",
      "3 2 1 \n",
      "2 1 \n",
      "1 \n"
     ]
    }
   ],
   "source": [
    "for i in range(5,0,-1) :\n",
    "    for j in range (i,0,-1):\n",
    "        print(j, end = \" \")\n",
    "    print()"
   ]
  },
  {
   "cell_type": "markdown",
   "id": "8b117711",
   "metadata": {},
   "source": [
    "### Logical Patterns\n",
    "#### Let's Increase complexity"
   ]
  },
  {
   "cell_type": "markdown",
   "id": "45e8dc4c",
   "metadata": {},
   "source": [
    "combining conditions and nested loops."
   ]
  },
  {
   "cell_type": "raw",
   "id": "efb04a6c",
   "metadata": {},
   "source": [
    "Hollow Square\n",
    "\n",
    "*****\n",
    "*   *\n",
    "*   *\n",
    "*   *\n",
    "*****"
   ]
  },
  {
   "cell_type": "code",
   "execution_count": 83,
   "id": "7bb6dc16",
   "metadata": {},
   "outputs": [
    {
     "name": "stdout",
     "output_type": "stream",
     "text": [
      "*****\n",
      "*   *\n",
      "*   *\n",
      "*   *\n",
      "*****\n"
     ]
    }
   ],
   "source": [
    "n = 5\n",
    "for i in range(n):\n",
    "    for j in range(n):\n",
    "        if i == 0 or i == n-1 or j == 0 or j == n-1 :\n",
    "            print(\"*\", end = \"\")\n",
    "        else :\n",
    "            print(\" \", end = \"\")\n",
    "    print()\n"
   ]
  },
  {
   "cell_type": "markdown",
   "id": "d167ffd9",
   "metadata": {},
   "source": [
    "`if i == 0 or i == n-1 or j == 0 or j == n-1:`\n",
    "\n",
    "This checks **if the current position is at the border** of the square:\n",
    "\n",
    "- `i == 0` → top row\n",
    "\n",
    "- `i == n-1` → bottom row\n",
    "\n",
    "- `j == 0 `→ left border\n",
    "\n",
    "- `j == n-1` → right border\n",
    "\n",
    "If any of these are true → print a `*` \n",
    "Otherwise → print a space `\" \"`  \n"
   ]
  },
  {
   "cell_type": "markdown",
   "id": "b261829a",
   "metadata": {},
   "source": [
    "💡 **In simple words:**\n",
    "\n",
    "- Outer loop = how many rows\n",
    "\n",
    "- Inner loop = how many columns\n",
    "\n",
    "- `if` = decides whether to print a star or space\n",
    "\n",
    "- The first and last rows and columns are stars; the inside is empty (spaces)."
   ]
  },
  {
   "cell_type": "raw",
   "id": "9aea96b3",
   "metadata": {},
   "source": [
    "Multiplication Table (1–10)"
   ]
  },
  {
   "cell_type": "code",
   "execution_count": 54,
   "id": "d82ff6db",
   "metadata": {},
   "outputs": [
    {
     "name": "stdout",
     "output_type": "stream",
     "text": [
      "1*1=1\t1*2=2\t1*3=3\t1*4=4\t1*5=5\t1*6=6\t1*7=7\t1*8=8\t1*9=9\t1*10=10\t\n",
      "2*1=2\t2*2=4\t2*3=6\t2*4=8\t2*5=10\t2*6=12\t2*7=14\t2*8=16\t2*9=18\t2*10=20\t\n",
      "3*1=3\t3*2=6\t3*3=9\t3*4=12\t3*5=15\t3*6=18\t3*7=21\t3*8=24\t3*9=27\t3*10=30\t\n",
      "4*1=4\t4*2=8\t4*3=12\t4*4=16\t4*5=20\t4*6=24\t4*7=28\t4*8=32\t4*9=36\t4*10=40\t\n",
      "5*1=5\t5*2=10\t5*3=15\t5*4=20\t5*5=25\t5*6=30\t5*7=35\t5*8=40\t5*9=45\t5*10=50\t\n",
      "6*1=6\t6*2=12\t6*3=18\t6*4=24\t6*5=30\t6*6=36\t6*7=42\t6*8=48\t6*9=54\t6*10=60\t\n",
      "7*1=7\t7*2=14\t7*3=21\t7*4=28\t7*5=35\t7*6=42\t7*7=49\t7*8=56\t7*9=63\t7*10=70\t\n",
      "8*1=8\t8*2=16\t8*3=24\t8*4=32\t8*5=40\t8*6=48\t8*7=56\t8*8=64\t8*9=72\t8*10=80\t\n",
      "9*1=9\t9*2=18\t9*3=27\t9*4=36\t9*5=45\t9*6=54\t9*7=63\t9*8=72\t9*9=81\t9*10=90\t\n",
      "10*1=10\t10*2=20\t10*3=30\t10*4=40\t10*5=50\t10*6=60\t10*7=70\t10*8=80\t10*9=90\t10*10=100\t\n"
     ]
    }
   ],
   "source": [
    "for i in range(1,11) :\n",
    "    for j in range(1,11) :\n",
    "        print(f\"{i}*{j}={i*j}\", end = \"\\t\")\n",
    "    print()"
   ]
  },
  {
   "cell_type": "code",
   "execution_count": 62,
   "id": "ac8a9c32",
   "metadata": {},
   "outputs": [
    {
     "name": "stdout",
     "output_type": "stream",
     "text": [
      "1*1= 1\t2*1= 2\t3*1= 3\t4*1= 4\t5*1= 5\t6*1= 6\t7*1= 7\t8*1= 8\t9*1= 9\t10*1=10\t\n",
      "1*2= 2\t2*2= 4\t3*2= 6\t4*2= 8\t5*2=10\t6*2=12\t7*2=14\t8*2=16\t9*2=18\t10*2=20\t\n",
      "1*3= 3\t2*3= 6\t3*3= 9\t4*3=12\t5*3=15\t6*3=18\t7*3=21\t8*3=24\t9*3=27\t10*3=30\t\n",
      "1*4= 4\t2*4= 8\t3*4=12\t4*4=16\t5*4=20\t6*4=24\t7*4=28\t8*4=32\t9*4=36\t10*4=40\t\n",
      "1*5= 5\t2*5=10\t3*5=15\t4*5=20\t5*5=25\t6*5=30\t7*5=35\t8*5=40\t9*5=45\t10*5=50\t\n",
      "1*6= 6\t2*6=12\t3*6=18\t4*6=24\t5*6=30\t6*6=36\t7*6=42\t8*6=48\t9*6=54\t10*6=60\t\n",
      "1*7= 7\t2*7=14\t3*7=21\t4*7=28\t5*7=35\t6*7=42\t7*7=49\t8*7=56\t9*7=63\t10*7=70\t\n",
      "1*8= 8\t2*8=16\t3*8=24\t4*8=32\t5*8=40\t6*8=48\t7*8=56\t8*8=64\t9*8=72\t10*8=80\t\n",
      "1*9= 9\t2*9=18\t3*9=27\t4*9=36\t5*9=45\t6*9=54\t7*9=63\t8*9=72\t9*9=81\t10*9=90\t\n",
      "1*10=10\t2*10=20\t3*10=30\t4*10=40\t5*10=50\t6*10=60\t7*10=70\t8*10=80\t9*10=90\t10*10=100\t\n"
     ]
    }
   ],
   "source": [
    "for i in range(1, 11):  \n",
    "    for j in range(1, 11): \n",
    "        print(f\"{j}*{i}={i*j:2}\", end=\"\\t\") \n",
    "    print() \n"
   ]
  },
  {
   "cell_type": "markdown",
   "id": "6e75022a",
   "metadata": {},
   "source": [
    "- `i` controls the multiplier (vertical position).\n",
    "\n",
    "- `j` controls which table (horizontal position).\n",
    "\n",
    "- `:2` ensures numbers align neatly.\n",
    "\n",
    "- `end=\"\\t\"` separates tables with a tab for side-by-side display.\n",
    "\n"
   ]
  },
  {
   "cell_type": "raw",
   "id": "55f1aff1",
   "metadata": {},
   "source": [
    "Print a checkerboard pattern (alternate 0 and 1)\n",
    "\n",
    "1 0 1 0 1 \n",
    "0 1 0 1 0 \n",
    "1 0 1 0 1 \n",
    "0 1 0 1 0 \n",
    "1 0 1 0 1 "
   ]
  },
  {
   "cell_type": "code",
   "execution_count": 65,
   "id": "6ad772be",
   "metadata": {},
   "outputs": [
    {
     "name": "stdout",
     "output_type": "stream",
     "text": [
      "1 1 1 1 1 \n",
      "1 0 0 0 1 \n",
      "1 0 0 0 1 \n",
      "1 0 0 0 1 \n",
      "1 1 1 1 1 \n"
     ]
    }
   ],
   "source": [
    "n = 5\n",
    "for i in range(1,n +1) :\n",
    "    for j in range(1,n + 1) :\n",
    "        if (n % i == 0) or (n % j == 0) :\n",
    "            print(\"1\", end = \" \")\n",
    "        else :\n",
    "            print(\"0\", end = \" \")\n",
    "    print()"
   ]
  },
  {
   "cell_type": "markdown",
   "id": "af3ee49d",
   "metadata": {},
   "source": [
    "- `(n % i == 0)` is about whether `i` divides `n` exactly — it has **nothing to do with creating an alternating 1-0 pattern**.\n",
    "\n",
    "- The alternating `1010` pattern depends on the **position in the grid** (i.e., row + column), **not factors of n.**"
   ]
  },
  {
   "cell_type": "code",
   "execution_count": 69,
   "id": "787d798b",
   "metadata": {},
   "outputs": [
    {
     "name": "stdout",
     "output_type": "stream",
     "text": [
      "1 0 1 0 1 \n",
      "0 1 0 1 0 \n",
      "1 0 1 0 1 \n",
      "0 1 0 1 0 \n",
      "1 0 1 0 1 \n"
     ]
    }
   ],
   "source": [
    "n = 5 \n",
    "m = 5  \n",
    "\n",
    "for i in range(n):\n",
    "    for j in range(m):\n",
    "        if (i + j) % 2 == 0:\n",
    "            print(\"1\", end=\" \")\n",
    "        else:\n",
    "            print(\"0\", end=\" \")\n",
    "    print()\n"
   ]
  },
  {
   "cell_type": "markdown",
   "id": "e24f99d8",
   "metadata": {},
   "source": [
    "- `1` appears when `(row index + column index)` is even.\n",
    "\n",
    "- `0` appears when `(row index + column index)` is odd.\n",
    "\n",
    "- Creates a **perfect alternating 1010 checkerboard pattern**.\n",
    "\n",
    "- Pattern depends only on **position**, not on `n` or factors."
   ]
  },
  {
   "cell_type": "markdown",
   "id": "d7d7f60e",
   "metadata": {},
   "source": [
    "#### Step 1: Label rows (`i`) and columns (`j`)"
   ]
  },
  {
   "cell_type": "markdown",
   "id": "3d6095da",
   "metadata": {},
   "source": [
    "#### Step 2: Compute `i + j` for each cell"
   ]
  },
  {
   "cell_type": "markdown",
   "id": "6ef7f461",
   "metadata": {},
   "source": [
    "#### Step 3: Check `(i + j) % 2`\n",
    "\n",
    "- Even → 1\n",
    "- Odd → 0"
   ]
  },
  {
   "cell_type": "markdown",
   "id": "72b37ce7",
   "metadata": {},
   "source": [
    "- `(n % i == 0)` **→ factor check**, pattern depends on `n`’s divisors.\n",
    "\n",
    "- `(i + j) % 2 == 0` → **alternating pattern**, depends on **position in grid**.\n",
    "\n",
    "- For `1010` pattern, always use **row+column modulo** 2, not `n % i`."
   ]
  },
  {
   "cell_type": "markdown",
   "id": "caa1c4d4",
   "metadata": {},
   "source": [
    "### Interesting Challenges"
   ]
  },
  {
   "cell_type": "markdown",
   "id": "b62907a9",
   "metadata": {},
   "source": [
    "#### Let's Increase complexity"
   ]
  },
  {
   "cell_type": "markdown",
   "id": "6f19b87a",
   "metadata": {},
   "source": [
    "Combine logic, math, and formatting."
   ]
  },
  {
   "cell_type": "raw",
   "id": "3f0a90dc",
   "metadata": {},
   "source": [
    "Print a pyramid of stars\n",
    "\n",
    "    *\n",
    "   ***\n",
    "  *****\n",
    " *******\n",
    "*********\n"
   ]
  },
  {
   "cell_type": "code",
   "execution_count": 71,
   "id": "0a99401f",
   "metadata": {},
   "outputs": [
    {
     "name": "stdout",
     "output_type": "stream",
     "text": [
      "    *\n",
      "   ***\n",
      "  *****\n",
      " *******\n",
      "*********\n"
     ]
    }
   ],
   "source": [
    "rows = 5\n",
    "for i in range(1, rows + 1):\n",
    "    print(\" \" * (rows - i), end=\"\")   \n",
    "    print(\"*\" * (2 * i - 1))         \n"
   ]
  },
  {
   "cell_type": "markdown",
   "id": "2629573e",
   "metadata": {},
   "source": [
    "`for i in range(1, rows + 1):`  \n",
    "`i` represents the **current row number** (1 to 5).  \n",
    "`range(1, rows + 1)` generates `[1, 2, 3, 4, 5]`.  "
   ]
  },
  {
   "cell_type": "raw",
   "id": "ceb29cf5",
   "metadata": {},
   "source": [
    "\n",
    "| Row (i) | Spaces (`rows-i`) | Stars (`2*i-1`) | Output      |\n",
    "| ------- | ---------------- | --------------- | ----------- |\n",
    "| 1       | 4                | 1               | `    *`     |\n",
    "| 2       | 3                | 3               | `   ***`    |\n",
    "| 3       | 2                | 5               | `  *****`   |\n",
    "| 4       | 1                | 7               | ` *******`  |\n",
    "| 5       | 0                | 9               | `*********` |\n"
   ]
  },
  {
   "cell_type": "raw",
   "id": "b783d71c",
   "metadata": {},
   "source": [
    "Row 1: ....*       (4 spaces, 1 star)  \n",
    "Row 2: ...***      (3 spaces, 3 stars)  \n",
    "Row 3: ..*****     (2 spaces, 5 stars)  \n",
    "Row 4: .*******    (1 space, 7 stars)  \n",
    "Row 5: *********   (0 spaces, 9 stars)  \n"
   ]
  },
  {
   "cell_type": "markdown",
   "id": "3a7a881e",
   "metadata": {},
   "source": [
    "The `.` shows empty space.\n",
    "\n",
    "As the spaces decrease and stars increase, the stars are **pushed to the center**, forming a pyramid."
   ]
  },
  {
   "cell_type": "raw",
   "id": "89431ccf",
   "metadata": {},
   "source": [
    "Print Floyd’s Triangle\n",
    "\n",
    "1\n",
    "2 3\n",
    "4 5 6\n",
    "7 8 9 10\n"
   ]
  },
  {
   "cell_type": "code",
   "execution_count": 80,
   "id": "3ce93c48",
   "metadata": {},
   "outputs": [
    {
     "name": "stdout",
     "output_type": "stream",
     "text": [
      "1 \n",
      "2 3 \n",
      "4 5 6 \n",
      "7 8 9 10 \n"
     ]
    }
   ],
   "source": [
    "nums = 1\n",
    "\n",
    "for i in range(1,5):\n",
    "    for j in range(1,i+1):\n",
    "        print(nums, end = \" \")\n",
    "        nums += 1\n",
    "    print()"
   ]
  },
  {
   "cell_type": "raw",
   "id": "b301fb11",
   "metadata": {},
   "source": [
    "Pascal’s Triangle\n",
    "\n",
    "     1 \n",
    "    1 1 \n",
    "   1 2 1 \n",
    "  1 3 3 1 \n",
    " 1 4 6 4 1 \n"
   ]
  },
  {
   "cell_type": "code",
   "execution_count": 81,
   "id": "b56ced36",
   "metadata": {},
   "outputs": [
    {
     "name": "stdout",
     "output_type": "stream",
     "text": [
      "     1 \n",
      "    1 1 \n",
      "   1 2 1 \n",
      "  1 3 3 1 \n",
      " 1 4 6 4 1 \n"
     ]
    }
   ],
   "source": [
    "from math import comb\n",
    "\n",
    "rows = 5\n",
    "for i in range(rows):\n",
    "    print(\" \" * (rows - i), end=\"\")\n",
    "    for j in range(i + 1):\n",
    "        print(comb(i, j), end=\" \")\n",
    "    print()\n"
   ]
  },
  {
   "cell_type": "markdown",
   "id": "1fa46961",
   "metadata": {},
   "source": [
    "\n",
    "So every middle value in Pascal’s Triangle is formed by **adding the two values diagonally above it**.\n"
   ]
  },
  {
   "cell_type": "raw",
   "id": "a6095a67",
   "metadata": {},
   "source": [
    "  1\n",
    " 1 1\n",
    "1 2 1\n",
    " ↑ ↑\n",
    " │ │\n",
    " └─┴──→ 2  (1 + 1)\n"
   ]
  },
  {
   "cell_type": "markdown",
   "id": "311fb172",
   "metadata": {},
   "source": [
    "#### 🧠 Formula Reminder\n",
    "\n",
    "\\[\n",
    "C(n, k) = C(n-1, k-1) + C(n-1, k)\n",
    "\\]\n",
    "\n"
   ]
  },
  {
   "cell_type": "markdown",
   "id": "629b67ab",
   "metadata": {},
   "source": [
    "#### 🔍 Meaning of Each Part\n",
    "\n",
    "- **n** → Row number *(starting from 0)*  \n",
    "- **k** → Position inside that row *(starting from 0)*  \n",
    "- **C(n, k)** → Value at that specific position in Pascal’s Triangle  \n",
    "\n",
    "---\n",
    "\n",
    "For example:\n",
    "\\[\n",
    "C(4, 2) = 6\n",
    "\\]\n",
    "This means:\n",
    "- It’s in **row 4** (the 5th row, counting from 0)\n",
    "- It’s at **position 2** in that row  \n",
    "- And its value is **6**\n"
   ]
  },
  {
   "cell_type": "markdown",
   "id": "de8d2861",
   "metadata": {},
   "source": [
    "#### 🔹 We start from:\n",
    "\n",
    "**Row 3** → `1 3 3 1`  \n",
    "We want to build → **Row 4**"
   ]
  },
  {
   "cell_type": "raw",
   "id": "10b63eee",
   "metadata": {},
   "source": [
    "     1 \n",
    "    1 1 \n",
    "   1 2 1 \n",
    "  1 3 3 1 \n",
    " 1 4 6 4 1 "
   ]
  },
  {
   "cell_type": "markdown",
   "id": "65146d38",
   "metadata": {},
   "source": [
    "| Position (k) | Formula Used               | Explanation                                                                             | Result |\n",
    "| ------------ | -------------------------- | --------------------------------------------------------------------------------------- | ------ |\n",
    "| **0**        | `C(4,0)=1 (edge)`          | The first element of every row is **always 1**. (No number above-left exists.)          | **1**  |\n",
    "| **1**        | `C(4,1)=C(3,0)+C(3,1)=1+3` | Take the number **above-left** (`C(3,0)=1`) and **above-right** (`C(3,1)=3`), add them. | **4**  |\n",
    "| **2**        | `C(4,2)=C(3,1)+C(3,2)=3+3` | Add the two numbers above it → both 3s from Row 3.                                      | **6**  |\n",
    "| **3**        | `C(4,3)=C(3,2)+C(3,3)=3+1` | Add upper-left (`3`) and upper-right (`1`).                                             | **4**  |\n",
    "| **4**        | `C(4,4)=1 (edge)`          | Last element of every row is **always 1**. (No number above-right exists.)              | **1**  |\n"
   ]
  },
  {
   "cell_type": "code",
   "execution_count": null,
   "id": "80aee504",
   "metadata": {},
   "outputs": [],
   "source": []
  }
 ],
 "metadata": {
  "kernelspec": {
   "display_name": "Python 3 (ipykernel)",
   "language": "python",
   "name": "python3"
  },
  "language_info": {
   "codemirror_mode": {
    "name": "ipython",
    "version": 3
   },
   "file_extension": ".py",
   "mimetype": "text/x-python",
   "name": "python",
   "nbconvert_exporter": "python",
   "pygments_lexer": "ipython3",
   "version": "3.12.2"
  }
 },
 "nbformat": 4,
 "nbformat_minor": 5
}
