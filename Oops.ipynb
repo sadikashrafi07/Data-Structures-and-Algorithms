{
 "cells": [
  {
   "cell_type": "markdown",
   "id": "30a61eaa",
   "metadata": {},
   "source": [
    "### What is OOPs (Object-Oriented Programming)?\n",
    "- OOPs is a **programming style** based on the concept of **\"objects\"**.\n",
    "- It helps organize code by **grouping data and related functions** together.\n",
    "- It makes programs more **modular, reusable, and easier to manage**."
   ]
  },
  {
   "cell_type": "markdown",
   "id": "28ef5242",
   "metadata": {},
   "source": [
    "### What is a Class?\n",
    "- A **class** is a **template** or **blueprint** to create objects.\n",
    "- It defines attributes (variables) and methods (functions) that the objects will have.\n",
    "- Objects created from a class can access and use these attributes and methods to perform various actions."
   ]
  },
  {
   "cell_type": "markdown",
   "id": "b492ce86",
   "metadata": {},
   "source": [
    "### Constructor\n",
    "- All classes have a function called __init__(),which is always executed when the object is being initiated\n",
    "- If we not write the constructor python automatically create an constructor..\n",
    "- Constructor will call for each new object\n",
    "- constructor is basically used for object initialization. if we want to create some attributes we do it inside the constructor"
   ]
  },
  {
   "cell_type": "code",
   "execution_count": 1,
   "id": "422d1a60",
   "metadata": {},
   "outputs": [
    {
     "name": "stdout",
     "output_type": "stream",
     "text": [
      "Blue\n",
      "Range Rover\n"
     ]
    }
   ],
   "source": [
    "class Car :\n",
    "    color = \"Blue\"                ## attribute values\n",
    "    brand = \"Range Rover\"\n",
    "\n",
    "#object Variable    \n",
    "c1 = Car() # Class Name\n",
    "print(c1.color)\n",
    "print(c1.brand)"
   ]
  },
  {
   "cell_type": "markdown",
   "id": "c83057a0",
   "metadata": {},
   "source": [
    "### Default Constructor\n",
    "- A constructor that takes no arguments.  \n",
    "- It is used to initialize objects with default values.  \n",
    "### Parameterized Constructor  \n",
    "- A constructor that takes arguments.\n",
    "- It is used to initialize objects with specific values provided during object creation."
   ]
  },
  {
   "cell_type": "code",
   "execution_count": 1,
   "id": "6a7bf2c1",
   "metadata": {},
   "outputs": [
    {
     "name": "stdout",
     "output_type": "stream",
     "text": [
      "Name: Unknown, Age: 0\n",
      "Name: Alice, Age: 20\n"
     ]
    }
   ],
   "source": [
    "class Student:\n",
    "    # Default Constructor\n",
    "    def __init__(self, name=\"Unknown\", age=0):\n",
    "        self.name = name\n",
    "        self.age = age\n",
    "\n",
    "    def display(self):\n",
    "        print(f\"Name: {self.name}, Age: {self.age}\")\n",
    "\n",
    "# Creating objects\n",
    "s1 = Student()               # Calls default constructor\n",
    "s2 = Student(\"Alice\", 20)    # Calls parameterized constructor\n",
    "\n",
    "s1.display()  # Output: Name: Unknown, Age: 0\n",
    "s2.display()  # Output: Name: Alice, Age: 20\n"
   ]
  },
  {
   "cell_type": "markdown",
   "id": "aaa22a0e",
   "metadata": {},
   "source": [
    "### Self Parameter:\n",
    "- The self parameter is a reference to the current instance of the class.and is used to access the variables that belongs to the class"
   ]
  },
  {
   "cell_type": "code",
   "execution_count": 2,
   "id": "0a00fefc",
   "metadata": {},
   "outputs": [
    {
     "name": "stdout",
     "output_type": "stream",
     "text": [
      "adding new student in database\n",
      "Sadiq 89\n",
      "adding new student in database\n",
      "Irafn 99\n"
     ]
    }
   ],
   "source": [
    "class Student :\n",
    "    \n",
    "    ## default constructors\n",
    "    def __init__(self):\n",
    "        pass\n",
    "    \n",
    "    ## parameterized constructors\n",
    "    def __init__(self,name, marks):\n",
    "        self.name = name  ## These are instance attributes the attributes are different for every object\n",
    "        self.marks = marks\n",
    "        print(\"adding new student in database\")\n",
    "        \n",
    "s1 = Student(\"Sadiq\",89)\n",
    "print(s1.name,s1.marks)\n",
    "\n",
    "s2 = Student(\"Irafn\",99)\n",
    "print(s2.name,s2.marks)"
   ]
  },
  {
   "cell_type": "markdown",
   "id": "1b2f6ba1",
   "metadata": {},
   "source": [
    "default constructor parameters are not matching with object paramters. so parameterized costructor runs.. Generally for single class we do not build multiple constructors. we see our requirements and define only single constructor"
   ]
  },
  {
   "cell_type": "markdown",
   "id": "c7e66af8",
   "metadata": {},
   "source": [
    "### Class Attributes\n",
    "- Shared by all instances of the class.\n",
    "- Defined outside any method, usually right under the class name.\n",
    "- it stores in memory singletime.If we create the 10 objects .then,also it will store only for single time\n",
    "### Instance Attributes\n",
    "- Unique to each object (instance).\n",
    "- Defined inside the constructor (__init__) using self.\n",
    "- it stores in different memory locations"
   ]
  },
  {
   "cell_type": "markdown",
   "id": "3caa0152",
   "metadata": {},
   "source": [
    "- In a class like Student, we often deal with multiple students where each student has unique data such as their **name** and **age**. Since these values vary from one student to another, we use **instance attributes**. This ensures that **separate memory** is allocated for each object's data, allowing us to store and manage unique information per student.\n",
    "\n",
    "- However, in many cases, all students may belong to the **same school**. Storing the same school name repeatedly for every student as an instance attribute would lead to **unnecessary memory usage**. To avoid this, we use a **class attribute** for the school name. Class attributes are **shared among all instances** of the class, meaning only **one copy** of the attribute exists in memory regardless of how many objects are created. This makes the program more **efficient** in terms of memory management."
   ]
  },
  {
   "cell_type": "code",
   "execution_count": 3,
   "id": "cca24d4c",
   "metadata": {},
   "outputs": [
    {
     "name": "stdout",
     "output_type": "stream",
     "text": [
      "Name: Alice\n",
      "Age: 14\n",
      "School: Green Valley School\n",
      "Name: Bob\n",
      "Age: 15\n",
      "School: Green Valley School\n",
      "\n",
      "After changing class attribute:\n",
      "Name: Alice\n",
      "Age: 14\n",
      "School: Blue Ridge School\n",
      "Name: Bob\n",
      "Age: 15\n",
      "School: Blue Ridge School\n"
     ]
    }
   ],
   "source": [
    "class Student:\n",
    "    # Class attribute\n",
    "    school_name = \"Green Valley School\"\n",
    "\n",
    "    # Constructor with instance attributes\n",
    "    def __init__(self, name, age):\n",
    "        self.name = name      # Instance attribute\n",
    "        self.age = age        # Instance attribute\n",
    "\n",
    "    def show(self):\n",
    "        print(\"Name:\", self.name)\n",
    "        print(\"Age:\", self.age)\n",
    "        print(\"School:\", Student.school_name)\n",
    "\n",
    "# Creating instances\n",
    "s1 = Student(\"Alice\", 14)\n",
    "s2 = Student(\"Bob\", 15)\n",
    "\n",
    "s1.show()\n",
    "s2.show()\n",
    "\n",
    "# Changing class attribute\n",
    "Student.school_name = \"Blue Ridge School\"\n",
    "\n",
    "print(\"\\nAfter changing class attribute:\")\n",
    "s1.show()\n",
    "s2.show()\n"
   ]
  },
  {
   "cell_type": "code",
   "execution_count": null,
   "id": "d27ae8d0",
   "metadata": {},
   "outputs": [],
   "source": [
    "class Student :\n",
    "    \n",
    "    college_name = \"Jain\"  \n",
    "    name = \"Anonymous\"   ## class Attribute\n",
    "    \n",
    "    def __init__(self,name, marks):\n",
    "        self.name = name   ##object attribute \n",
    "        self.marks = marks\n",
    "        print(\"adding new student in database\")\n",
    "        \n",
    "s1 = Student(\"Sadiq\",89)\n",
    "print(s1.name,s1.marks)\n",
    "\n",
    "s2 = Student(\"Irafn\",99)\n",
    "print(s2.name,s2.marks)\n",
    "print(s2.college_name)"
   ]
  },
  {
   "cell_type": "markdown",
   "id": "042cc14d",
   "metadata": {},
   "source": [
    "- If **class attribute** and **instance attribute** have the **same name**, Python gives priority to the **instance attribute**.\n",
    "- When you pass a value through the constructor, it becomes an **instance attribute**.\n",
    "- While accessing the attribute, Python checks the **instance first**, then the **class**.\n",
    "- So, the instance attribute value is used (not the class attribute).\n",
    "- Instance Attribute  >  Class Attribute"
   ]
  },
  {
   "cell_type": "markdown",
   "id": "0d88b6e2",
   "metadata": {},
   "source": [
    "### Methods :\n",
    "- A **method** is a **function defined inside a class** that operates on the objects (instances) of that class.\n",
    "- It can access and modify the object’s attributes using the self keyword.\n",
    "- Methods define the **behavior** of the objects and allow interaction with the object’s data."
   ]
  },
  {
   "cell_type": "code",
   "execution_count": 5,
   "id": "7de1faa2",
   "metadata": {},
   "outputs": [
    {
     "name": "stdout",
     "output_type": "stream",
     "text": [
      "hi Sadik your avg score is : 98.0\n",
      "hi Irfan your avg score is : 98.0\n"
     ]
    }
   ],
   "source": [
    "class Student :\n",
    "    \n",
    "    def __init__(self,name,marks):\n",
    "        self.name = name\n",
    "        self.marks = marks\n",
    "        \n",
    "    def get_avg(self):\n",
    "        sum = 0\n",
    "        for val in self.marks:\n",
    "            sum += val\n",
    "        print(\"hi\",self.name,\"your avg score is :\", sum/3)\n",
    "        \n",
    "s1 = Student(\"Sadik\",[99,98,97])\n",
    "s1.get_avg()\n",
    "\n",
    "s1.name = \"Irfan\"\n",
    "s1.get_avg()"
   ]
  },
  {
   "cell_type": "markdown",
   "id": "b3fe8751",
   "metadata": {},
   "source": [
    "attribute values can be manipulation is possible and valid in the classes and objects"
   ]
  },
  {
   "cell_type": "code",
   "execution_count": 8,
   "id": "b532b663",
   "metadata": {},
   "outputs": [
    {
     "name": "stdout",
     "output_type": "stream",
     "text": [
      "Welcome Student Sadiq\n",
      "89\n"
     ]
    }
   ],
   "source": [
    "class Student :\n",
    "    \n",
    "    def __init__(self,name, marks):\n",
    "        self.name = name  \n",
    "        self.marks = marks\n",
    "        \n",
    "    def welcome(self):\n",
    "        print(\"Welcome Student\",self.name )\n",
    "        \n",
    "    def get_marks(self):\n",
    "        return self.marks\n",
    "        \n",
    "        \n",
    "        \n",
    "s1 = Student(\"Sadiq\",89)\n",
    "s1.welcome()\n",
    "print(s1.get_marks())\n"
   ]
  },
  {
   "cell_type": "markdown",
   "id": "ae9d6216",
   "metadata": {},
   "source": [
    "### Decorator\n",
    "- A decorator is a special function in Python that is used to modify the behavior of another function or method—without changing its actual code.\n",
    "- In OOP, decorators are commonly used to define class methods and static methods."
   ]
  },
  {
   "cell_type": "markdown",
   "id": "86134b4e",
   "metadata": {},
   "source": [
    "### Static Method:\n",
    "- A static method is a method that belongs to the class, not to any specific object.\n",
    "- It does not take **self** or **cls** as the first argument, so it cannot access instance or class attributes directly.\n",
    "- It is used when you want to perform a task that is related to the class, but doesn't need access to object or class data.\n",
    "- We use the **@staticmethod** decorator to define it."
   ]
  },
  {
   "cell_type": "code",
   "execution_count": 8,
   "id": "5724fff9",
   "metadata": {},
   "outputs": [
    {
     "name": "stdout",
     "output_type": "stream",
     "text": [
      "Jain college\n"
     ]
    }
   ],
   "source": [
    "class Student :\n",
    "    \n",
    "    @staticmethod\n",
    "    def college():\n",
    "        print(\"Jain college\")\n",
    "        \n",
    "s1 = Student()\n",
    "s1.college()"
   ]
  },
  {
   "cell_type": "markdown",
   "id": "7b16c014",
   "metadata": {},
   "source": [
    "### Abstraction\n",
    "- Hiding the implementation details of a class and only showing the essential features to the user"
   ]
  },
  {
   "cell_type": "markdown",
   "id": "dc880d60",
   "metadata": {},
   "source": [
    "- **Abstract methods** should only define the **signature** (name and parameters) of the method. They **should not contain any implementation details**.\n",
    "- The **purpose of the abstract method** is to define a contract, which ensures that **subclasses must implement** that method.\n",
    "- The implementation of the method is done in **concrete classes** (like MyCar), not in the abstract class."
   ]
  },
  {
   "cell_type": "markdown",
   "id": "38bf7e9b",
   "metadata": {},
   "source": [
    "- A **concrete class** is a **class** that **provides full implementation** for all of its methods, including those declared in abstract classes. Concrete classes can be instantiated (objects can be created from them) and can **perform all the operations** described by their methods.\n",
    "\n",
    "- In contrast, an **abstract class** only defines the structure (methods or properties) but **does not implement them fully**. Concrete classes **inherit** from abstract classes and **implement all required methods**."
   ]
  },
  {
   "cell_type": "code",
   "execution_count": 13,
   "id": "87d481ba",
   "metadata": {},
   "outputs": [
    {
     "name": "stdout",
     "output_type": "stream",
     "text": [
      "Car is Started...\n"
     ]
    }
   ],
   "source": [
    "from abc import ABC, abstractmethod\n",
    "\n",
    "# Abstract Class\n",
    "class Car(ABC):\n",
    "    @abstractmethod\n",
    "    def start(self):  ##Start is an abstract method\n",
    "        pass  # Hiding internal logic, just defining what should happen\n",
    "\n",
    "# Concrete Class\n",
    "class MyCar(Car):\n",
    "    def __init__(self):\n",
    "        self.acc = False\n",
    "        self.brek = False\n",
    "        self.clutch = False\n",
    "\n",
    "    def start(self):\n",
    "        self.acc = True\n",
    "        self.clutch = True\n",
    "        print(\"Car is Started...\")\n",
    "\n",
    "# Creating object and starting the car\n",
    "c1 = MyCar()\n",
    "c1.start()\n"
   ]
  },
  {
   "cell_type": "code",
   "execution_count": 4,
   "id": "d3d3125d",
   "metadata": {},
   "outputs": [
    {
     "name": "stdout",
     "output_type": "stream",
     "text": [
      "Processing ₹8000 through Razorpay\n",
      "Processing $3000 through PayPal\n"
     ]
    }
   ],
   "source": [
    "from abc import ABC, abstractmethod\n",
    "\n",
    "# Abstract Class\n",
    "class PaymentGateway(ABC):\n",
    "    @abstractmethod\n",
    "    def process_payment(self, amount):\n",
    "        pass\n",
    "\n",
    "# Concrete Class 1\n",
    "class Razorpay(PaymentGateway):\n",
    "    def process_payment(self, amount):\n",
    "        print(f\"Processing ₹{amount} through Razorpay\")\n",
    "\n",
    "# Concrete Class 2\n",
    "class PayPal(PaymentGateway):\n",
    "    def process_payment(self, amount):\n",
    "        print(f\"Processing ${amount} through PayPal\")\n",
    "\n",
    "        \n",
    "R1 = Razorpay()\n",
    "R1.process_payment(8000)\n",
    "P1 = PayPal()\n",
    "P1.process_payment(3000)"
   ]
  },
  {
   "cell_type": "code",
   "execution_count": 5,
   "id": "2573535f",
   "metadata": {},
   "outputs": [
    {
     "name": "stdout",
     "output_type": "stream",
     "text": [
      "Woof!\n",
      "Dog is running!\n",
      "Chirp!\n",
      "Bird is flying!\n"
     ]
    }
   ],
   "source": [
    "from abc import ABC, abstractmethod\n",
    "\n",
    "# Abstract Class with multiple abstract methods\n",
    "class Animal(ABC):\n",
    "    \n",
    "    @abstractmethod\n",
    "    def speak(self):\n",
    "        pass  # The speak method must be implemented by concrete classes\n",
    "\n",
    "    @abstractmethod\n",
    "    def move(self):\n",
    "        pass  # The move method must also be implemented by concrete classes\n",
    "\n",
    "# Concrete Class 1\n",
    "class Dog(Animal):\n",
    "    def speak(self):\n",
    "        print(\"Woof!\")\n",
    "    \n",
    "    def move(self):\n",
    "        print(\"Dog is running!\")\n",
    "\n",
    "# Concrete Class 2\n",
    "class Bird(Animal):\n",
    "    def speak(self):\n",
    "        print(\"Chirp!\")\n",
    "    \n",
    "    def move(self):\n",
    "        print(\"Bird is flying!\")\n",
    "\n",
    "# Creating objects from concrete classes\n",
    "dog = Dog()\n",
    "dog.speak()   \n",
    "dog.move()    \n",
    "\n",
    "bird = Bird()\n",
    "bird.speak()  \n",
    "bird.move()   \n"
   ]
  },
  {
   "cell_type": "markdown",
   "id": "bd7720ea",
   "metadata": {},
   "source": [
    "- The abstract class `Animal` defines two abstract methods:\n",
    "  - `speak()`\n",
    "  - `move()`\n",
    "  \n",
    "- The concrete classes `Dog` and `Bird` each provide their own implementations for both abstract methods.\n",
    "\n",
    "- You **cannot instantiate** `Animal` directly because it has abstract methods, but you can create instances of `Dog` and `Bird` since they have implemented all the abstract methods.\n"
   ]
  },
  {
   "cell_type": "code",
   "execution_count": null,
   "id": "494aaa9f",
   "metadata": {},
   "outputs": [],
   "source": [
    "its purpose is to provide a blueprint that all subclasses must follow. That is abstraction."
   ]
  },
  {
   "cell_type": "markdown",
   "id": "09e634ee",
   "metadata": {},
   "source": [
    "### Encapsulation\n",
    "- Wrapping data and functions into a single unit(object)"
   ]
  },
  {
   "cell_type": "markdown",
   "id": "e8e53121",
   "metadata": {},
   "source": [
    "- **Encapsulation** is one of the core principles of Object-Oriented Programming (OOP).\n",
    "- It means **wrapping data (variables) and code (methods)** together into a single unit — a class.\n",
    "- It helps in **restricting direct access** to some components of an object, which is useful for **data protection**.\n",
    "- In Python, we achieve encapsulation by using:\n",
    "  - Public members → accessible everywhere.\n",
    "  - Protected members (_single underscore) → intended to be accessed only in subclasses.\n",
    "  - Private members (__double underscore) → not accessible directly outside the class.\n"
   ]
  },
  {
   "cell_type": "code",
   "execution_count": 1,
   "id": "b2646437",
   "metadata": {},
   "outputs": [
    {
     "name": "stdout",
     "output_type": "stream",
     "text": [
      "Sadiq\n",
      "85\n",
      "95\n"
     ]
    }
   ],
   "source": [
    "class Student:\n",
    "    def __init__(self, name, marks):\n",
    "        self.name = name              # Public attribute\n",
    "        self.__marks = marks          # Private attribute\n",
    "\n",
    "    def get_marks(self):\n",
    "        return self.__marks           # Public method to access private data\n",
    "\n",
    "    def set_marks(self, marks):\n",
    "        if 0 <= marks <= 100:\n",
    "            self.__marks = marks\n",
    "        else:\n",
    "            print(\"Invalid marks!\")\n",
    "\n",
    "# Creating object\n",
    "s1 = Student(\"Sadiq\", 85)\n",
    "\n",
    "# Accessing public attribute\n",
    "print(s1.name)           # Output: Sadiq\n",
    "\n",
    "# Accessing private attribute directly (Not allowed)\n",
    "# print(s1.__marks)      # ❌ AttributeError\n",
    "\n",
    "# Accessing private attribute using getter\n",
    "print(s1.get_marks())    # ✅ Output: 85\n",
    "\n",
    "# Modifying marks using setter\n",
    "s1.set_marks(95)\n",
    "print(s1.get_marks())    # ✅ Output: 95\n"
   ]
  },
  {
   "cell_type": "markdown",
   "id": "801dcf2a",
   "metadata": {},
   "source": [
    "- We used `__marks` as a **private variable** that cannot be accessed directly from outside the class.\n",
    "- We used **getter and setter methods** (`get_marks()` and `set_marks()`) to **safely access and modify** the private data.\n",
    "- This is **encapsulation** — keeping data safe and controlling how it’s accessed or changed.\n"
   ]
  },
  {
   "cell_type": "markdown",
   "id": "0d707ab7",
   "metadata": {},
   "source": [
    "- **Getter and Setter in Python**\n",
    "\n",
    "- A **getter** is a method used to **access the value** of a private or protected attribute.\n",
    "\n",
    "- A **setter** is a method used to **modify or update the value** of a private or protected attribute, often with **validation logic**.    \n",
    "\n",
    "\n"
   ]
  },
  {
   "cell_type": "markdown",
   "id": "32003f94",
   "metadata": {},
   "source": [
    "- **Why Use Them?**\n",
    "  - To **protect data** from being accessed or changed directly.\n",
    "  - To add **validation** before updating values.\n",
    "  - To follow the **encapsulation** principle in Object-Oriented Programming (OOP)."
   ]
  },
  {
   "cell_type": "code",
   "execution_count": 2,
   "id": "f84d883a",
   "metadata": {},
   "outputs": [],
   "source": [
    "class Student:\n",
    "    def __init__(self, name, marks, password):\n",
    "        self.name = name            # Public\n",
    "        self._marks = marks         # Protected (by convention)\n",
    "        self.__password = password  # Private\n",
    "\n",
    "    # Getter for private password\n",
    "    @property\n",
    "    def password(self):\n",
    "        return self.__password\n",
    "\n",
    "    # Setter for private password\n",
    "    @password.setter\n",
    "    def password(self, new_pass):\n",
    "        if len(new_pass) >= 6:\n",
    "            self.__password = new_pass\n",
    "        else:\n",
    "            print(\"Password too short!\")\n",
    "\n",
    "    # Getter for protected marks\n",
    "    @property\n",
    "    def marks(self):\n",
    "        return self._marks\n",
    "\n",
    "    # Setter for protected marks\n",
    "    @marks.setter\n",
    "    def marks(self, new_marks):\n",
    "        if 0 <= new_marks <= 100:\n",
    "            self._marks = new_marks\n",
    "        else:\n",
    "            print(\"Invalid marks!\")\n"
   ]
  },
  {
   "cell_type": "code",
   "execution_count": 3,
   "id": "1cd8b720",
   "metadata": {},
   "outputs": [
    {
     "name": "stdout",
     "output_type": "stream",
     "text": [
      "Name: Sadiq\n",
      "Marks (direct): 85\n",
      "Marks (getter): 85\n",
      "Updated Marks: 95\n",
      "Invalid marks!\n",
      "Password: secret123\n",
      "Updated Password: newpass123\n",
      "Password too short!\n"
     ]
    }
   ],
   "source": [
    "s1 = Student(\"Sadiq\", 85, \"secret123\")\n",
    "\n",
    "# Public access\n",
    "print(\"Name:\", s1.name)\n",
    "\n",
    "# Protected access (allowed, but not recommended outside class)\n",
    "print(\"Marks (direct):\", s1._marks)\n",
    "\n",
    "# Using @property getter\n",
    "print(\"Marks (getter):\", s1.marks)\n",
    "\n",
    "# Using @property setter\n",
    "s1.marks = 95  # Sets valid marks\n",
    "print(\"Updated Marks:\", s1.marks)\n",
    "\n",
    "s1.marks = 110  # ❌ Invalid, handled by setter\n",
    "\n",
    "# Accessing private attribute via getter\n",
    "print(\"Password:\", s1.password)\n",
    "\n",
    "# Changing private attribute via setter\n",
    "s1.password = \"newpass123\"\n",
    "print(\"Updated Password:\", s1.password)\n",
    "\n",
    "s1.password = \"123\"  # ❌ Too short\n"
   ]
  },
  {
   "cell_type": "markdown",
   "id": "8f2eca3b",
   "metadata": {},
   "source": [
    "<table style=\"width:100%; border-collapse: collapse;\">\n",
    "  <thead>\n",
    "    <tr>\n",
    "      <th style=\"border: 1px solid #ddd; padding: 8px; background-color: #f2f2f2; text-align: left;\">Feature</th>\n",
    "      <th style=\"border: 1px solid #ddd; padding: 8px; background-color: #f2f2f2; text-align: left;\">Abstraction</th>\n",
    "      <th style=\"border: 1px solid #ddd; padding: 8px; background-color: #f2f2f2; text-align: left;\">Encapsulation</th>\n",
    "    </tr>\n",
    "  </thead>\n",
    "  <tbody>\n",
    "    <tr>\n",
    "      <td style=\"border: 1px solid #ddd; padding: 8px; text-align: left;\"><b>Definition</b></td>\n",
    "      <td style=\"border: 1px solid #ddd; padding: 8px; text-align: left;\">Hides <b>implementation details</b> from the user</td>\n",
    "      <td style=\"border: 1px solid #ddd; padding: 8px; text-align: left;\">Hides <b>data (variables)</b> by wrapping into a class</td>\n",
    "    </tr>\n",
    "    <tr>\n",
    "      <td style=\"border: 1px solid #ddd; padding: 8px; text-align: left;\"><b>Focus On</b></td>\n",
    "      <td style=\"border: 1px solid #ddd; padding: 8px; text-align: left;\"><b>What</b> an object does</td>\n",
    "      <td style=\"border: 1px solid #ddd; padding: 8px; text-align: left;\"><b>How</b> data is stored or modified</td>\n",
    "    </tr>\n",
    "    <tr>\n",
    "      <td style=\"border: 1px solid #ddd; padding: 8px; text-align: left;\"><b>Goal</b></td>\n",
    "      <td style=\"border: 1px solid #ddd; padding: 8px; text-align: left;\">Reduce complexity by showing only <b>essential features</b></td>\n",
    "      <td style=\"border: 1px solid #ddd; padding: 8px; text-align: left;\">Protect data and maintain <b>control</b> over access</td>\n",
    "    </tr>\n",
    "    <tr>\n",
    "      <td style=\"border: 1px solid #ddd; padding: 8px; text-align: left;\"><b>Achieved By</b></td>\n",
    "      <td style=\"border: 1px solid #ddd; padding: 8px; text-align: left;\">Using <b>abstract classes, interfaces, or methods</b></td>\n",
    "      <td style=\"border: 1px solid #ddd; padding: 8px; text-align: left;\">Using <b>private/protected attributes</b> + <b>getters/setters</b></td>\n",
    "    </tr>\n",
    "    <tr>\n",
    "      <td style=\"border: 1px solid #ddd; padding: 8px; text-align: left;\"><b>Real World</b></td>\n",
    "      <td style=\"border: 1px solid #ddd; padding: 8px; text-align: left;\">Using an ATM: You don’t know how it works inside</td>\n",
    "      <td style=\"border: 1px solid #ddd; padding: 8px; text-align: left;\">Starting a car: You don’t handle engine parts directly</td>\n",
    "    </tr>\n",
    "    <tr>\n",
    "      <td style=\"border: 1px solid #ddd; padding: 8px; text-align: left;\"><b>Access</b></td>\n",
    "      <td style=\"border: 1px solid #ddd; padding: 8px; text-align: left;\">User only sees <b>functionality</b> (not inner code)</td>\n",
    "      <td style=\"border: 1px solid #ddd; padding: 8px; text-align: left;\">Developer <b>controls data access</b></td>\n",
    "    </tr>\n",
    "  </tbody>\n",
    "</table>\n"
   ]
  },
  {
   "cell_type": "raw",
   "id": "166cbb98",
   "metadata": {},
   "source": [
    "Create student class that takes name & marks of 3 subjects as arguments in constructor. Then create a method to print the average.\n",
    "\n"
   ]
  },
  {
   "cell_type": "code",
   "execution_count": 2,
   "id": "f7342219",
   "metadata": {},
   "outputs": [
    {
     "name": "stdout",
     "output_type": "stream",
     "text": [
      "Rs. 1000 was debited\n",
      "Total balance = 9000\n",
      "Rs. 500 was credited\n",
      "Total balance = 9500\n"
     ]
    }
   ],
   "source": [
    "class Account:\n",
    "    def __init__(self, bal, account_no):\n",
    "        self.balance = bal\n",
    "        self.account_no = account_no\n",
    "\n",
    "    def debit(self, amount):\n",
    "        if amount > self.balance:\n",
    "            print(\"Insufficient funds\")\n",
    "        else:\n",
    "            self.balance -= amount\n",
    "            print(\"Rs.\", amount, \"was debited\")\n",
    "        print(\"Total balance =\", self.get_balance())\n",
    "\n",
    "    def credit(self, amount):\n",
    "        self.balance += amount\n",
    "        print(\"Rs.\", amount, \"was credited\")\n",
    "        print(\"Total balance =\", self.get_balance())\n",
    "\n",
    "    def get_balance(self):\n",
    "        return self.balance\n",
    "\n",
    "# Create an instance of Account\n",
    "acc1 = Account(10000, 12345)\n",
    "\n",
    "# Perform debit and credit operations\n",
    "acc1.debit(1000)  # Rs. 1000 was debited, Total balance = 9000\n",
    "acc1.credit(500)  # Rs. 500 was credited, Total balance = 9500\n"
   ]
  },
  {
   "cell_type": "markdown",
   "id": "f3217e0e",
   "metadata": {},
   "source": [
    "###  `del` Keyword in Python (OOP Context)\n",
    "\n",
    "- The `del` keyword is used to **delete object properties** or the **object itself**."
   ]
  },
  {
   "cell_type": "markdown",
   "id": "80331f2e",
   "metadata": {},
   "source": [
    "### Explanation:\n",
    "\n",
    "- When we create an object in a class, it occupies **memory space**.\n",
    "- The object stores **attributes and methods**, which also take up memory.\n",
    "- If the object is **no longer needed**, we can:\n",
    "  - Delete specific **attributes** of the object.\n",
    "  - Or delete the **entire object** using `del`."
   ]
  },
  {
   "cell_type": "code",
   "execution_count": 24,
   "id": "0fdbb900",
   "metadata": {},
   "outputs": [
    {
     "name": "stdout",
     "output_type": "stream",
     "text": [
      "Blue\n",
      "Range Rover\n"
     ]
    },
    {
     "ename": "NameError",
     "evalue": "name 'c1' is not defined",
     "output_type": "error",
     "traceback": [
      "\u001b[0;31m---------------------------------------------------------------------------\u001b[0m",
      "\u001b[0;31mNameError\u001b[0m                                 Traceback (most recent call last)",
      "Cell \u001b[0;32mIn[24], line 12\u001b[0m\n\u001b[1;32m      9\u001b[0m \u001b[38;5;28mprint\u001b[39m(c1\u001b[38;5;241m.\u001b[39mbrand)\n\u001b[1;32m     11\u001b[0m \u001b[38;5;28;01mdel\u001b[39;00m c1\n\u001b[0;32m---> 12\u001b[0m \u001b[38;5;28mprint\u001b[39m(c1\u001b[38;5;241m.\u001b[39mcolor)\n",
      "\u001b[0;31mNameError\u001b[0m: name 'c1' is not defined"
     ]
    }
   ],
   "source": [
    "### Del key word\n",
    "\n",
    "class Car :\n",
    "    color = \"Blue\"\n",
    "    brand = \"Range Rover\"\n",
    "    \n",
    "c1 = Car()\n",
    "print(c1.color)\n",
    "print(c1.brand)\n",
    "\n",
    "del c1\n",
    "print(c1.color)\n"
   ]
  },
  {
   "cell_type": "code",
   "execution_count": 1,
   "id": "60dc6414",
   "metadata": {},
   "outputs": [
    {
     "name": "stdout",
     "output_type": "stream",
     "text": [
      "Sadiq is created.\n",
      "Sadiq is deleted from memory.\n"
     ]
    }
   ],
   "source": [
    "class Student:\n",
    "    def __init__(self, name):\n",
    "        self.name = name\n",
    "        self.marks = 90\n",
    "        print(f\"{self.name} is created.\")\n",
    "\n",
    "    def __del__(self):\n",
    "        print(f\"{self.name} is deleted from memory.\")\n",
    "\n",
    "# Creating object\n",
    "s1 = Student(\"Sadiq\")\n",
    "\n",
    "# Deleting an attribute\n",
    "del s1.marks\n",
    "\n",
    "# Deleting the whole object\n",
    "del s1\n"
   ]
  },
  {
   "cell_type": "markdown",
   "id": "7f2b778c",
   "metadata": {},
   "source": [
    "### `__del__()` Method in Python\n",
    "\n",
    "- `__del__()` is a **special method** known as a **destructor**.\n",
    "- It is **automatically called** when:\n",
    "  - An object is deleted using `del`\n",
    "  - Or the object goes out of scope"
   ]
  },
  {
   "cell_type": "markdown",
   "id": "87dfd7cd",
   "metadata": {},
   "source": [
    "### Purpose:\n",
    "\n",
    "- Used to **release resources** or perform cleanup actions such as:\n",
    "  - Closing files or network connections\n",
    "  - Freeing up memory\n",
    "  - Printing logs (for debugging)"
   ]
  },
  {
   "cell_type": "code",
   "execution_count": 2,
   "id": "77769527",
   "metadata": {},
   "outputs": [
    {
     "name": "stdout",
     "output_type": "stream",
     "text": [
      "data.txt opened\n",
      "data.txt closed\n"
     ]
    }
   ],
   "source": [
    "class FileHandler:\n",
    "    def __init__(self, filename):\n",
    "        self.filename = filename\n",
    "        print(f\"{self.filename} opened\")\n",
    "\n",
    "    def __del__(self):\n",
    "        print(f\"{self.filename} closed\")\n",
    "\n",
    "f1 = FileHandler(\"data.txt\")\n",
    "\n",
    "# Deleting the object\n",
    "del f1\n"
   ]
  },
  {
   "cell_type": "markdown",
   "id": "e29e03f4",
   "metadata": {},
   "source": [
    "### Private Attributes and Methods in Python\n",
    "\n",
    "- **Private attributes and methods** are used to **restrict access** from outside the class.\n",
    "- They are meant to be accessed **only within the class**.\n",
    "- In Python, we define private members using a **double underscore (`__`)** prefix."
   ]
  },
  {
   "cell_type": "markdown",
   "id": "8160f688",
   "metadata": {},
   "source": [
    "###  Why use private methods if we can't access them directly?\n",
    "\n",
    "- Sometimes, **certain methods are only meant to be used internally** by other methods in the class.\n",
    "- This helps in **encapsulation** and prevents accidental misuse of internal logic."
   ]
  },
  {
   "cell_type": "code",
   "execution_count": 4,
   "id": "a4294d1d",
   "metadata": {},
   "outputs": [
    {
     "name": "stdout",
     "output_type": "stream",
     "text": [
      "Deposited: ₹500\n",
      "1500\n"
     ]
    },
    {
     "ename": "AttributeError",
     "evalue": "'BankAccount' object has no attribute '__update_balance'",
     "output_type": "error",
     "traceback": [
      "\u001b[0;31m---------------------------------------------------------------------------\u001b[0m",
      "\u001b[0;31mAttributeError\u001b[0m                            Traceback (most recent call last)",
      "Cell \u001b[0;32mIn[4], line 24\u001b[0m\n\u001b[1;32m     21\u001b[0m acc\u001b[38;5;241m.\u001b[39mdeposit(\u001b[38;5;241m500\u001b[39m)         \u001b[38;5;66;03m# ✅ Works\u001b[39;00m\n\u001b[1;32m     22\u001b[0m \u001b[38;5;28mprint\u001b[39m(acc\u001b[38;5;241m.\u001b[39mget_balance()) \u001b[38;5;66;03m# ✅ Works\u001b[39;00m\n\u001b[0;32m---> 24\u001b[0m acc\u001b[38;5;241m.\u001b[39m__update_balance(\u001b[38;5;241m1000\u001b[39m)  \u001b[38;5;66;03m# ❌ Error: private method, not accessible directly\u001b[39;00m\n\u001b[1;32m     25\u001b[0m acc\u001b[38;5;241m.\u001b[39m__balance\n",
      "\u001b[0;31mAttributeError\u001b[0m: 'BankAccount' object has no attribute '__update_balance'"
     ]
    }
   ],
   "source": [
    "class BankAccount:\n",
    "    def __init__(self, balance):\n",
    "        self.__balance = balance  # private attribute\n",
    "\n",
    "    def __update_balance(self, amount):  # private method\n",
    "        self.__balance += amount\n",
    "\n",
    "    def deposit(self, amount):  # public method\n",
    "        if amount > 0:\n",
    "            self.__update_balance(amount)\n",
    "            print(f\"Deposited: ₹{amount}\")\n",
    "        else:\n",
    "            print(\"Invalid amount!\")\n",
    "\n",
    "    def get_balance(self):\n",
    "        return self.__balance\n",
    "    \n",
    "    \n",
    "acc = BankAccount(1000)\n",
    "\n",
    "acc.deposit(500)         # Works\n",
    "print(acc.get_balance()) # Works\n",
    "\n",
    "acc.__update_balance(1000)  # Error: private method, not accessible directly\n",
    "acc.__balance               # Error: private attribute"
   ]
  },
  {
   "cell_type": "code",
   "execution_count": 9,
   "id": "706172b2",
   "metadata": {},
   "outputs": [
    {
     "name": "stdout",
     "output_type": "stream",
     "text": [
      "12345\n",
      "abcde\n"
     ]
    },
    {
     "ename": "AttributeError",
     "evalue": "'Account' object has no attribute '__acc_pass'",
     "output_type": "error",
     "traceback": [
      "\u001b[0;31m---------------------------------------------------------------------------\u001b[0m",
      "\u001b[0;31mAttributeError\u001b[0m                            Traceback (most recent call last)",
      "Cell \u001b[0;32mIn[9], line 13\u001b[0m\n\u001b[1;32m     11\u001b[0m \u001b[38;5;28mprint\u001b[39m(a1\u001b[38;5;241m.\u001b[39macc_no)\n\u001b[1;32m     12\u001b[0m a1\u001b[38;5;241m.\u001b[39mreset_pass()\n\u001b[0;32m---> 13\u001b[0m \u001b[38;5;28mprint\u001b[39m(a1\u001b[38;5;241m.\u001b[39m__acc_pass)\n",
      "\u001b[0;31mAttributeError\u001b[0m: 'Account' object has no attribute '__acc_pass'"
     ]
    }
   ],
   "source": [
    "class Account :\n",
    "    \n",
    "    def __init__(self,acc_no,acc_pass):\n",
    "        self.acc_no = acc_no\n",
    "        self.__acc_pass = acc_pass\n",
    "        \n",
    "    def reset_pass(self):\n",
    "        print(self.__acc_pass)\n",
    "        \n",
    "a1 = Account(12345,\"abcde\")\n",
    "print(a1.acc_no)\n",
    "a1.reset_pass()\n",
    "print(a1.__acc_pass)"
   ]
  },
  {
   "cell_type": "markdown",
   "id": "cc0b6f07",
   "metadata": {},
   "source": [
    "## Inheritance"
   ]
  },
  {
   "cell_type": "markdown",
   "id": "4fca7110",
   "metadata": {},
   "source": [
    "- Inheritance is a feature in OOP where a **child (derived) class** can inherit methods and properties from a **parent (base) class**.\n",
    "- It helps in **code reusability** and avoids redundancy.\n",
    "\n",
    "#### Explanation\n",
    "- If we write some **methods or properties** in one class, and we want the **same behavior** in another class,\n",
    "- Then we **don’t need to write the same code again**.\n",
    "- We can simply **inherit** from that class and use those features.\n",
    "- This is called **Inheritance** and it helps in **code reusability**."
   ]
  },
  {
   "cell_type": "markdown",
   "id": "27671c18",
   "metadata": {},
   "source": [
    "### Single level inheritance \n",
    "- When one class inherits from **only one** parent class, it is called **Single Inheritance**."
   ]
  },
  {
   "cell_type": "code",
   "execution_count": 13,
   "id": "441423a5",
   "metadata": {},
   "outputs": [
    {
     "name": "stdout",
     "output_type": "stream",
     "text": [
      "Fortuner\n",
      "black\n",
      "car started..\n"
     ]
    }
   ],
   "source": [
    "class Car :\n",
    "    \n",
    "    color = \"black\"\n",
    "    \n",
    "    @staticmethod\n",
    "    def start():\n",
    "        print(\"car started..\")\n",
    "        \n",
    "    @staticmethod\n",
    "    def stop():\n",
    "        print(\"car stopped..\")\n",
    "        \n",
    "class Toyotacar(Car):\n",
    "    \n",
    "    def __init__(self,name):\n",
    "        self.name = name\n",
    "        \n",
    "c1 = Toyotacar(\"Fortuner\")\n",
    "print(c1.name)\n",
    "print(c1.color)\n",
    "c1.start()"
   ]
  },
  {
   "cell_type": "markdown",
   "id": "a5eed432",
   "metadata": {},
   "source": [
    "### Multi-level inheritance\n",
    "\n",
    "- In **Multilevel Inheritance**, a class is derived from a class that is already derived from another class.\n",
    "- This forms a **chain** of inheritance like: `Grandparent` → `Parent` → `Child`\n",
    "- Child class contains the properties of **both** Grandparent and Parent class properties"
   ]
  },
  {
   "cell_type": "code",
   "execution_count": 22,
   "id": "3eb8b689",
   "metadata": {},
   "outputs": [
    {
     "name": "stdout",
     "output_type": "stream",
     "text": [
      "diesel\n",
      "car started..\n"
     ]
    }
   ],
   "source": [
    "class Car :\n",
    "\n",
    "    @staticmethod\n",
    "    def start():\n",
    "        print(\"car started..\")\n",
    "        \n",
    "    @staticmethod\n",
    "    def stop():\n",
    "        print(\"car stopped..\")\n",
    "        \n",
    "class Toyotacar(Car):\n",
    "    \n",
    "    def __init__(self,brand):\n",
    "        self.brand = brand\n",
    "        \n",
    "class Fortuner(Toyotacar):\n",
    "    \n",
    "    def __init__(self,type):\n",
    "        self.type = type\n",
    "        \n",
    "c1 = Fortuner(\"diesel\")\n",
    "print(c1.type)\n",
    "c1.start()\n"
   ]
  },
  {
   "cell_type": "markdown",
   "id": "cc13f74b",
   "metadata": {},
   "source": [
    "### Multiple Inheritance\n",
    "\n",
    "- **Multiple Inheritance** is a feature in object-oriented programming where a class can inherit from **more than one parent class**.\n",
    "- This allows the child class to access attributes and methods from **multiple base classes**."
   ]
  },
  {
   "cell_type": "raw",
   "id": "fd98ba24",
   "metadata": {},
   "source": [
    "# Structure\n",
    "\n",
    "Parent1 Class      Parent2 Class\n",
    "     ↓                  ↓\n",
    "       \\            /\n",
    "        \\          /\n",
    "         \\        /\n",
    "          Child Class\n"
   ]
  },
  {
   "cell_type": "code",
   "execution_count": 5,
   "id": "30b44473",
   "metadata": {},
   "outputs": [
    {
     "name": "stdout",
     "output_type": "stream",
     "text": [
      "Child: Father: Cooking, Driving\n"
     ]
    }
   ],
   "source": [
    "# Parent Class 1\n",
    "class Father:\n",
    "    def skills(self):\n",
    "        print(\"Father: Cooking, Driving\")\n",
    "\n",
    "# Parent Class 2\n",
    "class Mother:\n",
    "    def skills(self):\n",
    "        print(\"Mother: Painting, Teaching\")\n",
    "\n",
    "# Child Class inherits from both Father and Mother\n",
    "class Child(Father, Mother):\n",
    "    def skills(self):\n",
    "        print(\"Child: \", end=\"\")\n",
    "        super().skills()  # Calls Father’s method due to method resolution order (MRO)\n",
    "\n",
    "# Create an object of Child class\n",
    "c = Child()\n",
    "c.skills()\n"
   ]
  },
  {
   "cell_type": "markdown",
   "id": "8efbc16e",
   "metadata": {},
   "source": [
    "#### Note:\n",
    "- In Python, ***Method Resolution Order (MRO)*** determines which parent method is called when using super().\n",
    "- We can access methods from both parents explicitly if needed:"
   ]
  },
  {
   "cell_type": "code",
   "execution_count": 6,
   "id": "4d3dd8cc",
   "metadata": {},
   "outputs": [
    {
     "name": "stdout",
     "output_type": "stream",
     "text": [
      "Father: Cooking, Driving\n",
      "Mother: Painting, Teaching\n"
     ]
    }
   ],
   "source": [
    "Father.skills(c)\n",
    "Mother.skills(c)"
   ]
  },
  {
   "cell_type": "code",
   "execution_count": 4,
   "id": "34b1f918",
   "metadata": {},
   "outputs": [
    {
     "name": "stdout",
     "output_type": "stream",
     "text": [
      "wlcome to class c\n",
      "welcome to class B\n",
      "welcome to class A\n"
     ]
    }
   ],
   "source": [
    "class A :\n",
    "    varA = \"welcome to class A\"\n",
    "class B :\n",
    "    varB = \"welcome to class B\"\n",
    "class C(A,B) :\n",
    "    varC = \"wlcome to class c\"\n",
    "    \n",
    "c1 = C()\n",
    "print(c1.varC)\n",
    "print(c1.varB)\n",
    "print(c1.varA)\n"
   ]
  },
  {
   "cell_type": "markdown",
   "id": "17c6eaf8",
   "metadata": {},
   "source": [
    "### Hierarchical inheritance\n",
    "- **Hierarchical Inheritance** occurs when **multiple child classes inherit from a single parent class**.\n",
    "- The base class shares its properties and methods with all derived (child) classes."
   ]
  },
  {
   "cell_type": "raw",
   "id": "85f79d00",
   "metadata": {},
   "source": [
    "### Structure\n",
    "\n",
    "         Parent Class\n",
    "           /     \\\n",
    "          /       \\\n",
    " Child Class 1   Child Class 2\n"
   ]
  },
  {
   "cell_type": "code",
   "execution_count": 6,
   "id": "8ae3c4dd",
   "metadata": {},
   "outputs": [
    {
     "name": "stdout",
     "output_type": "stream",
     "text": [
      "This function is in parent class.\n",
      "This function is in child 1.\n",
      "This function is in parent class.\n",
      "This function is in child 2.\n"
     ]
    }
   ],
   "source": [
    "# Base class\n",
    "class Parent:\n",
    "    def func1(self):\n",
    "        print(\"This function is in parent class.\")\n",
    "\n",
    "# Derived class1\n",
    "\n",
    "\n",
    "class Child1(Parent):\n",
    "    def func2(self):\n",
    "        print(\"This function is in child 1.\")\n",
    "\n",
    "# Derivied class2\n",
    "\n",
    "\n",
    "class Child2(Parent):\n",
    "    def func3(self):\n",
    "        print(\"This function is in child 2.\")\n",
    "\n",
    "\n",
    "object1 = Child1()\n",
    "object2 = Child2()\n",
    "object1.func1()\n",
    "object1.func2()\n",
    "object2.func1()\n",
    "object2.func3()"
   ]
  },
  {
   "cell_type": "markdown",
   "id": "f568a1c1",
   "metadata": {},
   "source": [
    "### Hybrid Inheritance\n",
    "- **Hybrid Inheritance** is a combination of **two or more types** of inheritance.\n",
    "- It typically mixes **single, multiple, hierarchical**, and/or **multilevel** inheritance.\n",
    "- Python’s Method Resolution Order (MRO) handles potential conflicts in such complex structures."
   ]
  },
  {
   "cell_type": "raw",
   "id": "b97d68f8",
   "metadata": {},
   "source": [
    "### Structure\n",
    "\n",
    "\n",
    "      Class A\n",
    "      /    \\\n",
    "   Class B  Class C\n",
    "      \\    /\n",
    "      Class D\n"
   ]
  },
  {
   "cell_type": "markdown",
   "id": "bf4bcac7",
   "metadata": {},
   "source": [
    "- Here:\n",
    "  - `Class B` and `Class C` inherit from `Class A` (Hierarchical)\n",
    "  - `Class D` inherits from both `Class B` and `Class C` (Multiple)"
   ]
  },
  {
   "cell_type": "code",
   "execution_count": 7,
   "id": "fee7550f",
   "metadata": {},
   "outputs": [
    {
     "name": "stdout",
     "output_type": "stream",
     "text": [
      "Method from Class A\n",
      "Method from Class B\n",
      "Method from Class C\n",
      "Method from Class D\n"
     ]
    }
   ],
   "source": [
    "# Base Class\n",
    "class A:\n",
    "    def method_A(self):\n",
    "        print(\"Method from Class A\")\n",
    "\n",
    "# Class B inherits A\n",
    "class B(A):\n",
    "    def method_B(self):\n",
    "        print(\"Method from Class B\")\n",
    "\n",
    "# Class C inherits A\n",
    "class C(A):\n",
    "    def method_C(self):\n",
    "        print(\"Method from Class C\")\n",
    "\n",
    "# Class D inherits from B and C\n",
    "class D(B, C):\n",
    "    def method_D(self):\n",
    "        print(\"Method from Class D\")\n",
    "\n",
    "# Create an object of Class D\n",
    "d = D()\n",
    "\n",
    "# Access all methods\n",
    "d.method_A()\n",
    "d.method_B()\n",
    "d.method_C()\n",
    "d.method_D()"
   ]
  },
  {
   "cell_type": "code",
   "execution_count": 7,
   "id": "5e198616",
   "metadata": {},
   "outputs": [
    {
     "name": "stdout",
     "output_type": "stream",
     "text": [
      "This function is in school.\n",
      "This function is in student 1. \n"
     ]
    }
   ],
   "source": [
    "class School:\n",
    "    def func1(self):\n",
    "        print(\"This function is in school.\")\n",
    "\n",
    "\n",
    "class Student1(School):\n",
    "    def func2(self):\n",
    "        print(\"This function is in student 1. \")\n",
    "\n",
    "\n",
    "class Student2(School):\n",
    "    def func3(self):\n",
    "        print(\"This function is in student 2.\")\n",
    "\n",
    "\n",
    "class Student3(Student1, School):\n",
    "    def func4(self):\n",
    "        print(\"This function is in student 3.\")\n",
    "\n",
    "\n",
    "object = Student3()\n",
    "object.func1()\n",
    "object.func2()\n"
   ]
  },
  {
   "cell_type": "markdown",
   "id": "d5e83479",
   "metadata": {},
   "source": [
    "### Super() method\n",
    "- The `super()` function allows **access to methods of a parent class** from the child class.\n",
    "- It is commonly used in **inheritance** to call methods from a **parent class** without explicitly naming it.\n",
    "\n",
    "####  Syntax:\n",
    "super().method_name()"
   ]
  },
  {
   "cell_type": "code",
   "execution_count": 12,
   "id": "00382155",
   "metadata": {},
   "outputs": [
    {
     "name": "stdout",
     "output_type": "stream",
     "text": [
      "car started..\n",
      "Fortuner\n",
      "SUV\n"
     ]
    }
   ],
   "source": [
    "class Car:\n",
    "    \n",
    "    def __init__(self, type):\n",
    "        self.type = type\n",
    "\n",
    "    @staticmethod\n",
    "    def start():\n",
    "        print(\"car started..\")\n",
    "        \n",
    "    @staticmethod\n",
    "    def stop():\n",
    "        print(\"car stopped..\")\n",
    "        \n",
    "class Toyotacar(Car):\n",
    "    \n",
    "    def __init__(self, type, name):\n",
    "        super().__init__(type)  # Calling the parent class's constructor \n",
    "        self.name = name\n",
    "        super().start()\n",
    "        \n",
    "c1 = Toyotacar(\"SUV\", \"Fortuner\")  # Creating an instance of Toyotacar with both type and name\n",
    "print(c1.name)  \n",
    "print(c1.type)  \n"
   ]
  },
  {
   "cell_type": "markdown",
   "id": "4d815ccf",
   "metadata": {},
   "source": [
    "###  `@classmethod` in Python\n",
    "\n",
    "- A **`@classmethod`** is a method that is **bound to the class** and not the instance.\n",
    "- It can **modify class state** that applies across all instances of the class.\n",
    "- The first parameter is **`cls`**, which refers to the class itself.\n",
    "\n",
    "###  When to Use?\n",
    "- When you want to **modify class-level attributes**.\n",
    "- When the behavior should not depend on instance-specific data.\n",
    "- Helps maintain consistency when class attributes are shared across objects."
   ]
  },
  {
   "cell_type": "markdown",
   "id": "5fa84602",
   "metadata": {},
   "source": [
    "### Problem Scenario:\n",
    "When the **instance and class attribute names are the same**, and you try to modify it using the object, **a new instance attribute is created** instead of modifying the class attribute."
   ]
  },
  {
   "cell_type": "code",
   "execution_count": 14,
   "id": "bfc54283",
   "metadata": {},
   "outputs": [
    {
     "name": "stdout",
     "output_type": "stream",
     "text": [
      "sadiq\n",
      "sadiq\n"
     ]
    }
   ],
   "source": [
    "class Person:\n",
    "    name = \"anonymous\"\n",
    "    \n",
    "    @classmethod\n",
    "    def changeName(cls,name):\n",
    "        cls.name = name\n",
    "\n",
    "        \n",
    "p1 = Person()\n",
    "p1.changeName(\"sadiq\")\n",
    "print(p1.name)\n",
    "print(Person.name)"
   ]
  },
  {
   "cell_type": "code",
   "execution_count": null,
   "id": "7a619808",
   "metadata": {},
   "outputs": [],
   "source": [
    "## self.__class__.name = name ----\n",
    "#                                 |--> These are the another two methods to change the class attribute name\n",
    "## Person.name = name         ---- "
   ]
  },
  {
   "cell_type": "markdown",
   "id": "a1cc7244",
   "metadata": {},
   "source": [
    "##### Without @classmethod (Wrong Approach)"
   ]
  },
  {
   "cell_type": "code",
   "execution_count": 2,
   "id": "0d959ce1",
   "metadata": {},
   "outputs": [
    {
     "name": "stdout",
     "output_type": "stream",
     "text": [
      "sadiq\n",
      "anonymous\n"
     ]
    }
   ],
   "source": [
    "class Person:\n",
    "    name = \"anonymous\"\n",
    "    \n",
    "p1 = Person()\n",
    "p1.name = \"sadiq\"  # This creates a new instance attribute, doesn't change class attribute\n",
    "\n",
    "print(p1.name)        # sadiq (instance-level)\n",
    "print(Person.name)    # anonymous (still unchanged)\n"
   ]
  },
  {
   "cell_type": "markdown",
   "id": "1071228d",
   "metadata": {},
   "source": [
    "<table style=\"width:100%; border-collapse: collapse;\">\n",
    "  <thead>\n",
    "    <tr>\n",
    "      <th style=\"border: 1px solid #ddd; padding: 8px; background-color: #f2f2f2; text-align: left;\">Feature</th>\n",
    "      <th style=\"border: 1px solid #ddd; padding: 8px; background-color: #f2f2f2; text-align: left;\">Instance Method</th>\n",
    "      <th style=\"border: 1px solid #ddd; padding: 8px; background-color: #f2f2f2; text-align: left;\">Class Method</th>\n",
    "      <th style=\"border: 1px solid #ddd; padding: 8px; background-color: #f2f2f2; text-align: left;\">Static Method</th>\n",
    "    </tr>\n",
    "  </thead>\n",
    "  <tbody>\n",
    "    <tr>\n",
    "      <td style=\"border: 1px solid #ddd; padding: 8px; text-align: left;\"><b>Defined using</b></td>\n",
    "      <td style=\"border: 1px solid #ddd; padding: 8px; text-align: left;\">No decorator</td>\n",
    "      <td style=\"border: 1px solid #ddd; padding: 8px; text-align: left;\">@classmethod</td>\n",
    "      <td style=\"border: 1px solid #ddd; padding: 8px; text-align: left;\">@staticmethod</td>\n",
    "    </tr>\n",
    "    <tr>\n",
    "      <td style=\"border: 1px solid #ddd; padding: 8px; text-align: left;\"><b>First Argument</b></td>\n",
    "      <td style=\"border: 1px solid #ddd; padding: 8px; text-align: left;\">self (instance)</td>\n",
    "      <td style=\"border: 1px solid #ddd; padding: 8px; text-align: left;\">cls (class)</td>\n",
    "      <td style=\"border: 1px solid #ddd; padding: 8px; text-align: left;\">No default argument</td>\n",
    "    </tr>\n",
    "    <tr>\n",
    "      <td style=\"border: 1px solid #ddd; padding: 8px; text-align: left;\"><b>Access</b></td>\n",
    "      <td style=\"border: 1px solid #ddd; padding: 8px; text-align: left;\">Instance & class attributes</td>\n",
    "      <td style=\"border: 1px solid #ddd; padding: 8px; text-align: left;\">Only class attributes</td>\n",
    "      <td style=\"border: 1px solid #ddd; padding: 8px; text-align: left;\">Neither instance nor class attributes</td>\n",
    "    </tr>\n",
    "    <tr>\n",
    "      <td style=\"border: 1px solid #ddd; padding: 8px; text-align: left;\"><b>Used For</b></td>\n",
    "      <td style=\"border: 1px solid #ddd; padding: 8px; text-align: left;\">Accessing/modifying instance data</td>\n",
    "      <td style=\"border: 1px solid #ddd; padding: 8px; text-align: left;\">Modifying class-level data, factory methods</td>\n",
    "      <td style=\"border: 1px solid #ddd; padding: 8px; text-align: left;\">Utility/helper functions (independent logic)</td>\n",
    "    </tr>\n",
    "    <tr>\n",
    "      <td style=\"border: 1px solid #ddd; padding: 8px; text-align: left;\"><b>When to Use</b></td>\n",
    "      <td style=\"border: 1px solid #ddd; padding: 8px; text-align: left;\">When method needs access to the object</td>\n",
    "      <td style=\"border: 1px solid #ddd; padding: 8px; text-align: left;\">When method needs access to the class but not instance</td>\n",
    "      <td style=\"border: 1px solid #ddd; padding: 8px; text-align: left;\">When method doesn't need access to instance or class</td>\n",
    "    </tr>\n",
    "  </tbody>\n",
    "</table>\n"
   ]
  },
  {
   "cell_type": "markdown",
   "id": "557e9fa1",
   "metadata": {},
   "source": [
    "### @property Method in Python\n",
    "\n",
    "####  What is `@property`?\n",
    "- The `@property` decorator is used to define a **getter method**.\n",
    "- It allows us to **access a method like an attribute** (without using `()`).\n",
    "- It helps **encapsulate and control access** to private variables.\n",
    "\n",
    "####  When to Use It?\n",
    "Use `@property` when:\n",
    "- You want to give **read-only access** to an attribute.\n",
    "- You want to **add logic** when accessing a variable.\n",
    "- You want to **hide internal/private attributes** but still allow safe external access."
   ]
  },
  {
   "cell_type": "code",
   "execution_count": 15,
   "id": "d6103363",
   "metadata": {},
   "outputs": [
    {
     "name": "stdout",
     "output_type": "stream",
     "text": [
      "98.0\n"
     ]
    }
   ],
   "source": [
    "class Student:\n",
    "    \n",
    "    def __init__(self,phy,chem,maths):\n",
    "        self.phy = phy\n",
    "        self.chem = chem\n",
    "        self.maths = maths\n",
    "        self.percentage = str((self.phy+self.chem+self.maths)/3)\n",
    "        \n",
    "stu1 = Student(98,97,99)\n",
    "print(stu1.percentage)"
   ]
  },
  {
   "cell_type": "markdown",
   "id": "c78227b6",
   "metadata": {},
   "source": [
    "we assume that actual phy marks was 86 mistakenly it has made 98 "
   ]
  },
  {
   "cell_type": "code",
   "execution_count": 26,
   "id": "beadaf5a",
   "metadata": {},
   "outputs": [
    {
     "name": "stdout",
     "output_type": "stream",
     "text": [
      "98.0%\n",
      "86\n",
      "98.0%\n"
     ]
    }
   ],
   "source": [
    "class Student:\n",
    "    \n",
    "    def __init__(self,phy,chem,maths):\n",
    "        self.phy = phy\n",
    "        self.chem = chem\n",
    "        self.maths = maths\n",
    "        self.percentage = str((self.phy+self.chem+self.maths)/3) + \"%\"\n",
    "    \n",
    "        \n",
    "stu1 = Student(98,97,99)\n",
    "print(stu1.percentage)\n",
    "\n",
    "stu1.phy = 86\n",
    "print(stu1.phy)\n",
    "print(stu1.percentage)"
   ]
  },
  {
   "cell_type": "markdown",
   "id": "99dacf8e",
   "metadata": {},
   "source": [
    "but we can see here after changing marks the percentage is not updated it was reserved for original marks. the way we can do this is"
   ]
  },
  {
   "cell_type": "code",
   "execution_count": 21,
   "id": "ff05c1a8",
   "metadata": {},
   "outputs": [
    {
     "name": "stdout",
     "output_type": "stream",
     "text": [
      "98.0\n",
      "86\n",
      "94.0\n"
     ]
    }
   ],
   "source": [
    "class Student:\n",
    "    \n",
    "    def __init__(self, phy, chem, maths):\n",
    "        self.phy = phy\n",
    "        self.chem = chem\n",
    "        self.maths = maths\n",
    "        \n",
    "    def calPercentage(self):\n",
    "        self.percentage = (self.phy + self.chem + self.maths) / 3\n",
    "        return self.percentage  \n",
    "        \n",
    "stu1 = Student(98, 97, 99)\n",
    "print(stu1.calPercentage()) \n",
    "\n",
    "stu1.phy = 86  \n",
    "print(stu1.phy)  \n",
    "print(stu1.calPercentage())\n"
   ]
  },
  {
   "cell_type": "markdown",
   "id": "3e883e01",
   "metadata": {},
   "source": [
    "Insted of this we can do using propery method this can be better way"
   ]
  },
  {
   "cell_type": "code",
   "execution_count": 25,
   "id": "cb86572a",
   "metadata": {},
   "outputs": [
    {
     "name": "stdout",
     "output_type": "stream",
     "text": [
      "98.0%\n",
      "94.0%\n"
     ]
    }
   ],
   "source": [
    "class Student:\n",
    "    \n",
    "    def __init__(self, phy, chem, maths):\n",
    "        self.phy = phy\n",
    "        self.chem = chem\n",
    "        self.maths = maths\n",
    "        \n",
    "    @property\n",
    "    def percentage(self):\n",
    "        return str((self.phy + self.chem + self.maths) / 3) + \"%\"\n",
    "    \n",
    "stu1 = Student(98, 97, 99)\n",
    "print(stu1.percentage)  \n",
    "\n",
    "stu1.phy = 86    \n",
    "print(stu1.percentage) \n"
   ]
  },
  {
   "cell_type": "code",
   "execution_count": null,
   "id": "06af03d0",
   "metadata": {},
   "outputs": [],
   "source": []
  },
  {
   "cell_type": "markdown",
   "id": "55844fb6",
   "metadata": {},
   "source": [
    "### Polymorphism\n",
    "\n",
    "- Polymorphism means **\"many forms\"**.  \n",
    "- In Python, it allows different classes to define **methods with the same name**, but with **different implementations**.\n"
   ]
  },
  {
   "cell_type": "code",
   "execution_count": 4,
   "id": "b948ded9",
   "metadata": {},
   "outputs": [
    {
     "name": "stdout",
     "output_type": "stream",
     "text": [
      "3\n",
      "sadikAshrafi\n",
      "[1, 2, 3, 4, 5, 6]\n"
     ]
    }
   ],
   "source": [
    "print(1+2) #same + operator performing addition for int datatype\n",
    "print(\"sadik\" + \"Ashrafi\") #same + operator performing concatenation for string datatype\n",
    "print([1,2,3] + [4,5,6]) #same + operator performing merge for list data structure"
   ]
  },
  {
   "cell_type": "markdown",
   "id": "ad1b65e0",
   "metadata": {},
   "source": [
    "\n",
    "Different data types giving **different meanings** to the **same operator** is known as **Operator Overloading**, which is a part of **Polymorphism**.\n",
    "- **Same operator → many behaviors → polymorphism in action!**"
   ]
  },
  {
   "cell_type": "markdown",
   "id": "571c0d58",
   "metadata": {},
   "source": [
    "### implicit operator overloading\n",
    "- In **implicit operator overloading**, this behavior is already **built-in** within Python’s core classes like `int`, `str`, and `list`."
   ]
  },
  {
   "cell_type": "code",
   "execution_count": 6,
   "id": "88a35b92",
   "metadata": {},
   "outputs": [
    {
     "name": "stdout",
     "output_type": "stream",
     "text": [
      "<class 'int'>\n",
      "<class 'str'>\n",
      "<class 'list'>\n"
     ]
    }
   ],
   "source": [
    "print(type(1))\n",
    "print(type(\"Sadiq\"))\n",
    "print(type([1,2,3]))"
   ]
  },
  {
   "cell_type": "markdown",
   "id": "8434887a",
   "metadata": {},
   "source": [
    "- We can see the class named `int` already existed. Whatever we write as an integer like `1`, `2`, etc., are actually **objects** of the `int` class.\n",
    "\n",
    "- In the class `int`, it's already defined that `+` means **add two numbers**.\n",
    "- In the same way, class `str` and class `list` exist.  \n",
    "- In every class, for different operators, their **functions are already defined** for different-different datatypes.\n",
    "\n",
    "This is the reason:\n",
    "\n",
    "- `+` performs **addition** for `int`\n",
    "- `+` performs **concatenation** for `str`\n",
    "- `+` performs **merge** for `list`\n",
    "\n",
    "Hence, Python supports **operator overloading** as a form of **polymorphism**, where **same operator behaves differently** depending on the datatype."
   ]
  },
  {
   "cell_type": "code",
   "execution_count": 5,
   "id": "6c74018b",
   "metadata": {},
   "outputs": [
    {
     "name": "stdout",
     "output_type": "stream",
     "text": [
      "5\n",
      "9\n"
     ]
    }
   ],
   "source": [
    "def add(x, y, z = 0): \n",
    "    return x + y+z\n",
    "\n",
    "print(add(2, 3))\n",
    "print(add(2, 3, 4))\n"
   ]
  },
  {
   "cell_type": "markdown",
   "id": "12473213",
   "metadata": {},
   "source": [
    "### complex numbers"
   ]
  },
  {
   "cell_type": "code",
   "execution_count": 5,
   "id": "3ab4ed48",
   "metadata": {},
   "outputs": [
    {
     "name": "stdout",
     "output_type": "stream",
     "text": [
      "1 i + 3 j\n",
      "5 i + 6 j\n",
      "6 i + 9 j\n"
     ]
    }
   ],
   "source": [
    "class complex :\n",
    "    \n",
    "    def __init__(self,real,img) :\n",
    "        self.real = real\n",
    "        self.img = img\n",
    "        \n",
    "    def showNumber(self):\n",
    "        print(self.real,\"i +\",self.img,\"j\")\n",
    "        \n",
    "    def add(self,num2):\n",
    "        newReal = self.real + num2.real\n",
    "        newImg = self.img + num2.img\n",
    "        return complex(newReal,newImg)\n",
    "        \n",
    "num1 = complex(1,3)\n",
    "num1.showNumber()\n",
    "\n",
    "num2 = complex(5,6)\n",
    "num2.showNumber()\n",
    "\n",
    "num3 = num1.add(num2)\n",
    "num3.showNumber()"
   ]
  },
  {
   "cell_type": "markdown",
   "id": "996e4ebd",
   "metadata": {},
   "source": [
    "### Dunder functions"
   ]
  },
  {
   "cell_type": "code",
   "execution_count": 7,
   "id": "1cc0dba4",
   "metadata": {},
   "outputs": [
    {
     "name": "stdout",
     "output_type": "stream",
     "text": [
      "1 i + 3 j\n",
      "5 i + 6 j\n",
      "6 i + 9 j\n",
      "-4 i + -3 j\n"
     ]
    }
   ],
   "source": [
    "class complex :\n",
    "    \n",
    "    def __init__(self,real,img) :\n",
    "        self.real = real\n",
    "        self.img = img\n",
    "        \n",
    "    def showNumber(self):\n",
    "        print(self.real,\"i +\",self.img,\"j\")\n",
    "        \n",
    "    def __add__(self,num2):                          ##__add__ (dunder function)\n",
    "        newReal = self.real + num2.real\n",
    "        newImg = self.img + num2.img\n",
    "        return complex(newReal,newImg)\n",
    "    \n",
    "    def __sub__(self,num2):                          ##__sub__ (dunder function)\n",
    "        newReal = self.real - num2.real\n",
    "        newImg = self.img - num2.img\n",
    "        return complex(newReal,newImg)\n",
    "        \n",
    "num1 = complex(1,3)\n",
    "num1.showNumber()\n",
    "\n",
    "num2 = complex(4,6)\n",
    "num2.showNumber()\n",
    "\n",
    "num3 = num1 + num2\n",
    "num3.showNumber()\n",
    "\n",
    "num3 = num1 - num2\n",
    "num3.showNumber()"
   ]
  },
  {
   "cell_type": "markdown",
   "id": "559b2a1c",
   "metadata": {},
   "source": [
    "### Practice Questions"
   ]
  },
  {
   "cell_type": "raw",
   "id": "3bf3571e",
   "metadata": {},
   "source": [
    "Define a circle class to create a circle with radius r using the constructor\n",
    "\n",
    "define an Area() method of the class which calculates the area of the circle\n",
    "define an Perimeter() method of the class which calculates the perimeter of the circle"
   ]
  },
  {
   "cell_type": "code",
   "execution_count": 9,
   "id": "d73625fc",
   "metadata": {},
   "outputs": [
    {
     "name": "stdout",
     "output_type": "stream",
     "text": [
      "Area: 1386.0\n",
      "Perimeter: 132.0\n"
     ]
    }
   ],
   "source": [
    "class Circle:\n",
    "    \n",
    "    def __init__(self, radius):\n",
    "        self.radius = radius\n",
    "        \n",
    "    def area(self):\n",
    "        return (22/7) * self.radius ** 2\n",
    "    \n",
    "    def perimeter(self):\n",
    "        return 2 * (22/7) * self.radius\n",
    "        \n",
    "c1 = Circle(21)\n",
    "\n",
    "print(\"Area:\", c1.area())       \n",
    "print(\"Perimeter:\", c1.perimeter()) \n"
   ]
  },
  {
   "cell_type": "raw",
   "id": "b8b9550c",
   "metadata": {},
   "source": [
    "Define a Employee class with attributes role, department and salary This class should have the showDetails() method\n",
    "\n",
    "Create an Engineer class that inherits properties from Employee & and has additional attributes : name & age"
   ]
  },
  {
   "cell_type": "code",
   "execution_count": 26,
   "id": "cf8e7881",
   "metadata": {},
   "outputs": [
    {
     "name": "stdout",
     "output_type": "stream",
     "text": [
      "Role is: Engineer\n",
      "Department is: IT\n",
      "Salary is: 1,50,000\n",
      "Name is: Sadik\n",
      "Age is: 20\n"
     ]
    }
   ],
   "source": [
    "class Employee:\n",
    "    \n",
    "    def __init__(self, role, department, salary):\n",
    "        self.role = role\n",
    "        self.department = department\n",
    "        self.salary = salary\n",
    "        \n",
    "    def showDetails(self):\n",
    "        print(\"Role is:\", self.role)\n",
    "        print(\"Department is:\", self.department)\n",
    "        print(\"Salary is:\", self.salary)\n",
    "\n",
    "class Engineer(Employee):\n",
    "    \n",
    "    def __init__(self, name, age, role, department, salary):\n",
    "        self.name = name\n",
    "        self.age = age\n",
    "        super().__init__(role, department, salary)\n",
    "\n",
    "    def showDetails(self):\n",
    "        super().showDetails()\n",
    "        print(\"Name is:\", self.name)\n",
    "        print(\"Age is:\", self.age)\n",
    "        \n",
    "\n",
    "e1 = Engineer(\"Sadik\", 20, \"Engineer\", \"IT\", \"1,50,000\")\n",
    "\n",
    "e1.showDetails()\n"
   ]
  },
  {
   "cell_type": "raw",
   "id": "6e3daee6",
   "metadata": {},
   "source": [
    "Create a class called order which stores items and its price\n",
    "Use Dunder Function __gt__() to convey that:\n",
    "order1 > order2 if price of order1 > price of order2"
   ]
  },
  {
   "cell_type": "code",
   "execution_count": 28,
   "id": "51b895ec",
   "metadata": {},
   "outputs": [
    {
     "name": "stdout",
     "output_type": "stream",
     "text": [
      "False\n"
     ]
    }
   ],
   "source": [
    "class Order :\n",
    "    \n",
    "    def __init__(self,item,price):\n",
    "        self.item = item\n",
    "        self.price = price\n",
    "        \n",
    "    def __gt__(self,ord2):\n",
    "        return self.price > ord2.price\n",
    "        \n",
    "ord1 = Order(\"Shampoo\",90)\n",
    "ord2 = Order(\"chips\",20)\n",
    "print(ord1 < ord2)\n"
   ]
  },
  {
   "cell_type": "markdown",
   "id": "63ea59b9",
   "metadata": {},
   "source": [
    "Using self alone wouldn't work because self refers only to the left-hand instance of the comparison. To compare two objects, you need to access the attributes of both objects, which requires passing the right-hand object (ord2) as an argument to the method.\n",
    "- self refers to ord1 (the left operand).\n",
    "- ord2 refers to ord2 (the right operand)."
   ]
  },
  {
   "cell_type": "markdown",
   "id": "82784bf6",
   "metadata": {},
   "source": [
    "Comparison Logic:\n",
    "- self.price is ord1.price (90).\n",
    "- ord2.price is ord2.price (20).  \n",
    "The method returns True because 90 > 20"
   ]
  },
  {
   "cell_type": "markdown",
   "id": "60951dc2",
   "metadata": {},
   "source": [
    "### Mini Project \n",
    "\n",
    "#### Password generator"
   ]
  },
  {
   "cell_type": "code",
   "execution_count": 42,
   "id": "3d526345",
   "metadata": {},
   "outputs": [
    {
     "name": "stdout",
     "output_type": "stream",
     "text": [
      "l\n"
     ]
    }
   ],
   "source": [
    "print (random.choice(\"hello\"))"
   ]
  },
  {
   "cell_type": "code",
   "execution_count": 38,
   "id": "735405a5",
   "metadata": {},
   "outputs": [
    {
     "name": "stdout",
     "output_type": "stream",
     "text": [
      "abcdefghijklmnopqrstuvwxyzABCDEFGHIJKLMNOPQRSTUVWXYZ0123456789!\"#$%&'()*+,-./:;<=>?@[\\]^_`{|}~\n",
      "Your password is : N9XPGk?A3\",Q\n"
     ]
    }
   ],
   "source": [
    "import random\n",
    "import string\n",
    "\n",
    "char_values = string.ascii_letters + string.digits + string.punctuation\n",
    "pass_len = 12\n",
    "\n",
    "print(char_values)\n",
    "\n",
    "password = \"\"\n",
    "for i in range(pass_len):\n",
    "    password +=random.choice(char_values)\n",
    "    \n",
    "print(\"Your password is :\", password)"
   ]
  },
  {
   "cell_type": "code",
   "execution_count": null,
   "id": "83d2b345",
   "metadata": {},
   "outputs": [],
   "source": [
    "list comprehension (another method for password generator)"
   ]
  },
  {
   "cell_type": "code",
   "execution_count": 41,
   "id": "a8cd4574",
   "metadata": {},
   "outputs": [
    {
     "name": "stdout",
     "output_type": "stream",
     "text": [
      ".91&qLmlW~/n\n"
     ]
    }
   ],
   "source": [
    "res = \"\".join([random.choice(char_values) for i in range(pass_len)])\n",
    "print(res)"
   ]
  },
  {
   "cell_type": "markdown",
   "id": "9ac48149",
   "metadata": {},
   "source": [
    "The join method combines the randomly chosen characters into a single string. Note that join uses parentheses () around the list comprehension to generate a list of random characters."
   ]
  },
  {
   "cell_type": "markdown",
   "id": "d865f329",
   "metadata": {},
   "source": [
    "### getter and setter method"
   ]
  },
  {
   "cell_type": "markdown",
   "id": "ff0ea4fd",
   "metadata": {},
   "source": [
    "Basically, the main purpose of using getters and setters in object-oriented programs is to ensure data encapsulation. Private variables in python are not actually hidden fields like in other object oriented languages. Getters and Setters in python are often used when:\n",
    "- We use getters & setters to add validation logic around getting and setting a value.\n",
    "- To avoid direct access of a class field i.e. private variables cannot be accessed directly or modified by external user."
   ]
  },
  {
   "cell_type": "raw",
   "id": "18b44353",
   "metadata": {},
   "source": [
    "Using normal function to achieve getters and setters behaviour"
   ]
  },
  {
   "cell_type": "code",
   "execution_count": 43,
   "id": "418e5def",
   "metadata": {},
   "outputs": [
    {
     "name": "stdout",
     "output_type": "stream",
     "text": [
      "21\n",
      "21\n"
     ]
    }
   ],
   "source": [
    "class Geek: \n",
    "    def __init__(self, age = 0): \n",
    "        self._age = age \n",
    "\n",
    "    # getter method \n",
    "    def get_age(self): \n",
    "        return self._age \n",
    "    \n",
    "    # setter method \n",
    "    def set_age(self, x): \n",
    "        self._age = x \n",
    "\n",
    "raj = Geek() \n",
    "\n",
    "# setting the age using setter \n",
    "raj.set_age(21) \n",
    "\n",
    "# retrieving age using getter \n",
    "print(raj.get_age()) \n",
    "\n",
    "print(raj._age) \n"
   ]
  },
  {
   "cell_type": "raw",
   "id": "7a2ce359",
   "metadata": {},
   "source": [
    "Using property() function to achieve getters and setters behaviour\n",
    "\n",
    "In Python property()is a built-in function that creates and returns a property object. A property object has three methods, getter(), setter(), and delete(). property() function in Python has four arguments property(fget, fset, fdel, doc), fget is a function for retrieving an attribute value. fset is a function for setting an attribute value. fdel is a function for deleting an attribute value. doc creates a docstring for attribute. A property object has three methods, getter(), setter(), and delete() to specify fget, fset and fdel individually."
   ]
  },
  {
   "cell_type": "code",
   "execution_count": 44,
   "id": "b9eebeef",
   "metadata": {},
   "outputs": [
    {
     "name": "stdout",
     "output_type": "stream",
     "text": [
      "setter method called\n",
      "getter method called\n",
      "10\n"
     ]
    }
   ],
   "source": [
    "class Geeks: \n",
    "     def __init__(self): \n",
    "          self._age = 0\n",
    "       \n",
    "     # function to get value of _age \n",
    "     def get_age(self): \n",
    "         print(\"getter method called\") \n",
    "         return self._age \n",
    "       \n",
    "     # function to set value of _age \n",
    "     def set_age(self, a): \n",
    "         print(\"setter method called\") \n",
    "         self._age = a \n",
    "  \n",
    "     # function to delete _age attribute \n",
    "     def del_age(self): \n",
    "         del self._age \n",
    "     \n",
    "     age = property(get_age, set_age, del_age)  \n",
    "  \n",
    "mark = Geeks() \n",
    "  \n",
    "mark.age = 10\n",
    "  \n",
    "print(mark.age) "
   ]
  },
  {
   "cell_type": "raw",
   "id": "18f2dbca",
   "metadata": {},
   "source": [
    "Using @property decorators to achieve getters and setters behaviour\n",
    "\n",
    "In previous method we used property() function in order to achieve getters and setters behaviour. However as mentioned earlier in this post getters and setters are also used for validating the getting and setting of attributes value. There is one more way to implement property function i.e. by using decorator. Python @property is one of the built-in decorators. The main purpose of any decorator is to change your class methods or attributes in such a way so that the user of your class no need to make any change in their code."
   ]
  },
  {
   "cell_type": "code",
   "execution_count": 45,
   "id": "2198e181",
   "metadata": {},
   "outputs": [
    {
     "name": "stdout",
     "output_type": "stream",
     "text": [
      "setter method called\n",
      "getter method called\n",
      "19\n"
     ]
    }
   ],
   "source": [
    "class Geeks: \n",
    "     def __init__(self): \n",
    "          self._age = 0\n",
    "       \n",
    "     # using property decorator \n",
    "     # a getter function \n",
    "     @property\n",
    "     def age(self): \n",
    "         print(\"getter method called\") \n",
    "         return self._age \n",
    "       \n",
    "     # a setter function \n",
    "     @age.setter \n",
    "     def age(self, a): \n",
    "         if(a < 18): \n",
    "            raise ValueError(\"Sorry you age is below eligibility criteria\") \n",
    "         print(\"setter method called\") \n",
    "         self._age = a \n",
    "  \n",
    "mark = Geeks() \n",
    "  \n",
    "mark.age = 19\n",
    "  \n",
    "print(mark.age) "
   ]
  },
  {
   "cell_type": "markdown",
   "id": "174b6a50",
   "metadata": {},
   "source": [
    "- Initialization: An instance of Geeks is created with _age initialized to 0.\n",
    "- Setter: The setter method checks if the age is valid (greater than or equal to 18). If valid, it sets _age to the new value.\n",
    "- Getter: The getter method returns the value of _age.\n",
    "- Property Decorators: Used to create cleaner and controlled access to class attributes.  \n",
    "This approach encapsulates the attribute _age, providing a controlled way to access and modify it, and adds validation logic to ensure the attribute's value meets certain criteria.\n",
    "\n",
    "\n",
    "\n",
    "\n",
    "\n",
    "\n"
   ]
  },
  {
   "cell_type": "markdown",
   "id": "752bf9c4",
   "metadata": {},
   "source": [
    "1. **Built-in Functions**:\n",
    "   - **Definition**: Functions that are pre-defined in Python and are available for use without requiring explicit definition by the programmer.\n",
    "   - **Example**:\n",
    "     "
   ]
  },
  {
   "cell_type": "code",
   "execution_count": 48,
   "id": "6e1159e5",
   "metadata": {},
   "outputs": [
    {
     "name": "stdout",
     "output_type": "stream",
     "text": [
      "Hello, World!\n"
     ]
    },
    {
     "data": {
      "text/plain": [
       "3"
      ]
     },
     "execution_count": 48,
     "metadata": {},
     "output_type": "execute_result"
    }
   ],
   "source": [
    "print(\"Hello, World!\")  \n",
    "len([1, 2, 3])          \n"
   ]
  },
  {
   "cell_type": "markdown",
   "id": "62f2e44e",
   "metadata": {},
   "source": [
    "2. **Module Functions**:\n",
    "   - **Definition**: Functions that are defined within modules (standard libraries or third-party libraries) and need to be imported before use.\n",
    "   - **Example**:\n",
    "     "
   ]
  },
  {
   "cell_type": "code",
   "execution_count": 52,
   "id": "90f48869",
   "metadata": {},
   "outputs": [
    {
     "name": "stdout",
     "output_type": "stream",
     "text": [
      "4.0\n"
     ]
    }
   ],
   "source": [
    "import math\n",
    "\n",
    "print(math.sqrt(16))  \n"
   ]
  },
  {
   "cell_type": "markdown",
   "id": "d19e4e9a",
   "metadata": {},
   "source": [
    "3. **User-defined Functions**:\n",
    "   - **Definition**: Functions that are created by the programmer to perform specific tasks.\n",
    "   - **Example**:\n",
    "     "
   ]
  },
  {
   "cell_type": "code",
   "execution_count": 51,
   "id": "24ec2cb9",
   "metadata": {},
   "outputs": [
    {
     "name": "stdout",
     "output_type": "stream",
     "text": [
      "Hello, Alice!\n"
     ]
    }
   ],
   "source": [
    "def greet(name):\n",
    "    return f\"Hello, {name}!\"\n",
    "\n",
    "print(greet(\"Alice\")) \n"
   ]
  },
  {
   "cell_type": "code",
   "execution_count": null,
   "id": "7a8b150b",
   "metadata": {},
   "outputs": [],
   "source": []
  },
  {
   "cell_type": "code",
   "execution_count": null,
   "id": "04efad7d",
   "metadata": {},
   "outputs": [],
   "source": []
  },
  {
   "cell_type": "code",
   "execution_count": null,
   "id": "bb929ffb",
   "metadata": {},
   "outputs": [],
   "source": []
  }
 ],
 "metadata": {
  "kernelspec": {
   "display_name": "Python 3 (ipykernel)",
   "language": "python",
   "name": "python3"
  },
  "language_info": {
   "codemirror_mode": {
    "name": "ipython",
    "version": 3
   },
   "file_extension": ".py",
   "mimetype": "text/x-python",
   "name": "python",
   "nbconvert_exporter": "python",
   "pygments_lexer": "ipython3",
   "version": "3.12.2"
  }
 },
 "nbformat": 4,
 "nbformat_minor": 5
}
