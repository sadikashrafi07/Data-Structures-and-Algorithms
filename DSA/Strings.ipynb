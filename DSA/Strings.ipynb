{
 "cells": [
  {
   "cell_type": "raw",
   "id": "cf1201f9",
   "metadata": {},
   "source": [
    "* String are sequence of characters\n",
    "* It is used to store text data, like data read from a file\n",
    "* string stores internally as integer values in contagious memory\n",
    "* Character A to Z are stored values from 65 to 90\n",
    "* Character a to z are stored as values from 97 to 122\n",
    "* C and C++ uses ASCI values and Java and python uses Unicode\n",
    "* Every character has integer codes it is called as unicodes"
   ]
  },
  {
   "cell_type": "code",
   "execution_count": 2,
   "id": "7619500d",
   "metadata": {},
   "outputs": [
    {
     "name": "stdout",
     "output_type": "stream",
     "text": [
      "97\n",
      "65\n",
      "a\n",
      "A\n"
     ]
    }
   ],
   "source": [
    "print(ord(\"a\"))\n",
    "print(ord(\"A\"))\n",
    "print(chr(97))\n",
    "print(chr(65))"
   ]
  },
  {
   "cell_type": "code",
   "execution_count": 3,
   "id": "d31cdb0b",
   "metadata": {},
   "outputs": [
    {
     "name": "stdout",
     "output_type": "stream",
     "text": [
      "geek\n",
      "g\n",
      "k\n",
      "e\n",
      "e\n"
     ]
    }
   ],
   "source": [
    "s = \"geek\"\n",
    "print(s)\n",
    "print(s[0])\n",
    "print(s[-1])\n",
    "print(s[1])\n",
    "print(s[-2])"
   ]
  },
  {
   "cell_type": "code",
   "execution_count": 5,
   "id": "d5e3dee4",
   "metadata": {},
   "outputs": [
    {
     "ename": "TypeError",
     "evalue": "'str' object does not support item assignment",
     "output_type": "error",
     "traceback": [
      "\u001b[0;31m---------------------------------------------------------------------------\u001b[0m",
      "\u001b[0;31mTypeError\u001b[0m                                 Traceback (most recent call last)",
      "Cell \u001b[0;32mIn[5], line 3\u001b[0m\n\u001b[1;32m      1\u001b[0m \u001b[38;5;66;03m### Strings are IMMUTABLE\u001b[39;00m\n\u001b[1;32m      2\u001b[0m s \u001b[38;5;241m=\u001b[39m \u001b[38;5;124m\"\u001b[39m\u001b[38;5;124mgeek\u001b[39m\u001b[38;5;124m\"\u001b[39m\n\u001b[0;32m----> 3\u001b[0m s[\u001b[38;5;241m0\u001b[39m] \u001b[38;5;241m=\u001b[39m \u001b[38;5;124m\"\u001b[39m\u001b[38;5;124me\u001b[39m\u001b[38;5;124m\"\u001b[39m\n\u001b[1;32m      4\u001b[0m \u001b[38;5;28mprint\u001b[39m(s)\n",
      "\u001b[0;31mTypeError\u001b[0m: 'str' object does not support item assignment"
     ]
    }
   ],
   "source": [
    "### Strings are IMMUTABLE\n",
    "s = \"geek\"\n",
    "s[0] = \"e\"\n",
    "print(s)"
   ]
  },
  {
   "cell_type": "code",
   "execution_count": 6,
   "id": "427688b0",
   "metadata": {},
   "outputs": [
    {
     "name": "stdout",
     "output_type": "stream",
     "text": [
      "Hi,\n",
      "This is python course.\n",
      "Hope You are enjoying it.\n"
     ]
    }
   ],
   "source": [
    "s = \"\"\"Hi,\n",
    "This is python course.\n",
    "Hope You are enjoying it.\"\"\"\n",
    "print(s)"
   ]
  },
  {
   "cell_type": "markdown",
   "id": "c6e4907c",
   "metadata": {},
   "source": [
    "#### Escape Sequence Characters"
   ]
  },
  {
   "cell_type": "raw",
   "id": "cc47b8ec",
   "metadata": {},
   "source": [
    "An escape sequence is a combination of characters starting with a backslash (\\) that represents a special character or action when included in a string. It is used to insert characters that are difficult or impossible to express directly, like newlines, tabs, or Unicode symbols."
   ]
  },
  {
   "cell_type": "code",
   "execution_count": 7,
   "id": "15f55914",
   "metadata": {},
   "outputs": [
    {
     "ename": "SyntaxError",
     "evalue": "unterminated string literal (detected at line 1) (3348414989.py, line 1)",
     "output_type": "error",
     "traceback": [
      "\u001b[0;36m  Cell \u001b[0;32mIn[7], line 1\u001b[0;36m\u001b[0m\n\u001b[0;31m    s = 'Welcome to Geek's Course'\u001b[0m\n\u001b[0m                                 ^\u001b[0m\n\u001b[0;31mSyntaxError\u001b[0m\u001b[0;31m:\u001b[0m unterminated string literal (detected at line 1)\n"
     ]
    }
   ],
   "source": [
    "s = 'Welcome to Geek's Course'\n",
    "print(s)"
   ]
  },
  {
   "cell_type": "code",
   "execution_count": 8,
   "id": "6c2915fd",
   "metadata": {},
   "outputs": [
    {
     "name": "stdout",
     "output_type": "stream",
     "text": [
      "Welcome to Geek's Course\n"
     ]
    }
   ],
   "source": [
    "#### Corrected Code\n",
    "s = 'Welcome to Geek\\'s Course'\n",
    "print(s)"
   ]
  },
  {
   "cell_type": "code",
   "execution_count": 10,
   "id": "4dae8761",
   "metadata": {},
   "outputs": [
    {
     "name": "stdout",
     "output_type": "stream",
     "text": [
      "Hi\n",
      "Wlecome to the new Course\n"
     ]
    }
   ],
   "source": [
    "s= \"Hi\\nWlecome to the new Course\"\n",
    "print(s)"
   ]
  },
  {
   "cell_type": "code",
   "execution_count": 13,
   "id": "c9ed3814",
   "metadata": {},
   "outputs": [
    {
     "name": "stdout",
     "output_type": "stream",
     "text": [
      "A simple \\ example\n",
      "Backslash at the end \\\n",
      "\\n\n",
      "\\t\n"
     ]
    },
    {
     "name": "stderr",
     "output_type": "stream",
     "text": [
      "<>:1: SyntaxWarning: invalid escape sequence '\\ '\n",
      "<>:1: SyntaxWarning: invalid escape sequence '\\ '\n",
      "/var/folders/jj/55dzjtjx6zd9mvcq0mdrt3k00000gn/T/ipykernel_9784/2838393700.py:1: SyntaxWarning: invalid escape sequence '\\ '\n",
      "  s1 = \"A simple \\ example\"\n"
     ]
    }
   ],
   "source": [
    "s1 = \"A simple \\ example\"\n",
    "s2 = \"Backslash at the end \\\\\"\n",
    "s3 = \"\\\\n\"\n",
    "s4 = \"\\\\t\"\n",
    "print(s1)\n",
    "print(s2)\n",
    "print(s3)\n",
    "print(s4)"
   ]
  },
  {
   "cell_type": "raw",
   "id": "afb4958a",
   "metadata": {},
   "source": [
    "A raw string in Python is a string prefixed with r or R that treats backslashes (\\) as literal characters and does not interpret them as escape sequences. This is useful for paths, regular expressions, or any text where backslashes should not be treated specially."
   ]
  },
  {
   "cell_type": "code",
   "execution_count": 14,
   "id": "91b83a62",
   "metadata": {},
   "outputs": [
    {
     "name": "stdout",
     "output_type": "stream",
     "text": [
      "C:\\project\n",
      "ame.py\n",
      "C:\\project\\name.py\n"
     ]
    },
    {
     "name": "stderr",
     "output_type": "stream",
     "text": [
      "<>:1: SyntaxWarning: invalid escape sequence '\\p'\n",
      "<>:1: SyntaxWarning: invalid escape sequence '\\p'\n",
      "/var/folders/jj/55dzjtjx6zd9mvcq0mdrt3k00000gn/T/ipykernel_9784/4108926757.py:1: SyntaxWarning: invalid escape sequence '\\p'\n",
      "  r1 = \"C:\\project\\name.py\"\n"
     ]
    }
   ],
   "source": [
    "### RAW strings\n",
    "r1 = \"C:\\project\\name.py\"\n",
    "r2 = r\"C:\\project\\name.py\"\n",
    "print(r1)\n",
    "print(r2)"
   ]
  },
  {
   "cell_type": "markdown",
   "id": "05b2ff77",
   "metadata": {},
   "source": [
    "#### Formatted Strings in Python"
   ]
  },
  {
   "cell_type": "raw",
   "id": "bd38316f",
   "metadata": {},
   "source": [
    "A formatted string in Python (also known as an f-string) is a string prefixed with f or F that allows you to embed expressions inside curly braces {}. These expressions are evaluated at runtime, making it easy to format strings dynamically."
   ]
  },
  {
   "cell_type": "code",
   "execution_count": 16,
   "id": "2db6f4a7",
   "metadata": {},
   "outputs": [
    {
     "name": "stdout",
     "output_type": "stream",
     "text": [
      "welcome abc to the Python Course\n"
     ]
    }
   ],
   "source": [
    "name = \"abc\"\n",
    "course = \"Python Course\"\n",
    "s = \"welcome %s to the %s\"%(name,course)\n",
    "print(s)"
   ]
  },
  {
   "cell_type": "code",
   "execution_count": 17,
   "id": "2324c70f",
   "metadata": {},
   "outputs": [
    {
     "name": "stdout",
     "output_type": "stream",
     "text": [
      "welcome abc to the Python Course\n"
     ]
    }
   ],
   "source": [
    "name = \"abc\"\n",
    "course = \"Python Course\"\n",
    "s = \"welcome {0} to the {1}\".format(name,course)\n",
    "print(s)"
   ]
  },
  {
   "cell_type": "code",
   "execution_count": 18,
   "id": "85b9f0ef",
   "metadata": {},
   "outputs": [
    {
     "name": "stdout",
     "output_type": "stream",
     "text": [
      "welcome abc to the Python Course\n"
     ]
    }
   ],
   "source": [
    "name = \"abc\"\n",
    "course = \"Python Course\"\n",
    "s = f\"welcome {name} to the {course}\"\n",
    "print(s)"
   ]
  },
  {
   "cell_type": "code",
   "execution_count": 19,
   "id": "226f8e41",
   "metadata": {},
   "outputs": [
    {
     "name": "stdout",
     "output_type": "stream",
     "text": [
      "sum of 10 and 20 is 30\n",
      "Product of 10 and 20 is 200\n"
     ]
    }
   ],
   "source": [
    "#### Expression using f string\n",
    "\n",
    "a = 10\n",
    "b = 20\n",
    "print(f\"sum of {a} and {b} is {a+b}\")\n",
    "print(f\"Product of {a} and {b} is {a*b}\")"
   ]
  },
  {
   "cell_type": "code",
   "execution_count": 22,
   "id": "426ca88a",
   "metadata": {},
   "outputs": [
    {
     "name": "stdout",
     "output_type": "stream",
     "text": [
      "Upper Case of abc is ABC\n",
      "Lower Case of abc is abc\n"
     ]
    }
   ],
   "source": [
    "#### We can call methods\n",
    "s1 = \"abc\"\n",
    "s2 = \"ABC\"\n",
    "print(f\"Upper Case of {s1} is {s1.upper()}\")\n",
    "print(f\"Lower Case of {s1} is {s1.lower()}\")"
   ]
  },
  {
   "cell_type": "markdown",
   "id": "c8a3cf41",
   "metadata": {},
   "source": [
    "#### String Comparison"
   ]
  },
  {
   "cell_type": "code",
   "execution_count": 1,
   "id": "507591c3",
   "metadata": {},
   "outputs": [
    {
     "name": "stdout",
     "output_type": "stream",
     "text": [
      "True\n",
      "True\n",
      "False\n",
      "False\n",
      "False\n",
      "True\n"
     ]
    }
   ],
   "source": [
    "s1 = \"geeksforgeeks\"\n",
    "s2 = \"ide\"\n",
    "\n",
    "print(s1<s2)\n",
    "print(s1<=s2)\n",
    "print(s1>s2)\n",
    "print(s1>=s2)\n",
    "print(s1==s2)\n",
    "print(s1!=s2)"
   ]
  },
  {
   "cell_type": "markdown",
   "id": "b3794cc8",
   "metadata": {},
   "source": [
    "### String Operations"
   ]
  },
  {
   "cell_type": "markdown",
   "id": "f576cde6",
   "metadata": {},
   "source": [
    "#### Check for Substring"
   ]
  },
  {
   "cell_type": "raw",
   "id": "28109095",
   "metadata": {},
   "source": [
    "Substrings of \"ABCD\" are \"\",\"A\",\"B\",\"C\",\"D\", \"AB\",\"ABC\",\"ABCD\", \"BC\",\"BCD\", \"CD\""
   ]
  },
  {
   "cell_type": "raw",
   "id": "a7a929ab",
   "metadata": {},
   "source": [
    "* All the Consecutive Characters of the given string are substrings of the string,Empt String and and whole string consider as Substring.\n",
    "* AC is no a substring because they are not in consequtive in a give string"
   ]
  },
  {
   "cell_type": "code",
   "execution_count": 2,
   "id": "848a9680",
   "metadata": {},
   "outputs": [
    {
     "name": "stdout",
     "output_type": "stream",
     "text": [
      "True\n",
      "False\n"
     ]
    }
   ],
   "source": [
    "s1 = \"geeksforgeeks\"\n",
    "s2 = \"geeks\"\n",
    "print(s2 in s1)\n",
    "print(s2 not in s1)"
   ]
  },
  {
   "cell_type": "markdown",
   "id": "f30566c5",
   "metadata": {},
   "source": [
    "#### Concatenation"
   ]
  },
  {
   "cell_type": "code",
   "execution_count": 3,
   "id": "592632de",
   "metadata": {},
   "outputs": [
    {
     "name": "stdout",
     "output_type": "stream",
     "text": [
      "geeksforgeeks\n",
      "Welcome to geeksforgeeks\n"
     ]
    }
   ],
   "source": [
    "s1 = \"geeks\"\n",
    "s2 = \"forgeeks\"\n",
    "s3 = s1 + s2\n",
    "s4 = \"Welcome to \" + s1 + s2\n",
    "print(s3)\n",
    "print(s4)"
   ]
  },
  {
   "cell_type": "code",
   "execution_count": 3,
   "id": "a4a02892",
   "metadata": {},
   "outputs": [
    {
     "name": "stdout",
     "output_type": "stream",
     "text": [
      "0\n",
      "8\n",
      "0\n"
     ]
    }
   ],
   "source": [
    "s1 = \"geeksforgeeks\"\n",
    "s2 = \"geeks\"\n",
    "\n",
    "print(s1.index(s2))\n",
    "print(s1.rindex(s2))\n",
    "print(s1.rindex(s2,0,8))"
   ]
  },
  {
   "cell_type": "code",
   "execution_count": 5,
   "id": "ef91b047",
   "metadata": {},
   "outputs": [
    {
     "name": "stdout",
     "output_type": "stream",
     "text": [
      "5\n",
      "GEEKS\n",
      "geeks\n",
      "True\n",
      "True\n"
     ]
    }
   ],
   "source": [
    "s1 = \"geeks\"\n",
    "print(len(s1))\n",
    "s2 = s1.upper()\n",
    "print(s2)\n",
    "s3 = s2.lower()\n",
    "print(s3)\n",
    "print(s1.islower())\n",
    "print(s2.isupper())"
   ]
  },
  {
   "cell_type": "markdown",
   "id": "6cd759d3",
   "metadata": {},
   "source": [
    "### StartsWith EndsWith"
   ]
  },
  {
   "cell_type": "code",
   "execution_count": 1,
   "id": "d842cc7d",
   "metadata": {},
   "outputs": [
    {
     "name": "stdout",
     "output_type": "stream",
     "text": [
      "False\n",
      "True\n",
      "False\n",
      "True\n"
     ]
    }
   ],
   "source": [
    "s = \"GEEKSforGeeks Python Course\"\n",
    "\n",
    "print(s.startswith(\"Geeks\"))\n",
    "print(s.endswith(\"Course\"))\n",
    "print(s.startswith(\"GEEKS\",1))\n",
    "print(s.startswith(\"Geeks\",8,len(s)))"
   ]
  },
  {
   "cell_type": "markdown",
   "id": "ff460df2",
   "metadata": {},
   "source": [
    "### Split and Join"
   ]
  },
  {
   "cell_type": "code",
   "execution_count": 12,
   "id": "b332733f",
   "metadata": {},
   "outputs": [
    {
     "name": "stdout",
     "output_type": "stream",
     "text": [
      "['geeks', 'for', 'geeks']\n",
      "['geeks', ' for', ' geeks']\n",
      "geeksforgeeks python course\n",
      "geeksforgeeks, python, course\n"
     ]
    }
   ],
   "source": [
    "s1 = \"geeks for geeks\"\n",
    "\n",
    "print(s1.split())   # split by space ' '\n",
    "\n",
    "s2 = \"geeks, for, geeks\"\n",
    "print(s2.split(','))        # split by comma ','\n",
    "\n",
    "l = [\"geeksforgeeks\",\"python\",\"course\"]\n",
    "\n",
    "print(\" \".join(l))          # join by space\n",
    "\n",
    "print(\", \".join(l))         # join by comma"
   ]
  },
  {
   "cell_type": "markdown",
   "id": "1551a183",
   "metadata": {},
   "source": [
    "### Strip"
   ]
  },
  {
   "cell_type": "markdown",
   "id": "b2116b89",
   "metadata": {},
   "source": [
    "- These functions are used to remove unwanted characters from corners of the string\n",
    "##### Note : \n",
    "It won't remove the unwanted characters in the middle.. "
   ]
  },
  {
   "cell_type": "code",
   "execution_count": 13,
   "id": "042ced80",
   "metadata": {},
   "outputs": [
    {
     "name": "stdout",
     "output_type": "stream",
     "text": [
      "geeksforgeeks\n",
      "geeksforgeeks__\n",
      "__geeksforgeeks\n"
     ]
    }
   ],
   "source": [
    "s1 = \"__geeksforgeeks__\"\n",
    "\n",
    "print(s1.strip(\"_\"))   # strip from both side\n",
    "\n",
    "\n",
    "print(s1.lstrip('_'))  # strip from left side\n",
    "\n",
    "\n",
    "print(s1.rstrip(\"_\"))   # strip from right side"
   ]
  },
  {
   "cell_type": "markdown",
   "id": "a0d4180d",
   "metadata": {},
   "source": [
    "### Find"
   ]
  },
  {
   "cell_type": "raw",
   "id": "7cfc1056",
   "metadata": {},
   "source": [
    "In Index Function, The given string is not present,then we get an error. In Find Method we don't get an error we get output as -1"
   ]
  },
  {
   "cell_type": "code",
   "execution_count": 11,
   "id": "97fdf6b7",
   "metadata": {},
   "outputs": [
    {
     "name": "stdout",
     "output_type": "stream",
     "text": [
      "0\n",
      "-1\n",
      "10\n"
     ]
    }
   ],
   "source": [
    "s1 = \"geeks for geeks\"\n",
    "\n",
    "s2 = \"geeks\"\n",
    "\n",
    "print(s1.find(s2))\n",
    "\n",
    "print(s1.find(\"gfg\"))\n",
    "\n",
    "n = len(s1)\n",
    "\n",
    "print(s1.find(s2,1,n))"
   ]
  },
  {
   "cell_type": "markdown",
   "id": "38ba3c5f",
   "metadata": {},
   "source": [
    "### Reverse a String in Python"
   ]
  },
  {
   "cell_type": "raw",
   "id": "733c6245",
   "metadata": {},
   "source": [
    "I/P : \"geek\"\n",
    "o/p : \"keeg\"\n",
    "    \n",
    "I/P : \"abbac\"\n",
    "o/p : \"cabba\"\n",
    "    \n",
    "I/P : \"a\"\n",
    "O/p : \"a\""
   ]
  },
  {
   "cell_type": "code",
   "execution_count": 14,
   "id": "9262cb72",
   "metadata": {},
   "outputs": [
    {
     "name": "stdout",
     "output_type": "stream",
     "text": [
      "Enter a string : hui\n",
      "iuh\n"
     ]
    }
   ],
   "source": [
    "s = input(\"Enter a string : \")\n",
    "\n",
    "def rev(s):\n",
    "    rev = \"\"\n",
    "    for i in s:\n",
    "        rev = i + rev\n",
    "    print(rev)\n",
    "    \n",
    "rev(s)"
   ]
  },
  {
   "cell_type": "code",
   "execution_count": 15,
   "id": "232cc2b1",
   "metadata": {},
   "outputs": [
    {
     "name": "stdout",
     "output_type": "stream",
     "text": [
      "Enter a string : hey\n",
      "yeh\n"
     ]
    }
   ],
   "source": [
    "s = input(\"Enter a string : \")\n",
    "print(s[::-1])"
   ]
  },
  {
   "cell_type": "markdown",
   "id": "fa7405af",
   "metadata": {},
   "source": [
    "### Chech if string is rotated"
   ]
  },
  {
   "cell_type": "raw",
   "id": "3f36dcae",
   "metadata": {},
   "source": [
    "I/P : s1 = \"ABCD\", s2 = \"CDAB\"\n",
    "O/P : YES\n",
    "\n",
    "I/P : s1 = \"ABAAA\", s2 = \"BAAAA\"\n",
    "O/P : YES\n",
    "    \n",
    "I/P : s1 = \"ABAB\", s2 = \"ABBA\"\n",
    "O/P : NO"
   ]
  },
  {
   "cell_type": "code",
   "execution_count": 1,
   "id": "e294ba9a",
   "metadata": {},
   "outputs": [
    {
     "data": {
      "text/plain": [
       "True"
      ]
     },
     "execution_count": 1,
     "metadata": {},
     "output_type": "execute_result"
    }
   ],
   "source": [
    "def areRotations(s1,s2):\n",
    "    if len(s1) != len(s2):\n",
    "        return False\n",
    "    temp = \"\"\n",
    "    temp = s1+s1\n",
    "    return temp.find(s2) != -1\n",
    "\n",
    "s1 = \"CDAB\"\n",
    "s2 = \"ABCD\"\n",
    "areRotations(s1,s2)"
   ]
  },
  {
   "cell_type": "markdown",
   "id": "4c971bbc",
   "metadata": {},
   "source": [
    "### Palindrome"
   ]
  },
  {
   "cell_type": "raw",
   "id": "c9117f18",
   "metadata": {},
   "source": [
    "I/P : \"abba\"\n",
    "O/P : YES\n",
    "    \n",
    "I/P : \"abcba\"\n",
    "O/P : YES\n",
    "    \n",
    "I/P : \"geek\"\n",
    "O/P : NO\n",
    "    \n",
    "I/P : \"a\"\n",
    "O/P : YES\n",
    "    \n",
    "I/P : \"abA\"\n",
    "O/P : NO"
   ]
  },
  {
   "cell_type": "code",
   "execution_count": 1,
   "id": "8fa5f485",
   "metadata": {},
   "outputs": [
    {
     "name": "stdout",
     "output_type": "stream",
     "text": [
      "Enter a String : uytuy\n",
      "No\n"
     ]
    }
   ],
   "source": [
    "s = input(\"Enter a String : \")\n",
    "\n",
    "def palindrome(s):\n",
    "    low = 0\n",
    "    high = len(s)-1\n",
    "    while low < high:\n",
    "        if s[low] != s[high]:\n",
    "            print(\"No\")\n",
    "            break\n",
    "        low = low + 1\n",
    "        high = high - 1\n",
    "    else :\n",
    "        print(\"Yes\")\n",
    " \n",
    "\n",
    "palindrome(s)"
   ]
  },
  {
   "cell_type": "code",
   "execution_count": 11,
   "id": "45d344b3",
   "metadata": {},
   "outputs": [
    {
     "name": "stdout",
     "output_type": "stream",
     "text": [
      "Enter a String : hk\n",
      "No\n"
     ]
    }
   ],
   "source": [
    "s = input(\"Enter a String : \")\n",
    "\n",
    "if s == s[::-1]:\n",
    "    print(yes)\n",
    "else :\n",
    "    print(\"No\")"
   ]
  },
  {
   "cell_type": "markdown",
   "id": "7081b581",
   "metadata": {},
   "source": [
    "When we use slicing with a negative step, such as `s[::-1]`,  \n",
    "it creates a **new copy** of the string in reverse order\n",
    "\n",
    "Strings in Python are **immutable**, so slicing never changes the original string -> it **creates a new one**."
   ]
  },
  {
   "cell_type": "markdown",
   "id": "3a70f4db",
   "metadata": {},
   "source": [
    "### Substring Problem"
   ]
  },
  {
   "cell_type": "raw",
   "id": "62be7d9e",
   "metadata": {},
   "source": [
    "Substrings of \"ABCD\" are \"\",\"A\",\"B\",\"C\",\"D\", \"AB\",\"ABC\",\"ABCD\", \"BC\",\"BCD\", \"CD\""
   ]
  },
  {
   "cell_type": "code",
   "execution_count": 17,
   "id": "9140167c",
   "metadata": {},
   "outputs": [
    {
     "data": {
      "text/plain": [
       "True"
      ]
     },
     "execution_count": 17,
     "metadata": {},
     "output_type": "execute_result"
    }
   ],
   "source": [
    "def isSubseq(s1,s2):\n",
    "    i,j = 0,0\n",
    "    while(i < len(s1)  and j < len(s2)):\n",
    "        if s1[i] == s2[j]:\n",
    "            j = j+1\n",
    "        i += 1\n",
    "    if j == len(s2):\n",
    "        return True\n",
    "    else:\n",
    "        return False\n",
    "    \n",
    "s1 = \"ABCD\"\n",
    "s2 = \"\"\n",
    "isSubseq(s1,s2)\n",
    "\n",
    "# The time complexity is O(m)"
   ]
  },
  {
   "cell_type": "code",
   "execution_count": 1,
   "id": "ac1bb945",
   "metadata": {},
   "outputs": [
    {
     "data": {
      "text/plain": [
       "False"
      ]
     },
     "execution_count": 1,
     "metadata": {},
     "output_type": "execute_result"
    }
   ],
   "source": [
    "def isSubseq(s1,s2,m,n):\n",
    "    if n == 0 :\n",
    "        return True\n",
    "    if m == 0 :\n",
    "        return False\n",
    "    if s1[m-1] == s2[n-1]:\n",
    "        return isSubseq(s1,s2,m-1,n-1)\n",
    "    else :\n",
    "        return isSubseq(s1,s2,m-1,n)\n",
    "    \n",
    "s1 = \"ABCD\"\n",
    "s2 = \"DBA\"\n",
    "m = len(s1)\n",
    "n = len(s2)\n",
    "isSubseq(s1,s2,m,n)\n",
    "\n",
    "# The time complexity is 𝑂(m * n) in the worst case"
   ]
  },
  {
   "cell_type": "markdown",
   "id": "aadc4668",
   "metadata": {},
   "source": [
    "| Step | Question to Ask Yourself     | Example (for subseq)                 |\n",
    "| ---- | ---------------------------- | ------------------------------------ |\n",
    "| 1    | What problem am I solving?   | Check if `s2` is subsequence of `s1` |\n",
    "| 2    | What changes each call?      | Lengths (`m`, `n`)                   |\n",
    "| 3    | What needs to be compared?   | Last characters                      |\n",
    "| 4    | When should I stop?          | If any string ends                   |\n",
    "| 5    | How do I reduce the problem? | Move indices backward                |\n"
   ]
  },
  {
   "cell_type": "markdown",
   "id": "4345920d",
   "metadata": {},
   "source": [
    "### Check for Anagram"
   ]
  },
  {
   "cell_type": "markdown",
   "id": "fc6ff56c",
   "metadata": {},
   "source": [
    "- The string appear in s1 should appear in string s2 and no of time it appear it also should same as s1\n",
    "- The order of occurences can any"
   ]
  },
  {
   "cell_type": "raw",
   "id": "b466dd47",
   "metadata": {},
   "source": [
    "I/P : s1 = \"listen\", s2 = \"silent\"\n",
    "O/P : Yes\n",
    "\n",
    "I/P : s1 = \"aacb\", s2 = \"acab\"\n",
    "O/P : Yes\n",
    "    \n",
    "I/P : s1 = \"aab\", s2 = \"abb\"\n",
    "O/P : No\n",
    "    \n",
    "I/P : s1 = \"axb\", s2 = \"aby\"\n",
    "O/P : No"
   ]
  },
  {
   "cell_type": "code",
   "execution_count": 3,
   "id": "227bdcd3",
   "metadata": {},
   "outputs": [],
   "source": [
    "def areAnagram(s1,s2):\n",
    "    if len(s1) == len(s2) :\n",
    "        return False\n",
    "    s1 = sorted(s1)\n",
    "    s2 = sorted(s2)\n",
    "    return(s1 == s2)\n",
    "\n",
    "## Time complexity is theta(nlogn) n is len of string and logn time for sorting \n",
    "## If the len of two strings are not equal then the time complexity is constant time theta(1) beacuse contsant operation"
   ]
  },
  {
   "cell_type": "code",
   "execution_count": 4,
   "id": "d1e7a6cd",
   "metadata": {},
   "outputs": [
    {
     "data": {
      "text/plain": [
       "True"
      ]
     },
     "execution_count": 4,
     "metadata": {},
     "output_type": "execute_result"
    }
   ],
   "source": [
    "def areAnagaram(s1,s2):\n",
    "    if len(s1) != len(s2):\n",
    "        return False\n",
    "    \n",
    "    count = [0] * 256\n",
    "    for i in range(len(s1)):\n",
    "        count[ord(s1[i])] += 1\n",
    "        count[ord(s2[i])] -= 1\n",
    "        \n",
    "    for x in count :\n",
    "        if x != 0:\n",
    "            return False\n",
    "    return True\n",
    "\n",
    "s1 = \"listen\"\n",
    "s2 = \"silent\"\n",
    "areAnagaram(s1,s2)\n",
    "\n",
    "## Time complexity is theta(n)"
   ]
  },
  {
   "cell_type": "markdown",
   "id": "ada61d17",
   "metadata": {},
   "source": [
    "### Leftmost Repeating Character"
   ]
  },
  {
   "cell_type": "raw",
   "id": "2d320e2a",
   "metadata": {},
   "source": [
    "I/P : str = \"geeksforgeeks\"\n",
    "O/P : O\n",
    "    \n",
    "I/P : str = \"abbcc\"\n",
    "O/P : 1\n",
    "    \n",
    "I/P : str = \"abcd\"\n",
    "O/P : -1"
   ]
  },
  {
   "cell_type": "code",
   "execution_count": 14,
   "id": "6f36b10f",
   "metadata": {},
   "outputs": [],
   "source": [
    "def leftmost(s):\n",
    "    for i in range(len(s)):\n",
    "        for j in range(i+1, len(s)):\n",
    "            if s[i] == s[j]:\n",
    "                return i\n",
    "    return -1"
   ]
  },
  {
   "cell_type": "code",
   "execution_count": 1,
   "id": "cc745f73",
   "metadata": {},
   "outputs": [
    {
     "name": "stdout",
     "output_type": "stream",
     "text": [
      "Most repeating character is: l\n"
     ]
    }
   ],
   "source": [
    "## Using Hashmaps\n",
    "\n",
    "def most_repeating_char(s) :\n",
    "    \n",
    "    freq = {}\n",
    "    \n",
    "    for ch in s :\n",
    "        freq[ch] = freq.get(ch,0) + 1\n",
    "        \n",
    "    max_count = 0\n",
    "    most_repeated = None\n",
    "    \n",
    "    for ch,count in freq.items() :\n",
    "        if count > max_count :\n",
    "            max_count = count\n",
    "            most_repeated = ch\n",
    "    return most_repeated\n",
    "\n",
    "\n",
    "s = \"mlpmpll\"\n",
    "result = most_repeating_char(s)\n",
    "print(\"Most repeating character is:\", result)\n",
    "\n",
    "## Time Complexity: O(n)\n",
    "## Space Complexity: O(k) (K is number of unique characters in dict)\n",
    "            "
   ]
  },
  {
   "cell_type": "code",
   "execution_count": 2,
   "id": "8c11872d",
   "metadata": {},
   "outputs": [],
   "source": [
    "## Hashmaps built in Function \n",
    "\n",
    "## Most Frequent character\n",
    "from collections import Counter\n",
    "\n",
    "def most_repeating_char(s):\n",
    "    # Counter automatically builds a frequency dictionary\n",
    "    freq = Counter(s)\n",
    "\n",
    "    # Find the character with the highest count\n",
    "    most_repeated = max(freq, key=freq.get)\n",
    "\n",
    "    return most_repeated\n",
    "\n",
    "# Example\n",
    "s = \"mlpmpll\"\n",
    "result = most_repeating_char(s)\n",
    "print(\"Most repeating character is:\", result)\n",
    "\n",
    "\n",
    "## Left most repeating character\n",
    "from collections import Counter\n",
    "\n",
    "def leftmost_most_repeating_char(s):\n",
    "    freq = Counter(s)\n",
    "    max_count = max(freq.values())  # find the maximum frequency\n",
    "\n",
    "    # Loop through string to pick first character with max frequency\n",
    "    for ch in s:\n",
    "        if freq[ch] == max_count:\n",
    "            return ch\n",
    "\n",
    "# Example\n",
    "s = \"mlpmpll\"\n",
    "result = leftmost_most_repeating_char(s)\n",
    "print(\"Leftmost most repeating character is:\", result)\n"
   ]
  },
  {
   "cell_type": "markdown",
   "id": "3c40f20e",
   "metadata": {},
   "source": [
    "`freq = OrderedDict()  \n",
    "for ch in s:  \n",
    "    freq[ch] = freq.get(ch, 0) + 1`\n",
    "    \n",
    "\n",
    "- You **still have to build the dictionary manually**:\n",
    "\n",
    "    - For each character `ch` in the string, you increment its count.\n",
    "\n",
    "- Unlike `Counter`, **OrderedDict doesn’t count automatically**.\n",
    "\n",
    "- After this loop, you have your frequency table in **insertion order**."
   ]
  },
  {
   "cell_type": "code",
   "execution_count": 4,
   "id": "e2d17e94",
   "metadata": {},
   "outputs": [
    {
     "name": "stdout",
     "output_type": "stream",
     "text": [
      "l\n"
     ]
    }
   ],
   "source": [
    "## Hashmaps built in Function \n",
    "## A dictionary that remembers the order items were inserted.\n",
    "## Useful if you need leftmost logic\n",
    "\n",
    "from collections import OrderedDict\n",
    "\n",
    "def leftmost_most_repeating_char(s):\n",
    "    freq = OrderedDict()\n",
    "    \n",
    "    for ch in s:\n",
    "        freq[ch] = freq.get(ch, 0) + 1\n",
    "\n",
    "    # Find max frequency\n",
    "    max_count = max(freq.values())\n",
    "\n",
    "    # The first key in OrderedDict with max frequency is leftmost\n",
    "    for ch, count in freq.items():\n",
    "        if count == max_count:\n",
    "            return ch\n",
    "\n",
    "# Example\n",
    "s = \"mlpmpll\"\n",
    "result = leftmost_most_repeating_char(s)\n",
    "print(result)  # Output: l\n",
    "\n",
    "\n"
   ]
  },
  {
   "cell_type": "markdown",
   "id": "6dc5ddce",
   "metadata": {},
   "source": [
    "#### Difference between `max(freq.values())` and `max(freq, key=freq.get)`\n",
    "\n",
    " 1️⃣ `max(freq.values())`\n",
    "- `freq.values()` gives all the values in the dictionary.\n",
    "- `max(freq.values())` returns **the largest value only**.\n",
    "\n",
    "2️⃣ `max(freq, key=freq.get)`\n",
    "- `max()` iterates over **all keys** in the dictionary.\n",
    "- `key=freq.get` means: **use the value for comparison**.\n",
    "- Returns the **key** with the maximum value.\n"
   ]
  },
  {
   "cell_type": "markdown",
   "id": "70bf3138",
   "metadata": {},
   "source": [
    "- But now we **don’t have to loop through the original string**, because OrderedDict preserves the **left-to-right order of first occurrence**.\n",
    "\n",
    "- The loop is over **unique characters only**, so it’s smaller — O(k) instead of O(n)."
   ]
  },
  {
   "cell_type": "markdown",
   "id": "9e67374a",
   "metadata": {},
   "source": [
    "**n** → length of the string (total characters)\n",
    "\n",
    "**k** → number of **unique characters** in the string\n",
    "(loop only over **unique characters** instead of the **whole string**.)\n",
    "\n",
    "- Always: k ≤ n, because the number of unique characters can’t exceed the total number of characters."
   ]
  },
  {
   "cell_type": "code",
   "execution_count": 3,
   "id": "2b61544d",
   "metadata": {},
   "outputs": [
    {
     "name": "stdout",
     "output_type": "stream",
     "text": [
      "1\n"
     ]
    }
   ],
   "source": [
    "CHAR = 256\n",
    "def leftmost(st) :\n",
    "    vis = [False] * CHAR\n",
    "    res = -1\n",
    "    for i in range(len(st)-1,-1,-1) :\n",
    "        if vis[ord(st[i])]==True :\n",
    "            res = i\n",
    "        else :\n",
    "            vis[ord(st[i])] = True\n",
    "    \n",
    "    return res\n",
    "        \n",
    "st = \"abccbdd\"\n",
    "print(leftmost(st))"
   ]
  },
  {
   "cell_type": "markdown",
   "id": "917df56d",
   "metadata": {},
   "source": [
    "### Leftmost Non-Repeating Character\n"
   ]
  },
  {
   "cell_type": "code",
   "execution_count": 22,
   "id": "e9baf1aa",
   "metadata": {},
   "outputs": [
    {
     "name": "stdout",
     "output_type": "stream",
     "text": [
      "0\n"
     ]
    }
   ],
   "source": [
    "CHAR = 256\n",
    "def nonRep(str):\n",
    "    Count = [0] * CHAR\n",
    "    for i in str:\n",
    "        Count[ord(i)] += 1\n",
    "    for i in range(len(str)):\n",
    "        if Count[ord(str[i])] == 1:\n",
    "            return i\n",
    "    return -1\n",
    "\n",
    "st = \"abccbd\"\n",
    "print(nonRep(st))"
   ]
  },
  {
   "cell_type": "code",
   "execution_count": 4,
   "id": "a875e63d",
   "metadata": {},
   "outputs": [
    {
     "name": "stdout",
     "output_type": "stream",
     "text": [
      "t\n"
     ]
    }
   ],
   "source": [
    "### Count Array\n",
    "\n",
    "def left_most_nonrepeating(s) :\n",
    "    if not s :\n",
    "        return True\n",
    "    count = [0] * 256\n",
    "    \n",
    "    for ch in s:\n",
    "        count[ord(ch)] += 1\n",
    "        \n",
    "    for ch in s:\n",
    "        if count[ord(ch)] == 1 :\n",
    "            return ch\n",
    "    return None \n",
    "\n",
    "s = \"leetcodll\"\n",
    "print(left_most_nonrepeating(s)) \n",
    "\n",
    "### Time: O(n) (loop through string twice)\n",
    "### Space: O(1) (256-size array is constant)"
   ]
  },
  {
   "cell_type": "code",
   "execution_count": null,
   "id": "26739023",
   "metadata": {},
   "outputs": [],
   "source": [
    "### Using Python Dictionary\n",
    "\n",
    "def leftmost_non_repeating(s):\n",
    "    freq = {}\n",
    "    \n",
    "    \n",
    "    for ch in s:\n",
    "        freq[ch] = freq.get(ch, 0) + 1\n",
    "    \n",
    "    \n",
    "    for ch in s:\n",
    "        if freq[ch] == 1:\n",
    "            return ch\n",
    "    return None\n",
    "\n",
    "s = \"leetcode\"\n",
    "print(leftmost_non_repeating(s))  \n",
    "\n",
    "### Time: O(n)\n",
    "### Space: O(n) (dictionary stores all characters)"
   ]
  },
  {
   "cell_type": "markdown",
   "id": "aa1c7b06",
   "metadata": {},
   "source": [
    "`.get(ch, 0)` → returns the current count of `ch` in `freq` (0 if it doesn’t exist yet).\n",
    "\n",
    "`+ 1` → increment the count by 1.\n",
    "\n",
    "This loop **runs once over the string**, so **O(n)** time.\n",
    "\n",
    "---\n",
    "\n",
    "`freq.get(ch, 0)`\n",
    "\n",
    "`.get(key, default)` is a **dictionary method**.\n",
    "\n",
    "**It checks if `ch` is already in the dictionary**:\n",
    "\n",
    "If `ch` exists → return its current value\n",
    "\n",
    "If `ch` does **not exist** → return `0` (the default value)\n"
   ]
  },
  {
   "cell_type": "raw",
   "id": "b1ea352a",
   "metadata": {},
   "source": [
    "## Example with bee\n",
    "\n",
    "freq = {}\n",
    "\n",
    "# first character 'b'\n",
    "freq['b'] = freq.get('b', 0) + 1  # 0 + 1 = 1 → freq = {'b': 1}\n",
    "\n",
    "# second character 'e'\n",
    "freq['e'] = freq.get('e', 0) + 1  # 0 + 1 = 1 → freq = {'b': 1, 'e': 1}\n",
    "\n",
    "# third character 'e' again\n",
    "freq['e'] = freq.get('e', 0) + 1  # 1 + 1 = 2 → freq = {'b': 1, 'e': 2}\n"
   ]
  },
  {
   "cell_type": "code",
   "execution_count": 1,
   "id": "aeff1eab",
   "metadata": {},
   "outputs": [
    {
     "name": "stdout",
     "output_type": "stream",
     "text": [
      "0\n"
     ]
    }
   ],
   "source": [
    "import sys\n",
    "CHAR = 256\n",
    "def nonRep(str):\n",
    "    fI = [-1] * CHAR\n",
    "    for i in range (len(str)):\n",
    "        if fI[ord(str[i])] == -1:\n",
    "            fI[ord(str[i])] = i\n",
    "        else:\n",
    "            fI[ord(str[i])] == -2\n",
    "            \n",
    "    res = sys.maxsize ## we are using maxsize that we can replace highest with lowest number occured\n",
    "    for i in range(CHAR):\n",
    "        if fI[i] >= 0:\n",
    "            res = min(res,fI[i])\n",
    "    if res == sys.maxsize:\n",
    "        return -1\n",
    "    else :\n",
    "        return res\n",
    "    \n",
    "st = \"accbda\"\n",
    "print(nonRep(st))      \n",
    "    "
   ]
  },
  {
   "cell_type": "markdown",
   "id": "9542bc2c",
   "metadata": {},
   "source": [
    "### Reverse words in a String "
   ]
  },
  {
   "cell_type": "raw",
   "id": "f17e00b4",
   "metadata": {},
   "source": [
    "I/P : str = \"welcome to gfg\"\n",
    "O/P : str = \"gfg to welcome\"\n",
    "    \n",
    "I/P : str = \"I love coding\"\n",
    "O/P : str = \"coding love I\"\n",
    "    \n",
    "I/P : str = \"abc\"\n",
    "O/P : str = \"abc\""
   ]
  },
  {
   "cell_type": "raw",
   "id": "23c38359",
   "metadata": {},
   "source": [
    "* Reverse the individual word \n",
    "* Reverse the whole string"
   ]
  },
  {
   "cell_type": "code",
   "execution_count": 7,
   "id": "570b3542",
   "metadata": {},
   "outputs": [
    {
     "name": "stdout",
     "output_type": "stream",
     "text": [
      "gfg to welcome\n"
     ]
    }
   ],
   "source": [
    "def reverse(s, b, e):\n",
    "    while b < e:\n",
    "        s[b], s[e] = s[e], s[b]\n",
    "        b += 1\n",
    "        e -= 1\n",
    "\n",
    "def reversewords(s):\n",
    "    s = list(s)  # Convert string to list for mutability\n",
    "    n = len(s)\n",
    "    b = 0\n",
    "    \n",
    "    for e in range(n):\n",
    "        if s[e] == ' ':  # Check for spaces, not empty strings\n",
    "            reverse(s, b, e-1)\n",
    "            b = e + 1\n",
    "\n",
    "    reverse(s, b, n-1)  # Reverse the last word\n",
    "    reverse(s, 0, n-1)  # Reverse the entire list of characters\n",
    "\n",
    "    return ''.join(s)  # Convert list back to string\n",
    "\n",
    "s = \"welcome to gfg\"\n",
    "result = reversewords(s)\n",
    "print(result)\n"
   ]
  },
  {
   "cell_type": "code",
   "execution_count": null,
   "id": "af150262",
   "metadata": {},
   "outputs": [],
   "source": []
  }
 ],
 "metadata": {
  "kernelspec": {
   "display_name": "Python 3 (ipykernel)",
   "language": "python",
   "name": "python3"
  },
  "language_info": {
   "codemirror_mode": {
    "name": "ipython",
    "version": 3
   },
   "file_extension": ".py",
   "mimetype": "text/x-python",
   "name": "python",
   "nbconvert_exporter": "python",
   "pygments_lexer": "ipython3",
   "version": "3.12.2"
  }
 },
 "nbformat": 4,
 "nbformat_minor": 5
}
