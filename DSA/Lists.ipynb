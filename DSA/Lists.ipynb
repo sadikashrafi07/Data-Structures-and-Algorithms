{
 "cells": [
  {
   "cell_type": "markdown",
   "id": "c571057d",
   "metadata": {},
   "source": [
    "## List in Python"
   ]
  },
  {
   "cell_type": "markdown",
   "id": "d85f6066",
   "metadata": {},
   "source": [
    "* A list is a collection of items which internally uses array data structure\n",
    "* List is dynamically sized array.It allows dynamically insert and delete items,It preallocates extra memory where insertions can happen faster\n",
    "* They are other ways to store the collection of items .list not only the container(tuples,set,dictionaries)\n",
    "* when we have different types operations,use different types of containers accordingly\n",
    "* In array everything is stored in contigious location\n",
    "* In ptyhon every variable or every member of list is actually reference\n",
    "* Array stores references this items l[10,20,\"GFG\",40,True] and these items are stored in different locations\n",
    "* These refereces must be stored in contiguous location because the underlying datastructure is array.but,the actual items might not be in a contigious locations"
   ]
  },
  {
   "cell_type": "markdown",
   "id": "c91bad96",
   "metadata": {},
   "source": [
    "#### Internal working of list\n",
    "- There is underlying data structure, which is contiguous block of memory which stores the references of items.when our list becomes full.The underlying block of memory is replaced with a larger block\n",
    "- Assumption: initially space for 10 items is allocated\n",
    "- First 10 items go easily. when we insert 11th item .In that case,the old block of memory will be deallocated and a new block of memory will be allocated of double the size,then n be inserted"
   ]
  },
  {
   "cell_type": "markdown",
   "id": "4f8a09dc",
   "metadata": {},
   "source": [
    "#### Digression on Equality\n",
    "- Consider the fallowing assignments   \n",
    "list1 = [1,3,5,7]   \n",
    "list2 = [1,3,5,7]  \n",
    "list3 = list2  \n",
    "* All three are equal but there is a difference\n",
    "1) list1 and list2 are two different lists with same values\n",
    "2) list2 and list3 are two names for the same list"
   ]
  },
  {
   "cell_type": "code",
   "execution_count": 3,
   "id": "3a1bd0d8",
   "metadata": {},
   "outputs": [
    {
     "name": "stdout",
     "output_type": "stream",
     "text": [
      "True\n",
      "True\n",
      "False\n",
      "True\n"
     ]
    }
   ],
   "source": [
    "list1 = [1, 3, 5, 7]\n",
    "list2 = [1, 3, 5, 7]\n",
    "list3 = list2\n",
    "\n",
    "print(list1 == list2)  \n",
    "print(list2 == list3)  \n",
    "print(list1 is list2)  \n",
    "print(list2 is list3)  \n"
   ]
  },
  {
   "cell_type": "markdown",
   "id": "1e7cbd4f",
   "metadata": {},
   "source": [
    "- x == y check if x and y have same value\n",
    "- x is y checks if x and y refers to the same object"
   ]
  },
  {
   "cell_type": "markdown",
   "id": "3f21273e",
   "metadata": {},
   "source": [
    "#### Concatenation\n",
    "- Like strings,lists can be glued together   \n",
    "- Note : \"+\" produces a new list  \n",
    "list1 = [1,3,5,7]     \n",
    "list1 = list2   \n",
    "list1 = list1 +[9]   \n",
    "- list 1 and list 2 no longer point to the same object\n"
   ]
  },
  {
   "cell_type": "markdown",
   "id": "1b46ccb8",
   "metadata": {},
   "source": [
    "#### Advantages\n",
    "* Random Access\n",
    "1. we can get ith element of list in constant time\n",
    "2. random access is not available in all containers ex: set, dictionaries\n",
    "* Cache Friendly\n",
    "1. There is concept called locality of reference .what a cpu does when they fetch an item they store the data in cache memory\n",
    "2. They also prefetch the nearby locations data, using locality of reference concept\n",
    "3. In case of lists or arrays ,these items are stored in contiguous locations, when we are traversing throuh a list there are very likely possible these references are already there in the cache\n",
    "4. cache messes are very less when we have contiguous location items\n",
    "\n",
    "#### Disadvantages\n",
    "- Insertion and deletion are slow\n",
    "- search is also slow for unsorted array"
   ]
  },
  {
   "cell_type": "markdown",
   "id": "9e4c80cb",
   "metadata": {},
   "source": [
    "#### Complexities\n",
    "- Time complexity of list,append operation is constant it's only appending at the end.simillarly,removing the last item which is pop operation is also constant time.\n",
    "- if we try to insert or remove the item at the middle that's going to take the linear time in the worst case\n",
    "- Overcoming by set {Insert,Delete,Search} operations"
   ]
  },
  {
   "cell_type": "markdown",
   "id": "63e8f533",
   "metadata": {},
   "source": [
    "#### List item access"
   ]
  },
  {
   "cell_type": "code",
   "execution_count": 1,
   "id": "42b4d2f7",
   "metadata": {},
   "outputs": [
    {
     "name": "stdout",
     "output_type": "stream",
     "text": [
      "[10, 20, 30, 40, 50]\n",
      "40\n",
      "20\n",
      "50\n",
      "40\n"
     ]
    }
   ],
   "source": [
    "l = [10, 20, 30, 40, 50]\n",
    "print(l)\n",
    "print(l[3])\n",
    "print(l[1])\n",
    "print(l[-1])\n",
    "print(l[-2])"
   ]
  },
  {
   "cell_type": "markdown",
   "id": "a0633a3b",
   "metadata": {},
   "source": [
    "#### Insert and search "
   ]
  },
  {
   "cell_type": "code",
   "execution_count": 2,
   "id": "1656743f",
   "metadata": {},
   "outputs": [
    {
     "name": "stdout",
     "output_type": "stream",
     "text": [
      "[10, 20, 30, 40, 50, 30]\n",
      "[10, 15, 20, 30, 40, 50, 30]\n",
      "True\n",
      "2\n",
      "3\n"
     ]
    }
   ],
   "source": [
    "l = [10, 20, 30, 40, 50]\n",
    "l.append(30)\n",
    "print(l)\n",
    "l.insert(1, 15)\n",
    "print(l)\n",
    "print(15 in l)\n",
    "print(l.count(30))\n",
    "print(l.index(30))\n"
   ]
  },
  {
   "cell_type": "markdown",
   "id": "ad345764",
   "metadata": {},
   "source": [
    "#### Removal of items"
   ]
  },
  {
   "cell_type": "code",
   "execution_count": 2,
   "id": "b1fe5404",
   "metadata": {},
   "outputs": [
    {
     "name": "stdout",
     "output_type": "stream",
     "text": [
      "[10, 30, 40, 50, 60, 70, 80]\n",
      "80\n",
      "[10, 30, 40, 50, 60, 70]\n",
      "40\n",
      "[10, 30, 50, 60, 70]\n",
      "[10, 50, 60, 70]\n",
      "[60, 70]\n"
     ]
    }
   ],
   "source": [
    "l = [10, 20, 30, 40, 50, 60, 70, 80]\n",
    "l.remove(20) # .remove  only  remove the value.\n",
    "print(l)\n",
    "print(l.pop()) # .pop return the removal item as output\n",
    "print(l)\n",
    "print(l.pop(2))\n",
    "print(l)\n",
    "del l[1]\n",
    "print(l)\n",
    "del l[0:2]\n",
    "print(l)"
   ]
  },
  {
   "cell_type": "markdown",
   "id": "34e3a077",
   "metadata": {},
   "source": [
    "#### Some general-purpose"
   ]
  },
  {
   "cell_type": "code",
   "execution_count": 4,
   "id": "31b73e2e",
   "metadata": {},
   "outputs": [
    {
     "name": "stdout",
     "output_type": "stream",
     "text": [
      "50\n",
      "10\n",
      "120\n",
      "[50, 20, 40, 10]\n",
      "[10, 20, 40, 50]\n"
     ]
    }
   ],
   "source": [
    "l=[10,40,20,50]\n",
    "print(max(l))\n",
    "print(min(l))\n",
    "print(sum(l))\n",
    "l.reverse()\n",
    "print(l)\n",
    "l.sort()\n",
    "print(l)\n"
   ]
  },
  {
   "cell_type": "code",
   "execution_count": 2,
   "id": "18633e69",
   "metadata": {},
   "outputs": [
    {
     "name": "stdout",
     "output_type": "stream",
     "text": [
      "Enter elements (Space-Separated): GEEKS FOR GEEKS\n",
      "The list is: ['GEEKS', 'FOR', 'GEEKS']\n"
     ]
    }
   ],
   "source": [
    "# input the list as string\n",
    "string = input(\"Enter elements (Space-Separated): \")\n",
    "\n",
    "# split the strings and store it to a list\n",
    "lst = string.split()  \n",
    "print('The list is:', lst)   # printing the list"
   ]
  },
  {
   "cell_type": "code",
   "execution_count": 2,
   "id": "095c8d65",
   "metadata": {},
   "outputs": [
    {
     "name": "stdout",
     "output_type": "stream",
     "text": [
      "Initial List: \n",
      "[1, 2, 3, 4]\n",
      "\n",
      "List after performing Extend Operation: \n",
      "[1, 2, 3, 4, 8, 'Geeks', 'Always']\n"
     ]
    }
   ],
   "source": [
    " ## extend(), this method is used to add multiple elements at the same time at the end of the list.\n",
    "# Creating a List\n",
    "List = [1, 2, 3, 4]\n",
    "print(\"Initial List: \")\n",
    "print(List)\n",
    "\n",
    "List.extend([8, 'Geeks', 'Always'])\n",
    "print(\"\\nList after performing Extend Operation: \")\n",
    "print(List)"
   ]
  },
  {
   "cell_type": "markdown",
   "id": "06f5dd13",
   "metadata": {},
   "source": [
    "### Average or mean of a list"
   ]
  },
  {
   "cell_type": "raw",
   "id": "134e7dd1",
   "metadata": {},
   "source": [
    "when we initialize the variable while using the loop? \n",
    "when we to tarck the result or store the track of result..\n",
    "- the roop runs by incrementing but when we want to keep the track of previous results we should initialize variable and store the result"
   ]
  },
  {
   "cell_type": "code",
   "execution_count": 2,
   "id": "4379d45f",
   "metadata": {},
   "outputs": [
    {
     "name": "stdout",
     "output_type": "stream",
     "text": [
      "30.0\n"
     ]
    }
   ],
   "source": [
    "def average(l):\n",
    "    sum = 0\n",
    "    for x in l:\n",
    "        sum = sum + x\n",
    "    n = len(l)\n",
    "    return sum/n\n",
    "\n",
    "l = [10, 40, 20, 50]\n",
    "print(average(l))\n",
    "        "
   ]
  },
  {
   "cell_type": "code",
   "execution_count": 4,
   "id": "1fc2c611",
   "metadata": {},
   "outputs": [
    {
     "name": "stdout",
     "output_type": "stream",
     "text": [
      "33.333333333333336\n"
     ]
    }
   ],
   "source": [
    "def average(l):\n",
    "    return sum(l)/len(l)\n",
    "\n",
    "l = [10, 40,50]\n",
    "print(average(l))"
   ]
  },
  {
   "cell_type": "markdown",
   "id": "baa518ab",
   "metadata": {},
   "source": [
    "### Separate Even or Odd"
   ]
  },
  {
   "cell_type": "code",
   "execution_count": 8,
   "id": "4d8399bc",
   "metadata": {},
   "outputs": [
    {
     "name": "stdout",
     "output_type": "stream",
     "text": [
      "Even numbers: [10, 40, 50, 76]\n",
      "Odd numbers: [33, 43, 31]\n"
     ]
    }
   ],
   "source": [
    "def separation(l):\n",
    "    even = []\n",
    "    odd = []\n",
    "    \n",
    "    for x in l:\n",
    "        if x % 2 == 0 :\n",
    "            even.append(x)\n",
    "        else :\n",
    "            odd.append(x)            \n",
    "    return even, odd  ## Afunction can return multiple values(it mainly becomes a tuple) and we get return value also a tuple\n",
    "\n",
    "\n",
    "l = [10, 40,50,33,43,76,31]\n",
    "even,odd = separation(l)  ## And we unpack a tuples and we can get a two values again . and These two values here are two lists\n",
    "print(\"Even numbers:\", even)\n",
    "print(\"Odd numbers:\", odd)"
   ]
  },
  {
   "cell_type": "markdown",
   "id": "a74b9aea",
   "metadata": {},
   "source": [
    "### Get Smaller Elements"
   ]
  },
  {
   "cell_type": "code",
   "execution_count": 3,
   "id": "4e7f896c",
   "metadata": {},
   "outputs": [
    {
     "name": "stdout",
     "output_type": "stream",
     "text": [
      "[10, 40, 33, 43, 31]\n"
     ]
    }
   ],
   "source": [
    "def small(l,n):\n",
    "    small = []\n",
    "    for x in l:\n",
    "        if x<n:\n",
    "            small.append(x)\n",
    "    return small\n",
    "    \n",
    "l = [10, 40,50,33,43,76,31]\n",
    "n=50\n",
    "print(small(l,n))"
   ]
  },
  {
   "cell_type": "markdown",
   "id": "4c21908a",
   "metadata": {},
   "source": [
    "### List Comprehension"
   ]
  },
  {
   "cell_type": "code",
   "execution_count": 2,
   "id": "4317cb11",
   "metadata": {},
   "outputs": [
    {
     "name": "stdout",
     "output_type": "stream",
     "text": [
      "[10, 40, 50, 76]\n"
     ]
    }
   ],
   "source": [
    "l = [10, 40,50,33,43,76,31]\n",
    "l1 = [x for x in l if x % 2 == 0]\n",
    "print(l1)"
   ]
  },
  {
   "cell_type": "code",
   "execution_count": 4,
   "id": "7bd68042",
   "metadata": {},
   "outputs": [
    {
     "name": "stdout",
     "output_type": "stream",
     "text": [
      "[10, 40, 33, 43, 31]\n"
     ]
    }
   ],
   "source": [
    "def getsmaller(l,x):\n",
    "    return[e for e in l if e < x]\n",
    "\n",
    "l = [10, 40,50,33,43,76,31]\n",
    "x=50\n",
    "print(getsmaller(l,x))"
   ]
  },
  {
   "cell_type": "code",
   "execution_count": 7,
   "id": "a18f4a19",
   "metadata": {},
   "outputs": [
    {
     "name": "stdout",
     "output_type": "stream",
     "text": [
      "Even numbers: [10, 40, 50, 76]\n",
      "Odd numbers: [33, 43, 31]\n"
     ]
    }
   ],
   "source": [
    "def evenodd(l): \n",
    "    even = [x for x in l if x % 2 == 0]\n",
    "    odd = [x for x in l if x % 2 != 0]\n",
    "    return even,odd\n",
    "    \n",
    "\n",
    "l = [10, 40,50,33,43,76,31]\n",
    "even,odd = evenodd(l)  ## And we unpack a tuples and we can get a two values again . and These two values here are two lists\n",
    "print(\"Even numbers:\", even)\n",
    "print(\"Odd numbers:\", odd)"
   ]
  },
  {
   "cell_type": "markdown",
   "id": "a735ac67",
   "metadata": {},
   "source": [
    "### Custom max val"
   ]
  },
  {
   "cell_type": "code",
   "execution_count": 8,
   "id": "e4648d13",
   "metadata": {},
   "outputs": [
    {
     "name": "stdout",
     "output_type": "stream",
     "text": [
      "[76]\n"
     ]
    }
   ],
   "source": [
    "def max_find(l):\n",
    "    temp = l.copy()\n",
    "    for x in l:\n",
    "        for e in temp[:]:\n",
    "            if x > e:\n",
    "                temp.remove(e)\n",
    "    return temp\n",
    "\n",
    "l = [10, 40, 50, 33, 43, 76, 31]\n",
    "print(max_find(l))\n"
   ]
  },
  {
   "cell_type": "code",
   "execution_count": 9,
   "id": "569171cd",
   "metadata": {},
   "outputs": [
    {
     "name": "stdout",
     "output_type": "stream",
     "text": [
      "76\n"
     ]
    }
   ],
   "source": [
    "def max_find(l):\n",
    "    max_value = l[0]\n",
    "    for x in l:\n",
    "        if x > max_value:\n",
    "            max_value = x\n",
    "    return max_value\n",
    "\n",
    "l = [10, 40, 50, 33, 43, 76, 31]\n",
    "print(max_find(l))\n"
   ]
  },
  {
   "cell_type": "code",
   "execution_count": 14,
   "id": "dddcbde4",
   "metadata": {},
   "outputs": [
    {
     "name": "stdout",
     "output_type": "stream",
     "text": [
      "76\n"
     ]
    }
   ],
   "source": [
    "### Simple Method\n",
    "\n",
    "def get_max(l):\n",
    "    for x in l:\n",
    "        for y in l:\n",
    "            if y > x:\n",
    "                break\n",
    "        else:\n",
    "            return x\n",
    "             \n",
    "    return none\n",
    "\n",
    "l = [10, 40, 50, 33, 43, 76, 31]\n",
    "print(get_max(l))\n",
    "\n",
    "### Time Complexity o(n^2)"
   ]
  },
  {
   "cell_type": "raw",
   "id": "881705a7",
   "metadata": {},
   "source": [
    "First Iteration (x = 10):\n",
    "\n",
    "Compare 10 with 10: 10 is not greater than 10, continue.\n",
    "Compare 10 with 40: 40 is greater than 10, break the inner loop.\n",
    "The function does not return 10 because the inner loop was broken.\n",
    "Second Iteration (x = 40):\n",
    "\n",
    "Compare 40 with 10: 10 is not greater than 40, continue.\n",
    "Compare 40 with 40: 40 is not greater than 40, continue.\n",
    "Compare 40 with 50: 50 is greater than 40, break the inner loop.\n",
    "The function does not return 40 because the inner loop was broken.\n",
    "Third Iteration (x = 50):\n",
    "\n",
    "Compare 50 with 10: 10 is not greater than 50, continue.\n",
    "Compare 50 with 40: 40 is not greater than 50, continue.\n",
    "Compare 50 with 50: 50 is not greater than 50, continue.\n",
    "Compare 50 with 33: 33 is not greater than 50, continue.\n",
    "Compare 50 with 43: 43 is not greater than 50, continue.\n",
    "Compare 50 with 76: 76 is greater than 50, break the inner loop.\n",
    "The function does not return 50 because the inner loop was broken.\n",
    "Fourth Iteration (x = 33):\n",
    "\n",
    "Compare 33 with 10: 10 is not greater than 33, continue.\n",
    "Compare 33 with 40: 40 is greater than 33, break the inner loop.\n",
    "The function does not return 33 because the inner loop was broken.\n",
    "Fifth Iteration (x = 43):\n",
    "\n",
    "Compare 43 with 10: 10 is not greater than 43, continue.\n",
    "Compare 43 with 40: 40 is not greater than 43, continue.\n",
    "Compare 43 with 50: 50 is greater than 43, break the inner loop.\n",
    "The function does not return 43 because the inner loop was broken.\n",
    "Sixth Iteration (x = 76):\n",
    "\n",
    "Compare 76 with 10: 10 is not greater than 76, continue.\n",
    "Compare 76 with 40: 40 is not greater than 76, continue.\n",
    "Compare 76 with 50: 50 is not greater than 76, continue.\n",
    "Compare 76 with 33: 33 is not greater than 76, continue.\n",
    "Compare 76 with 43: 43 is not greater than 76, continue.\n",
    "Compare 76 with 76: 76 is not greater than 76, continue.\n",
    "Compare 76 with 31: 31 is not greater than 76, continue.\n",
    "The inner loop was never broken, so 76 is returned as the maximum value.\n"
   ]
  },
  {
   "cell_type": "markdown",
   "id": "a6f8855b",
   "metadata": {},
   "source": [
    "The condition if y > x: checks if there is any element y in the list that is greater than the current element x.  \n",
    "If such an element y is found, the loop breaks, meaning x is not the maximum value."
   ]
  },
  {
   "cell_type": "code",
   "execution_count": 16,
   "id": "a08834c1",
   "metadata": {},
   "outputs": [
    {
     "name": "stdout",
     "output_type": "stream",
     "text": [
      "76\n"
     ]
    }
   ],
   "source": [
    "### Efficient solution\n",
    "\n",
    "def get_max(l):\n",
    "    if not l:\n",
    "        return None\n",
    "    else:\n",
    "        res = l[0]\n",
    "        for i in range(1,len(l)):\n",
    "            if l[i]>res:\n",
    "                res = l[i]\n",
    "        return res\n",
    "    \n",
    "l = [10, 40, 50, 33, 43, 76, 31]\n",
    "print(get_max(l))\n",
    "\n",
    "### Time Complexity o(n)\n",
    "### if not l: checks whether the list l is empty."
   ]
  },
  {
   "cell_type": "raw",
   "id": "c4c2b685",
   "metadata": {},
   "source": [
    "Let's follow the iterations for the list l = [10, 40, 50, 33, 43, 76, 31]:\n",
    "\n",
    "Initialization:\n",
    "\n",
    "The list l is not empty, so the function proceeds.\n",
    "res is initialized with the first element of the list: res = 10.\n",
    "First Iteration (i = 1, l[i] = 40):\n",
    "\n",
    "Compare 40 with res (currently 10).\n",
    "40 > 10, so res is updated to 40.\n",
    "Second Iteration (i = 2, l[i] = 50):\n",
    "\n",
    "Compare 50 with res (currently 40).\n",
    "50 > 40, so res is updated to 50.\n",
    "Third Iteration (i = 3, l[i] = 33):\n",
    "\n",
    "Compare 33 with res (currently 50).\n",
    "33 < 50, so res remains 50.\n",
    "Fourth Iteration (i = 4, l[i] = 43):\n",
    "\n",
    "Compare 43 with res (currently 50).\n",
    "43 < 50, so res remains 50.\n",
    "Fifth Iteration (i = 5, l[i] = 76):\n",
    "\n",
    "Compare 76 with res (currently 50).\n",
    "76 > 50, so res is updated to 76.\n",
    "Sixth Iteration (i = 6, l[i] = 31):\n",
    "\n",
    "Compare 31 with res (currently 76).\n",
    "31 < 76, so res remains 76.\n"
   ]
  },
  {
   "cell_type": "markdown",
   "id": "bdc886fa",
   "metadata": {},
   "source": [
    "### Second Largest Element in the list"
   ]
  },
  {
   "cell_type": "raw",
   "id": "8f39b749",
   "metadata": {},
   "source": [
    "I/P : arr = [] = [10,5,8,20]\n",
    "o/p : 10\n",
    "\n",
    "I/P : arr = [] = [20,10,20,8,12]\n",
    "o/p : 12\n",
    "\n",
    "I/P : arr = [] = [10,10,10]\n",
    "o/p : 10"
   ]
  },
  {
   "cell_type": "markdown",
   "id": "e0838421",
   "metadata": {},
   "source": [
    "#### Two Traversals"
   ]
  },
  {
   "cell_type": "code",
   "execution_count": 2,
   "id": "1150e6ec",
   "metadata": {},
   "outputs": [
    {
     "name": "stdout",
     "output_type": "stream",
     "text": [
      "50\n"
     ]
    }
   ],
   "source": [
    "def getMax(l):\n",
    "    res = l[0]\n",
    "    for i in range (1,len(l)):\n",
    "        if l[i] > res:\n",
    "            res = l[i]\n",
    "    return res\n",
    "\n",
    "def getSecMax(l):\n",
    "    if len(l) <= 1:    ## Case 1 : If there is one element or empty list \n",
    "        return None\n",
    "    lar = getMax(l)\n",
    "    slar = None\n",
    "    for x in l:\n",
    "        if x != lar:\n",
    "            if slar == None :    ## Case 2 : if there were only one element in list pointing x other than largest then it be slar\n",
    "                slar = x\n",
    "            else :\n",
    "                slar = max(slar,x)\n",
    "    return slar\n",
    "            \n",
    "\n",
    "l = [10, 40, 50, 33, 43, 76, 31]\n",
    "print(getSecMax(l))\n",
    "\n",
    "## Time Complexity theta(n)"
   ]
  },
  {
   "cell_type": "markdown",
   "id": "a47646ba",
   "metadata": {},
   "source": [
    "#### One Traversal [Efficient solution]"
   ]
  },
  {
   "cell_type": "code",
   "execution_count": 2,
   "id": "21ad715c",
   "metadata": {},
   "outputs": [
    {
     "name": "stdout",
     "output_type": "stream",
     "text": [
      "50\n"
     ]
    }
   ],
   "source": [
    "def getSecMax(l):\n",
    "    if len(l) <= 1:\n",
    "        return None\n",
    "    lar = l[0]\n",
    "    slar = None\n",
    "    for x in l[1:]:\n",
    "        if x > lar:\n",
    "            slar = lar  #Here we are slar is updating firt. reason is first if we upadate lar then the lar value be discarded\n",
    "            lar = x\n",
    "        elif x != lar:\n",
    "            if slar == None or slar < x :\n",
    "                slar = x\n",
    "    return slar\n",
    "\n",
    "l = [10, 40, 50, 33, 43, 76, 31]\n",
    "print(getSecMax(l))"
   ]
  },
  {
   "cell_type": "markdown",
   "id": "02415daf",
   "metadata": {},
   "source": [
    "### Check If list is Sorted or Not"
   ]
  },
  {
   "cell_type": "raw",
   "id": "1471aafe",
   "metadata": {},
   "source": [
    "I/P : = [10,20,30]\n",
    "o/p : Yes\n",
    "\n",
    "I/P : = [10,20,20,30]\n",
    "o/p : Yes\n",
    "\n",
    "I/P : = [10,5,2]\n",
    "o/p : No\n",
    "\n",
    "### Test Cases \n",
    "I/P : = [10]\n",
    "o/p : Yes\n",
    "\n",
    "I/P : = []\n",
    "o/p : Yes\n",
    "\n",
    "I/P : = [10,5,30]\n",
    "o/p : No"
   ]
  },
  {
   "cell_type": "code",
   "execution_count": 2,
   "id": "77b44a1e",
   "metadata": {},
   "outputs": [
    {
     "name": "stdout",
     "output_type": "stream",
     "text": [
      "False\n"
     ]
    }
   ],
   "source": [
    "def Check_Sort(l):\n",
    "    if len(l) <= 1:\n",
    "        return True\n",
    "    for i in range(len(l) - 1):\n",
    "        if l[i] > l[i + 1]:\n",
    "            return False\n",
    "    return True\n",
    "\n",
    "l = [10, 40, 50, 33, 43, 76, 31]\n",
    "res = Check_Sort(l)\n",
    "print(res)\n"
   ]
  },
  {
   "cell_type": "markdown",
   "id": "3afe4e06",
   "metadata": {},
   "source": [
    "#### Why len(l) - 1 is needed in check_sort?\n",
    "- The comparison l[i] > l[i+1] involves accessing the next element (l[i+1]).\n",
    "- If the loop ran up to len(l), the final iteration would attempt to access l[len(l)], which is out of bounds.\n",
    "- To prevent this, the loop stops at len(l) - 1 to ensure i+1 is always within range."
   ]
  },
  {
   "cell_type": "code",
   "execution_count": 3,
   "id": "acfafe8f",
   "metadata": {},
   "outputs": [
    {
     "name": "stdout",
     "output_type": "stream",
     "text": [
      "No\n"
     ]
    }
   ],
   "source": [
    "def isSorted(l):\n",
    "    i = 1\n",
    "    while i < len(l):\n",
    "        if l[i] < l[i-1]:\n",
    "            return False\n",
    "        i += 1\n",
    "    return True\n",
    "\n",
    "l = [10, 40, 50, 33, 43, 76, 31]\n",
    "if isSorted(l):\n",
    "    print(\"Yes\")\n",
    "else :\n",
    "    print(\"No\")"
   ]
  },
  {
   "cell_type": "raw",
   "id": "c2786c75",
   "metadata": {},
   "source": [
    "l[i] -> Current Element\n",
    "l[i+1] -> Next Element\n",
    "l[i-1] -> Previous Element"
   ]
  },
  {
   "cell_type": "code",
   "execution_count": 4,
   "id": "b553e752",
   "metadata": {},
   "outputs": [
    {
     "name": "stdout",
     "output_type": "stream",
     "text": [
      "No\n"
     ]
    }
   ],
   "source": [
    "def isSorted(l):\n",
    "    sl = sorted(l)\n",
    "    if sl == l:\n",
    "        return True\n",
    "    else:\n",
    "        return False\n",
    "    \n",
    "l = [10, 40, 50, 33, 43, 76, 31]\n",
    "if isSorted(l):\n",
    "    print(\"Yes\")\n",
    "else :\n",
    "    print(\"No\")"
   ]
  },
  {
   "cell_type": "markdown",
   "id": "63513588",
   "metadata": {},
   "source": [
    "#### Here Difference Between sort and sorted  \n",
    "- sort : It modifies the given list in sorted order\n",
    "- sorted : it creates the new list by sorting the given list  \n",
    "##### In the Same way:  \n",
    "- reverse : It modifies the given list in reverse order\n",
    "- reversed : it creates the new list by reversing the given list"
   ]
  },
  {
   "cell_type": "markdown",
   "id": "52d8ddd2",
   "metadata": {},
   "source": [
    "### Reverese a List in python"
   ]
  },
  {
   "cell_type": "raw",
   "id": "1f40ab5d",
   "metadata": {},
   "source": [
    "I/P : l = [10,20,30,40]\n",
    "o/p : [40,30,20,10]\n",
    "\n",
    "I/P : l = [\"geeks\",\"ide\",\"courses\"]\n",
    "o/p : [\"courses\",\"ide\",\"geeks\"]"
   ]
  },
  {
   "cell_type": "code",
   "execution_count": 3,
   "id": "d296178a",
   "metadata": {},
   "outputs": [
    {
     "name": "stdout",
     "output_type": "stream",
     "text": [
      "[31, 76, 43, 33, 50, 40, 10]\n"
     ]
    }
   ],
   "source": [
    "def reverse_list(l):\n",
    "    print(l[::-1])\n",
    "    \n",
    "l = [10, 40, 50, 33, 43, 76, 31]\n",
    "reverse_list(l)    \n",
    "\n",
    "#Thus, the overall time complexity of the reverse_list(l) function is:O(n)\n",
    "#Where n is the length of the list l."
   ]
  },
  {
   "cell_type": "code",
   "execution_count": 14,
   "id": "baa3ffac",
   "metadata": {},
   "outputs": [
    {
     "name": "stdout",
     "output_type": "stream",
     "text": [
      "[40, 30, 20, 10]\n"
     ]
    }
   ],
   "source": [
    "def reverse(l):\n",
    "    rev = []\n",
    "    for i in range(len(l) - 1, -1, -1):\n",
    "        rev.append(l[i])\n",
    "    return rev\n",
    "\n",
    "l = [10,20,30,40]\n",
    "print(reverse(l))"
   ]
  },
  {
   "cell_type": "markdown",
   "id": "0467bec9",
   "metadata": {},
   "source": [
    "- we are appending into the new initialized list so we required to write return statement for output"
   ]
  },
  {
   "cell_type": "code",
   "execution_count": 17,
   "id": "6fcf22a8",
   "metadata": {},
   "outputs": [
    {
     "name": "stdout",
     "output_type": "stream",
     "text": [
      "[40, 30, 20, 10]\n"
     ]
    }
   ],
   "source": [
    "def reverselist(l):\n",
    "    s = 0\n",
    "    e = len(l)-1\n",
    "    while s < e:\n",
    "        l[s],l[e] = l[e],l[s]\n",
    "        s += 1\n",
    "        e -= 1\n",
    "\n",
    "l = [10, 20, 30, 40]\n",
    "reverselist(l)\n",
    "print(l)  # Print the reversed list after modification\n",
    "\n",
    "# return l  # Return the reversed list\n",
    "# print(reverselist(l))  # This will print the reversed list directly"
   ]
  },
  {
   "cell_type": "markdown",
   "id": "fb9a3420",
   "metadata": {},
   "source": [
    "- we are modifying the list inplace so we choose the choice to not writing return statement. and after functioncall modification takes place then we can print the same list.."
   ]
  },
  {
   "cell_type": "markdown",
   "id": "0a22db7d",
   "metadata": {},
   "source": [
    "### Remove Duplicates from a Sorted array"
   ]
  },
  {
   "cell_type": "raw",
   "id": "559a0a9a",
   "metadata": {},
   "source": [
    "I/P : arr = [] = [10,20,20,30,30,30,30]\n",
    "    size =7\n",
    "o/p : [10,20,30]\n",
    "    size = 3\n",
    "\n",
    "I/P : arr = [] = [10,10,10]\n",
    "    size =3\n",
    "o/p : [10]\n",
    "    size = 1\n"
   ]
  },
  {
   "cell_type": "code",
   "execution_count": 3,
   "id": "9f847c78",
   "metadata": {},
   "outputs": [
    {
     "name": "stdout",
     "output_type": "stream",
     "text": [
      "[10, 20, 30]\n"
     ]
    }
   ],
   "source": [
    "def remdup(l):\n",
    "    res = 1\n",
    "    for i in range (1,len(l)):\n",
    "            if(l[res-1] != l[i]):\n",
    "                l[res] = l[i]\n",
    "                res += 1\n",
    "    return res\n",
    "\n",
    "\n",
    "l = [10,20,20,30,30,30,30]\n",
    "result = remdup(l)\n",
    "print(l[:result]) # Output the list up to the new length"
   ]
  },
  {
   "cell_type": "markdown",
   "id": "4529af03",
   "metadata": {},
   "source": [
    "##### Initial state:   \n",
    "l = [10, 20, 20, 30, 30, 30, 30]   \n",
    "res = 1\n",
    "  \n",
    "##### Iterations:   \n",
    " \n",
    "i = 1: l[res-1] = l[0] = 10, l[i] = l[1] = 20  \n",
    "10 != 20 → Place 20 at l[1], increment res to 2.  \n",
    "\n",
    "i = 2: l[res-1] = l[1] = 20, l[i] = l[2] = 20  \n",
    "20 == 20 → No action, continue.  \n",
    "\n",
    "i = 3: l[res-1] = l[1] = 20, l[i] = l[3] = 30  \n",
    "20 != 30 → Place 30 at l[2], increment res to 3.  \n",
    "\n",
    "i = 4, 5, 6: All comparisons result in no action since l[i] = 30.  \n",
    "\n",
    "##### Final state:  \n",
    "l = [10, 20, 30, 30, 30, 30, 30] (only the first 3 elements are relevant).  \n",
    "res = 3  \n"
   ]
  },
  {
   "cell_type": "code",
   "execution_count": 1,
   "id": "4a68e593",
   "metadata": {},
   "outputs": [
    {
     "name": "stdout",
     "output_type": "stream",
     "text": [
      "[10, 20, 30]\n"
     ]
    }
   ],
   "source": [
    "def remdup(l):\n",
    "    return list(dict.fromkeys(l))\n",
    "\n",
    "l = [10, 20, 20, 30, 30, 30, 30]\n",
    "print(remdup(l))\n",
    "\n",
    "\n",
    "## Time Complexity O(n): inserting `n` keys into a dict\n",
    "## Space Complexity O(n): dictionary + result list"
   ]
  },
  {
   "cell_type": "markdown",
   "id": "cc0921e3",
   "metadata": {},
   "source": [
    "`dict.fromkeys()` removes duplicates while preserving the **first occurrence order** (since Python 3.7+ dictionaries maintain insertion order)."
   ]
  },
  {
   "cell_type": "code",
   "execution_count": 3,
   "id": "f3a64a2f",
   "metadata": {},
   "outputs": [
    {
     "name": "stdout",
     "output_type": "stream",
     "text": [
      "[10, 20, 30]\n"
     ]
    }
   ],
   "source": [
    "def remdup(l):\n",
    "    res = []\n",
    "    for i in l:\n",
    "        if not res or res[-1] != i:\n",
    "            res.append(i)\n",
    "    return res\n",
    "\n",
    "l = [10, 20, 20, 30, 30, 30, 30]\n",
    "print(remdup(l))\n",
    "\n",
    "## Time Complexity: O(n) single traversal\n",
    "## Space Complexity: O(n) new list created for results"
   ]
  },
  {
   "cell_type": "markdown",
   "id": "c1afb7e2",
   "metadata": {},
   "source": [
    "- `not res` → means **if `res` is empty**, add the first element.\n",
    "\n",
    "- `res[-1]` → means **the last element** in the `res` list.\n",
    "\n",
    "- `res[-1] != i` → means **if the last added element is not the same** as the current one, it’s a new (non-duplicate) value."
   ]
  },
  {
   "cell_type": "markdown",
   "id": "5305096a",
   "metadata": {},
   "source": [
    "### Left Rotate a list by One"
   ]
  },
  {
   "cell_type": "raw",
   "id": "942cf36e",
   "metadata": {},
   "source": [
    "I/p : l = [10,20,30,40]\n",
    "o/p : l = [20,30,40,10]\n",
    "\n",
    "I/p : l = [1,2,3]\n",
    "o/p : l = [3,2,1]"
   ]
  },
  {
   "cell_type": "code",
   "execution_count": 30,
   "id": "b213d36f",
   "metadata": {},
   "outputs": [
    {
     "name": "stdout",
     "output_type": "stream",
     "text": [
      "[20, 30, 40, 10]\n",
      "[20, 30, 40, 10]\n"
     ]
    }
   ],
   "source": [
    "## Using Direct Methods\n",
    "\n",
    "### Method 1 Using List Slicing\n",
    "l = [10,20,30,40]\n",
    "l = l[1:]+l[0:1]\n",
    "print(l)\n",
    "\n",
    "### Method 2 Using Pop , Append Method\n",
    "l = [10,20,30,40]\n",
    "l.append(l.pop(0))\n",
    "print(l)"
   ]
  },
  {
   "cell_type": "code",
   "execution_count": 32,
   "id": "120d821f",
   "metadata": {},
   "outputs": [
    {
     "name": "stdout",
     "output_type": "stream",
     "text": [
      "[20, 30, 40, 10]\n"
     ]
    }
   ],
   "source": [
    "def rotateByOne(l):\n",
    "    n = len(l)\n",
    "    x = l[0]\n",
    "    for i in range(1,n):\n",
    "        l[i-1] = l[i]\n",
    "    l[n-1] = x\n",
    "    \n",
    "l = [10,20,30,40]\n",
    "rotateByOne(l)\n",
    "print(l)"
   ]
  },
  {
   "cell_type": "code",
   "execution_count": 4,
   "id": "ba800549",
   "metadata": {},
   "outputs": [
    {
     "name": "stdout",
     "output_type": "stream",
     "text": [
      "Rotated List: [30, 40, 50, 10, 20]\n"
     ]
    }
   ],
   "source": [
    "def rotateByD(l, d):\n",
    "    n = len(l)              # Step 1: Get the length of the list (n = 4)\n",
    "    d = d % n               # Step 2: Handle case when d > n. (e.g., d=6 → d=2)\n",
    "\n",
    "    temp = l[:d]            # Step 3: Store the first d elements (temp = [10, 20])\n",
    "\n",
    "    for i in range(d, n):   # Step 4: Shift remaining elements to the left\n",
    "        l[i - d] = l[i]     # Move l[2] → l[0], l[3] → l[1]\n",
    "\n",
    "    l[n - d:] = temp        # Step 5: Place the saved elements at the end\n",
    "                           # l[2:] = [10, 20]\n",
    "\n",
    "        \n",
    "l = [10, 20, 30, 40, 50]\n",
    "d = 2\n",
    "\n",
    "rotateByD(l, d)\n",
    "print(\"Rotated List:\", l)"
   ]
  },
  {
   "cell_type": "markdown",
   "id": "ff21107a",
   "metadata": {},
   "source": [
    "### Matrix QA"
   ]
  },
  {
   "cell_type": "code",
   "execution_count": 2,
   "id": "470b69d1",
   "metadata": {},
   "outputs": [],
   "source": [
    "matrix = [\n",
    "    [1, 2, 3],\n",
    "    [4, 5, 6],\n",
    "    [7, 8, 9]\n",
    "]\n"
   ]
  },
  {
   "cell_type": "markdown",
   "id": "7362f895",
   "metadata": {},
   "source": [
    "#### Reverse only columns (flip horizontally)"
   ]
  },
  {
   "cell_type": "code",
   "execution_count": 3,
   "id": "f380c8b0",
   "metadata": {},
   "outputs": [
    {
     "name": "stdout",
     "output_type": "stream",
     "text": [
      "[\n",
      "  [3, 2, 1]\n",
      "  [6, 5, 4]\n",
      "  [9, 8, 7]\n",
      "]\n"
     ]
    }
   ],
   "source": [
    "reversed_matrix = [row[::-1] for row in matrix]\n",
    "\n",
    "print(\"[\")\n",
    "for row in reversed_matrix:\n",
    "    print(\" \", row)\n",
    "print(\"]\")"
   ]
  },
  {
   "cell_type": "markdown",
   "id": "0726bc0d",
   "metadata": {},
   "source": [
    "#### Reverse only rows (flip vertically)"
   ]
  },
  {
   "cell_type": "code",
   "execution_count": 4,
   "id": "8a77d43f",
   "metadata": {},
   "outputs": [
    {
     "name": "stdout",
     "output_type": "stream",
     "text": [
      "[\n",
      "  [7, 8, 9]\n",
      "  [4, 5, 6]\n",
      "  [1, 2, 3]\n",
      "]\n"
     ]
    }
   ],
   "source": [
    "reversed_matrix =  matrix[::-1]\n",
    "\n",
    "print(\"[\")\n",
    "for row in reversed_matrix:\n",
    "    print(\" \", row)\n",
    "print(\"]\")"
   ]
  },
  {
   "cell_type": "markdown",
   "id": "b4b45bb9",
   "metadata": {},
   "source": [
    "#### Reverse Colums and Rows both"
   ]
  },
  {
   "cell_type": "code",
   "execution_count": 6,
   "id": "6952cc7d",
   "metadata": {},
   "outputs": [
    {
     "name": "stdout",
     "output_type": "stream",
     "text": [
      "[[9 8 7]\n",
      " [6 5 4]\n",
      " [3 2 1]]\n"
     ]
    }
   ],
   "source": [
    "import numpy as np\n",
    "reversed_matrix = [row[::-1] for row in matrix[::-1]]\n",
    "print(np.array(reversed_matrix))"
   ]
  },
  {
   "cell_type": "code",
   "execution_count": 7,
   "id": "0786c7fa",
   "metadata": {},
   "outputs": [
    {
     "name": "stdout",
     "output_type": "stream",
     "text": [
      "[[9 8 7]\n",
      " [6 5 4]\n",
      " [3 2 1]]\n"
     ]
    }
   ],
   "source": [
    "import numpy as np \n",
    "\n",
    "\n",
    "reversed_matrix = np.flip(matrix)\n",
    "print(reversed_matrix)"
   ]
  },
  {
   "cell_type": "markdown",
   "id": "0469d033",
   "metadata": {},
   "source": [
    "## Leet code"
   ]
  },
  {
   "cell_type": "raw",
   "id": "e512c7cf",
   "metadata": {},
   "source": [
    "Example 1:\n",
    "Input: nums = [2,7,11,15], target = 9\n",
    "Output: [0,1]\n",
    "Explanation: Because nums[0] + nums[1] == 9, we return [0, 1].\n",
    "\n",
    "Example 2:\n",
    "Input: nums = [3,2,4], target = 6\n",
    "Output: [1,2]\n",
    "\n",
    "Example 3:\n",
    "Input: nums = [3,3], target = 6\n",
    "Output: [0,1]"
   ]
  },
  {
   "cell_type": "code",
   "execution_count": 5,
   "id": "57295050",
   "metadata": {},
   "outputs": [
    {
     "name": "stdout",
     "output_type": "stream",
     "text": [
      "[0, 2]\n"
     ]
    }
   ],
   "source": [
    "class Solution(object):\n",
    "    def twoSum(self, nums, target):\n",
    "        # Dictionary to store the index of the numbers seen so far\n",
    "        num_to_index = {}\n",
    "        \n",
    "        for i, num in enumerate(nums):\n",
    "            # Calculate the complement needed to reach the target\n",
    "            complement = target - num\n",
    "            \n",
    "            # Check if the complement exists in the dictionary\n",
    "            if complement in num_to_index:\n",
    "                return [num_to_index[complement], i]\n",
    "            \n",
    "            # Store the current number with its index\n",
    "            num_to_index[num] = i\n",
    "\n",
    "            \n",
    "            \n",
    "nums = [3, 2, 3]\n",
    "target = 6\n",
    "solution = Solution()\n",
    "print(solution.twoSum(nums, target))  # Output: [0, 2]\n"
   ]
  },
  {
   "cell_type": "markdown",
   "id": "741901d1",
   "metadata": {},
   "source": [
    "The for loop will iterate over the list using enumerate(), which provides both the index (i) and the value (num) of each element in nums.   \n",
    "- i is the current index in the list.\n",
    "- num is the current value at index i."
   ]
  },
  {
   "cell_type": "code",
   "execution_count": 2,
   "id": "0bbc9813",
   "metadata": {},
   "outputs": [
    {
     "name": "stdout",
     "output_type": "stream",
     "text": [
      "Generated Password: -4Ulb[J\\I;V(\n"
     ]
    }
   ],
   "source": [
    "import random\n",
    "import string\n",
    "\n",
    "def generate_password(username, email, first_name, last_name):\n",
    "    while True:\n",
    "        # Define character pools\n",
    "        special_chars = \"!#$%&()*+,-./:;<=>?@[\\\\]_`{|}~\"\n",
    "        lower_case = string.ascii_lowercase\n",
    "        upper_case = string.ascii_uppercase\n",
    "        digits = string.digits\n",
    "        \n",
    "        # Ensure at least one character from each required category\n",
    "        password = [\n",
    "            random.choice(lower_case),\n",
    "            random.choice(upper_case),\n",
    "            random.choice(digits),\n",
    "            random.choice(special_chars),\n",
    "        ]\n",
    "        \n",
    "        # Fill the rest of the password to meet the length requirement\n",
    "        all_chars = lower_case + upper_case + digits + special_chars\n",
    "        password += random.choices(all_chars, k=random.randint(3, 8))  # Ensures total length between 7 and 12\n",
    "        \n",
    "        # Shuffle the password to avoid predictable patterns\n",
    "        random.shuffle(password)\n",
    "        password = ''.join(password)\n",
    "        \n",
    "        # Validate rules\n",
    "        if (7 <= len(password) <= 12 and\n",
    "            any(c.islower() for c in password) and\n",
    "            any(c.isupper() for c in password) and\n",
    "            any(c.isdigit() for c in password) and\n",
    "            any(c in special_chars for c in password) and\n",
    "            not any(password[i] == password[i+1] == password[i+2] for i in range(len(password) - 2)) and\n",
    "            username.lower() not in password.lower() and\n",
    "            email.lower() not in password.lower() and\n",
    "            first_name.lower() not in password.lower() and\n",
    "            last_name.lower() not in password.lower()):\n",
    "            return password\n",
    "\n",
    "# Example Usage\n",
    "username = \"Sadik\"\n",
    "email = \"sadikashrafi@example.com\"\n",
    "first_name = \"Sadik\"\n",
    "last_name = \"Ashrafi\"\n",
    "\n",
    "valid_password = generate_password(username, email, first_name, last_name)\n",
    "print(\"Generated Password:\", valid_password)\n"
   ]
  },
  {
   "cell_type": "code",
   "execution_count": null,
   "id": "4037fdac",
   "metadata": {},
   "outputs": [],
   "source": []
  }
 ],
 "metadata": {
  "kernelspec": {
   "display_name": "Python 3 (ipykernel)",
   "language": "python",
   "name": "python3"
  },
  "language_info": {
   "codemirror_mode": {
    "name": "ipython",
    "version": 3
   },
   "file_extension": ".py",
   "mimetype": "text/x-python",
   "name": "python",
   "nbconvert_exporter": "python",
   "pygments_lexer": "ipython3",
   "version": "3.12.2"
  }
 },
 "nbformat": 4,
 "nbformat_minor": 5
}
